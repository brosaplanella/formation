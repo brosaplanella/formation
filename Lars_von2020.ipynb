{
 "cells": [
  {
   "cell_type": "markdown",
   "id": "2bf3605d",
   "metadata": {},
   "source": [
    "# <center> Implementation of  [Lar vonn et. al. ](https://chemistry-europe.onlinelibrary.wiley.com/doi/full/10.1002/cssc.202000867) paper </center>"
   ]
  },
  {
   "cell_type": "markdown",
   "metadata": {},
   "source": [
    "\"The total current density is divided into two contributions: intercalation and SEI. $J_\\mathrm{total} = J_\\mathrm{int} + J_\\mathrm{SEI}$\n"
   ]
  },
  {
   "cell_type": "markdown",
   "metadata": {},
   "source": [
    "$\\begin{equation}\n",
    "   J_\\mathrm{total} = J_\\mathrm{int} + J_\\mathrm{SEI}  \\tag{3}\n",
    "\\end{equation}$\n",
    "\n",
    "$\\begin{equation}\n",
    "    J_\\mathrm{int} = 2 j_0 \\sinh{ \\left ( \\frac{F}{2RT} \\eta_{\\mathrm{int}} \\right ) },  \\tag{9}\n",
    "\\end{equation}$\n",
    "\n",
    "$\\begin{equation}\n",
    "    \\frac{\\text{d}c_s}{\\text{d}t} = - \\frac{a_n}{F} J_\\mathrm{int}  \\tag{12}\n",
    "\\end{equation}$\n",
    "\n",
    "$\\begin{equation}\n",
    "    \\frac{\\text{d}L_\\mathrm{SEI}}{\\text{d}t} = - \\frac{V_\\mathrm{SEI}}{F} J_\\mathrm{SEI}  \\tag{22}\n",
    "\\end{equation}$\n",
    "\n",
    "\n",
    "$\\begin{equation}\n",
    "     J_{\\mathrm{SEI}}=-j_{\\mathrm{SEI}, 0,0} e^{-\\alpha_{\\mathrm{SEI}} \\tilde{\\eta}_{\\mathrm{SEI}}} \\frac{1 \\pm \\frac{L_{\\text {app }}}{L_{\\text {mig }}}}{1 \\pm \\frac{L_{\\text {app }}}{L_{\\text {mig }}}+\\frac{L_{\\text {app }}}{L_{\\text {diff }}}},  \\tag{19}\n",
    " \\end{equation}$\n",
    " \n",
    "\n",
    " $$\n",
    "    L_{\\text {diff }}=\\frac{c_{\\mathrm{Li}, 0} D F}{j_{\\mathrm{SEl}, 0,0}} e^{-\\left(1-a_{\\mathrm{SE}}\\right) \\tilde{\\eta}_{\\mathrm{SEl}}},\n",
    "$$\n",
    "\n",
    "$$\n",
    "    L_{\\text {mig }}=\\frac{2 R T \\kappa_{\\mathrm{Li}^{+}, \\text {SEI }}}{F\\left|J_{\\text {int }}\\right|},\n",
    " $$\n",
    "\n",
    "$$\n",
    "    \\tilde{\\eta}_{\\mathrm{SEl}}=\\frac{F}{R T}\\left(\\eta_{\\mathrm{int}}+U_{0}+\\mu_{\\mathrm{Li}, 0} / F\\right),\n",
    "$$\n",
    "\n",
    "$$\n",
    "    \\eta_\\mathrm{int} = \\phi_s -  U_0 - \\mu_{\\mathrm{Li^+, SEI}},\n",
    "$$\n",
    "\n",
    "$$\n",
    "    U_{0}=\\left(\\frac{1.24-c_{\\mathrm{s}} / c_{\\mathrm{s}, \\max }}{1.16}\\right)^{2.92} \\mathrm{~V}\n",
    "$$\n",
    "\n",
    "\n",
    "$$\n",
    "    j_{0} = j_{0,0} \\sqrt{\\frac{c_s}{c_{s, max}}},\n",
    "$$"
   ]
  },
  {
   "cell_type": "markdown",
   "metadata": {},
   "source": [
    "We are trying two solve DAEs with (3,9, 12, 19, 22) for the variables $J_\\mathrm{int}, J_\\mathrm{SEI}, cs, L_\\mathrm{SEI}, \\eta_\\mathrm{int}$ with approperiate initial conditions. "
   ]
  },
  {
   "cell_type": "code",
   "execution_count": 55,
   "id": "b4e9becb",
   "metadata": {},
   "outputs": [],
   "source": [
    "import pybamm\n",
    "import numpy as np\n",
    "import matplotlib.pyplot as plt\n",
    "# import time\n",
    "# import scipy.sparse as sparse\n",
    "# pybamm.__version__"
   ]
  },
  {
   "cell_type": "markdown",
   "metadata": {},
   "source": [
    "Defining varaibles"
   ]
  },
  {
   "cell_type": "code",
   "execution_count": 56,
   "metadata": {},
   "outputs": [],
   "source": [
    "from pybamm import exp\n",
    "from pybamm import tanh\n",
    "\n",
    "cs = pybamm.Variable(\"concentration [mol.m-3]\")\n",
    "# J_int = pybamm.Variable(\"Intercalation current density [A.m-2]\")\n",
    "J_SEI = pybamm.Variable(\"SEI interfacial density [A.m-2]\")\n",
    "L_SEI = pybamm.Variable(\"Thickness of SEI [m]\")\n",
    "eta_int = pybamm.Variable(\"Overpotential [V]\")"
   ]
  },
  {
   "cell_type": "markdown",
   "metadata": {},
   "source": [
    "Define Model Parameters"
   ]
  },
  {
   "cell_type": "code",
   "execution_count": 57,
   "id": "7a975d44",
   "metadata": {},
   "outputs": [],
   "source": [
    "\n",
    "c_Li = pybamm.Parameter(\n",
    "    'Lithium atom reference concentration [mol.m-3]')  # 1 Lar\n",
    "alpha_SEI = pybamm.Parameter(\"alpha_SEI [-]\")  # 0.22 Lar\n",
    "j_SEI_0_0 = pybamm.Parameter(\n",
    "    'Initial SEI reaction exchange current density [A.m-2]')  # 7.04e-5 Lar\n",
    "T = pybamm.Parameter('Initial temperature [K]')  # 303 Lar\n",
    "R = pybamm.Parameter('Ideal gas constant [J.K-1.mol-1]')  # 8.314462618 Lar\n",
    "F = pybamm.Parameter(\"Faraday constant [C.mol-1]\")  # 96485 Lar\n",
    "cs_max = pybamm.Parameter(\n",
    "    \"maximum lithium ion concentration in electrode [mol.m-3]\")  # 3.16 lar\n",
    "v_SEI = pybamm.Parameter(\"Mean moler volume of SEI [m3.mol-1]\")  # 1.078e-5 Lar\n",
    "kappa_Li_SEI = pybamm.Parameter(\n",
    "    \"Lithium ion conductivity of the SEI [S.m-1]\")  # 1e-8 Lar\n",
    "mu_Li_0 = pybamm.Parameter(\n",
    "    \"Chemical reference potential of Li^0 [kJ.mol-1]\")  # 17.4 Lar\n",
    "L_app_0 = pybamm.Parameter(\"Reference apparent thickness  [nm]\")  # 0.05 Lar\n",
    "L_tun = pybamm.Parameter(\"typical tunning distance  [nm]\")  # 2.05 Lar\n",
    "U1 = pybamm.Parameter(\"Maximum Voltage during cycling [V]\")  # 1.2 Lar\n",
    "U2 = pybamm.Parameter(\"Minimum Voltage during cycling [V]\")  # 0.01 Lar\n",
    "j0_0 = pybamm.Parameter(\n",
    "    \"Butler-Volmer rate constant for intercalation [A.m-2]\")  # 6.4e-7 Lar\n",
    "D_Li = pybamm.Parameter(\n",
    "    \"Diffusion coefficient of Li atoms inside the SEI [m2.s-1]\")  # 1 × 10−15 Lar\n",
    "J_total = pybamm.Parameter(\"Current density [A.m-2]\")  # 0.1 Lar\n",
    "A_cb = pybamm.Parameter(\n",
    "    \"Surface area to volume ratio [m-1]\")  # 86.8 × 10^6 Lar\n",
    "L_SEI_0 = pybamm.Parameter(\"Initial thickness of SEI [m]\")  # 2e-9 Lar\n",
    "cs_0 = pybamm.Parameter(\"Initial concentration [mol.m-3]\")  # 0.01 Lar\n",
    "\n",
    "\n",
    "def U0(x):\n",
    "    return pybamm.FunctionParameter(\n",
    "        \"open circuit voltage OCV [V]\",\n",
    "        {\"Negative particle stoichiometry\": x},\n",
    "    )\n",
    "\n",
    "\n",
    "def OCP(sto):\n",
    "    u_eq = (\n",
    "        ((1.24 - sto)/1.16)**2.92\n",
    "    )\n",
    "    return u_eq"
   ]
  },
  {
   "cell_type": "markdown",
   "metadata": {},
   "source": [
    "Parameter values from Lars von Wedel 2020  https://doi.org/10.1016/j.jpowsour.2020.228923 suplementary material."
   ]
  },
  {
   "cell_type": "code",
   "execution_count": 58,
   "metadata": {},
   "outputs": [],
   "source": [
    "params = pybamm.ParameterValues(\n",
    "    {'Lithium atom reference concentration [mol.m-3]': 1,\n",
    "     \"alpha_SEI [-]\": 0.22,\n",
    "     'Initial SEI reaction exchange current density [A.m-2]': 7.04e-5,\n",
    "     'Initial temperature [K]': 303,\n",
    "     'Ideal gas constant [J.K-1.mol-1]': 8.314462618,\n",
    "     \"Faraday constant [C.mol-1]\": 96485,\n",
    "     \"maximum lithium ion concentration in electrode [mol.m-3]\": 30006,\n",
    "     \"Mean moler volume of SEI [m3.mol-1]\": 1.078e-5,\n",
    "     \"Lithium ion conductivity of the SEI [S.m-1]\": 1e-8,\n",
    "     \"Chemical reference potential of Li^0 [kJ.mol-1]\": 17.4e3,\n",
    "     \"Reference apparent thickness  [nm]\": 0.05e-9,\n",
    "     \"typical tunning distance  [nm]\": 2.05e-9,\n",
    "     \"Maximum Voltage during cycling [V]\": 1.2,\n",
    "     \"Minimum Voltage during cycling [V]\": 0.01,\n",
    "     \"Butler-Volmer rate constant for intercalation [A.m-2]\": 6.4e-7,\n",
    "     \"Diffusion coefficient of Li atoms inside the SEI [m2.s-1]\": 1e-15,\n",
    "     \"Surface area to volume ratio [m-1]\": 86.8e5,\n",
    "     \"Initial thickness of SEI [m]\": 2e-9,\n",
    "     \"open circuit voltage OCV [V]\": OCP,\n",
    "     \"Applied current [A]\": 0.1,\n",
    "     \"Current density [A.m-2]\": 0.1,\n",
    "     \"Initial concentration [mol.m-3]\": 0.01,\n",
    "\n",
    "     }\n",
    ")"
   ]
  },
  {
   "cell_type": "code",
   "execution_count": 59,
   "metadata": {},
   "outputs": [],
   "source": [
    "model = pybamm.lithium_ion.BaseModel()"
   ]
  },
  {
   "cell_type": "markdown",
   "metadata": {},
   "source": [
    "Defining variables of the model"
   ]
  },
  {
   "cell_type": "code",
   "execution_count": 60,
   "metadata": {},
   "outputs": [],
   "source": [
    "model.variables = {\n",
    "    \"concentration [mol.m-3]\": cs,\n",
    "    # \"Intercalation current density [A.m-2]\": J_int,\n",
    "    \"SEI interfacial density [A.m-2]\": J_SEI,\n",
    "    \"Thickness of SEI [m]\": L_SEI,\n",
    "    \"Overpotential [V]\": eta_int,\n",
    "\n",
    "}"
   ]
  },
  {
   "cell_type": "code",
   "execution_count": 61,
   "metadata": {},
   "outputs": [],
   "source": [
    "# from math import sinh\n",
    "\n",
    "eta_bar_SEI = F/(R*T) * (eta_int + U0(cs/cs_max) + mu_Li_0/F)\n",
    "L_diff = c_Li * D_Li * F / j_SEI_0_0 * pybamm.exp(-(1-alpha_SEI) * eta_bar_SEI)\n",
    "L_mig = (2 * R * T * kappa_Li_SEI)/(F*pybamm.AbsoluteValue(J_total - J_SEI))\n",
    "L_prime_app = L_SEI - L_tun\n",
    "L_app = L_prime_app / 2 + ((L_prime_app/2)**10 + L_app_0**2)**10\n",
    "\n",
    "\n",
    "model.algebraic = {\n",
    "    J_SEI: J_SEI + j_SEI_0_0 * pybamm.exp(-alpha_SEI * eta_bar_SEI) * (1 + L_app/L_mig)/(1 + L_app/L_mig + L_app/L_diff),\n",
    "    eta_int: (J_total - J_SEI) - 2*j0_0 * pybamm.sqrt(cs/cs_max) * pybamm.sinh(F/(2*R*T) * eta_int),\n",
    "}"
   ]
  },
  {
   "cell_type": "code",
   "execution_count": 62,
   "metadata": {},
   "outputs": [],
   "source": [
    "\n",
    "dcsdt = -A_cb*(J_total - J_SEI)/F\n",
    "dL_SEIdt = - v_SEI * J_SEI / F\n",
    "\n",
    "\n",
    "model.rhs = {cs: dcsdt, L_SEI: dL_SEIdt}"
   ]
  },
  {
   "cell_type": "code",
   "execution_count": 63,
   "metadata": {},
   "outputs": [],
   "source": [
    "model.initial_conditions = {\n",
    "    J_SEI: j_SEI_0_0,\n",
    "    cs: 100,\n",
    "    L_SEI: L_SEI_0,\n",
    "    eta_int: 0.0,\n",
    "}"
   ]
  },
  {
   "cell_type": "code",
   "execution_count": 64,
   "metadata": {},
   "outputs": [
    {
     "name": "stderr",
     "output_type": "stream",
     "text": [
      "CasADi - 2023-11-15 17:24:18 WARNING(\"roots:g failed: Inf detected for output x, at (row 1, col 0).\") [.../casadi/core/oracle_function.cpp:326]\n",
      "CasADi - 2023-11-15 17:24:18 WARNING(\"roots:g failed: Inf detected for output x, at (row 1, col 0).\") [.../casadi/core/oracle_function.cpp:326]\n",
      "CasADi - 2023-11-15 17:24:18 WARNING(\"roots:g failed: Inf detected for output x, at (row 1, col 0).\") [.../casadi/core/oracle_function.cpp:326]\n",
      "CasADi - 2023-11-15 17:24:18 WARNING(\"roots:g failed: Inf detected for output x, at (row 1, col 0).\") [.../casadi/core/oracle_function.cpp:326]\n",
      "CasADi - 2023-11-15 17:24:18 WARNING(\"roots:g failed: Inf detected for output x, at (row 1, col 0).\") [.../casadi/core/oracle_function.cpp:326]\n",
      "CasADi - 2023-11-15 17:24:18 WARNING(\"roots:g failed: Inf detected for output x, at (row 1, col 0).\") [.../casadi/core/oracle_function.cpp:326]\n",
      "CasADi - 2023-11-15 17:24:18 WARNING(\"roots:g failed: Inf detected for output x, at (row 1, col 0).\") [.../casadi/core/oracle_function.cpp:326]\n",
      "CasADi - 2023-11-15 17:24:18 WARNING(\"roots:g failed: Inf detected for output x, at (row 1, col 0).\") [.../casadi/core/oracle_function.cpp:326]\n",
      "CasADi - 2023-11-15 17:24:18 WARNING(\"roots:g failed: Inf detected for output x, at (row 1, col 0).\") [.../casadi/core/oracle_function.cpp:326]\n",
      "CasADi - 2023-11-15 17:24:18 WARNING(\"roots:g failed: Inf detected for output x, at (row 1, col 0).\") [.../casadi/core/oracle_function.cpp:326]\n",
      "CasADi - 2023-11-15 17:24:18 WARNING(\"roots:g failed: Inf detected for output x, at (row 1, col 0).\") [.../casadi/core/oracle_function.cpp:326]\n",
      "\n",
      "[IDAS ERROR]  IDASolve\n",
      "  At t = 11.1158, , mxstep steps taken before reaching tout.\n",
      "\n"
     ]
    },
    {
     "ename": "SolverError",
     "evalue": "idaklu solver failed",
     "output_type": "error",
     "traceback": [
      "\u001b[0;31m---------------------------------------------------------------------------\u001b[0m",
      "\u001b[0;31mSolverError\u001b[0m                               Traceback (most recent call last)",
      "\u001b[1;32m/home/kawamanmi/PyBaMM/formation/Lars_von2020 copy.ipynb Cell 18\u001b[0m line \u001b[0;36m1\n\u001b[1;32m      <a href='vscode-notebook-cell://wsl%2Bubuntu-22.04/home/kawamanmi/PyBaMM/formation/Lars_von2020%20copy.ipynb#X43sdnNjb2RlLXJlbW90ZQ%3D%3D?line=7'>8</a>\u001b[0m \u001b[39m# start_time = time.time()\u001b[39;00m\n\u001b[1;32m      <a href='vscode-notebook-cell://wsl%2Bubuntu-22.04/home/kawamanmi/PyBaMM/formation/Lars_von2020%20copy.ipynb#X43sdnNjb2RlLXJlbW90ZQ%3D%3D?line=8'>9</a>\u001b[0m sim \u001b[39m=\u001b[39m pybamm\u001b[39m.\u001b[39mSimulation(\n\u001b[1;32m     <a href='vscode-notebook-cell://wsl%2Bubuntu-22.04/home/kawamanmi/PyBaMM/formation/Lars_von2020%20copy.ipynb#X43sdnNjb2RlLXJlbW90ZQ%3D%3D?line=9'>10</a>\u001b[0m     model, parameter_values\u001b[39m=\u001b[39mparams, solver\u001b[39m=\u001b[39msolver)\n\u001b[0;32m---> <a href='vscode-notebook-cell://wsl%2Bubuntu-22.04/home/kawamanmi/PyBaMM/formation/Lars_von2020%20copy.ipynb#X43sdnNjb2RlLXJlbW90ZQ%3D%3D?line=10'>11</a>\u001b[0m solution \u001b[39m=\u001b[39m sim\u001b[39m.\u001b[39;49msolve([\u001b[39m0\u001b[39;49m, \u001b[39m100\u001b[39;49m])\n",
      "File \u001b[0;32m~/PyBaMM/env/lib/python3.10/site-packages/pybamm/simulation.py:596\u001b[0m, in \u001b[0;36mSimulation.solve\u001b[0;34m(self, t_eval, solver, check_model, save_at_cycles, calc_esoh, starting_solution, initial_soc, callbacks, showprogress, **kwargs)\u001b[0m\n\u001b[1;32m    581\u001b[0m             \u001b[39mif\u001b[39;00m dt_eval_max \u001b[39m>\u001b[39m dt_data_min \u001b[39m+\u001b[39m sys\u001b[39m.\u001b[39mfloat_info\u001b[39m.\u001b[39mepsilon:\n\u001b[1;32m    582\u001b[0m                 warnings\u001b[39m.\u001b[39mwarn(\n\u001b[1;32m    583\u001b[0m \u001b[39m                    \u001b[39m\u001b[39m\"\"\"\u001b[39;00m\n\u001b[1;32m    584\u001b[0m \u001b[39m                    The largest timestep in t_eval ({}) is larger than\u001b[39;00m\n\u001b[0;32m   (...)\u001b[0m\n\u001b[1;32m    593\u001b[0m                     pybamm\u001b[39m.\u001b[39mSolverWarning,\n\u001b[1;32m    594\u001b[0m                 )\n\u001b[0;32m--> 596\u001b[0m     \u001b[39mself\u001b[39m\u001b[39m.\u001b[39m_solution \u001b[39m=\u001b[39m solver\u001b[39m.\u001b[39;49msolve(\u001b[39mself\u001b[39;49m\u001b[39m.\u001b[39;49mbuilt_model, t_eval, \u001b[39m*\u001b[39;49m\u001b[39m*\u001b[39;49mkwargs)\n\u001b[1;32m    598\u001b[0m \u001b[39melif\u001b[39;00m \u001b[39mself\u001b[39m\u001b[39m.\u001b[39moperating_mode \u001b[39m==\u001b[39m \u001b[39m\"\u001b[39m\u001b[39mwith experiment\u001b[39m\u001b[39m\"\u001b[39m:\n\u001b[1;32m    599\u001b[0m     callbacks\u001b[39m.\u001b[39mon_experiment_start(logs)\n",
      "File \u001b[0;32m~/PyBaMM/env/lib/python3.10/site-packages/pybamm/solvers/base_solver.py:856\u001b[0m, in \u001b[0;36mBaseSolver.solve\u001b[0;34m(self, model, t_eval, inputs, initial_conditions, nproc, calculate_sensitivities)\u001b[0m\n\u001b[1;32m    854\u001b[0m ninputs \u001b[39m=\u001b[39m \u001b[39mlen\u001b[39m(model_inputs_list)\n\u001b[1;32m    855\u001b[0m \u001b[39mif\u001b[39;00m ninputs \u001b[39m==\u001b[39m \u001b[39m1\u001b[39m:\n\u001b[0;32m--> 856\u001b[0m     new_solution \u001b[39m=\u001b[39m \u001b[39mself\u001b[39;49m\u001b[39m.\u001b[39;49m_integrate(\n\u001b[1;32m    857\u001b[0m         model,\n\u001b[1;32m    858\u001b[0m         t_eval[start_index:end_index],\n\u001b[1;32m    859\u001b[0m         model_inputs_list[\u001b[39m0\u001b[39;49m],\n\u001b[1;32m    860\u001b[0m     )\n\u001b[1;32m    861\u001b[0m     new_solutions \u001b[39m=\u001b[39m [new_solution]\n\u001b[1;32m    862\u001b[0m \u001b[39melse\u001b[39;00m:\n",
      "File \u001b[0;32m~/PyBaMM/env/lib/python3.10/site-packages/pybamm/solvers/idaklu_solver.py:602\u001b[0m, in \u001b[0;36mIDAKLUSolver._integrate\u001b[0;34m(self, model, t_eval, inputs_dict)\u001b[0m\n\u001b[1;32m    600\u001b[0m     \u001b[39mreturn\u001b[39;00m sol\n\u001b[1;32m    601\u001b[0m \u001b[39melse\u001b[39;00m:\n\u001b[0;32m--> 602\u001b[0m     \u001b[39mraise\u001b[39;00m pybamm\u001b[39m.\u001b[39mSolverError(\u001b[39m\"\u001b[39m\u001b[39midaklu solver failed\u001b[39m\u001b[39m\"\u001b[39m)\n",
      "\u001b[0;31mSolverError\u001b[0m: idaklu solver failed"
     ]
    }
   ],
   "source": [
    "params.process_model(model)\n",
    "disc = pybamm.Discretisation()  # use the default discretisation\n",
    "disc.process_model(model)\n",
    "\n",
    "solver = pybamm.IDAKLUSolver()\n",
    "\n",
    "\n",
    "# start_time = time.time()\n",
    "sim = pybamm.Simulation(\n",
    "    model, parameter_values=params, solver=solver)\n",
    "solution = sim.solve([0, 100])"
   ]
  },
  {
   "cell_type": "code",
   "execution_count": null,
   "metadata": {},
   "outputs": [
    {
     "data": {
      "text/plain": [
       "array([1000.        ,  990.91291209,  981.82582418,  972.73873628,\n",
       "        963.65164837,  954.56456046,  945.47747255,  936.39038465,\n",
       "        927.30329674,  918.21620883,  909.12912092,  900.04203302,\n",
       "        890.95494511,  881.8678572 ,  872.78076929,  863.69368139,\n",
       "        854.60659348,  845.51950557,  836.43241766,  827.34532976,\n",
       "        818.25824185,  809.17115394,  800.08406603,  790.99697812,\n",
       "        781.90989022,  772.82280231,  763.7357144 ,  754.64862649,\n",
       "        745.56153859,  736.47445068,  727.38736277,  718.30027486,\n",
       "        709.21318696,  700.12609905,  691.03901114,  681.95192323,\n",
       "        672.86483533,  663.77774742,  654.69065951,  645.6035716 ,\n",
       "        636.51648369,  627.42939579,  618.34230788,  609.25521997,\n",
       "        600.16813206,  591.08104416,  581.99395625,  572.90686834,\n",
       "        563.81978043,  554.73269253,  545.64560462,  536.55851671,\n",
       "        527.4714288 ,  518.3843409 ,  509.29725299,  500.21016508,\n",
       "        491.12307717,  482.03598927,  472.94890136,  463.86181345,\n",
       "        454.77472554,  445.68763763,  436.60054973,  427.51346182,\n",
       "        418.42637391,  409.339286  ,  400.2521981 ,  391.16511019,\n",
       "        382.07802228,  372.99093437,  363.90384647,  354.81675856,\n",
       "        345.72967065,  336.64258274,  327.55549484,  318.46840693,\n",
       "        309.38131902,  300.29423111,  291.2071432 ,  282.1200553 ,\n",
       "        273.03296739,  263.94587948,  254.85879157,  245.77170367,\n",
       "        236.68461576,  227.59752785,  218.51043994,  209.42335204,\n",
       "        200.33626413,  191.24917622,  182.16208831,  173.07500041,\n",
       "        163.9879125 ,  154.90082459,  145.81373668,  136.72664878,\n",
       "        127.63956087,  118.55247296,  109.46538505,  100.37829714])"
      ]
     },
     "execution_count": 23,
     "metadata": {},
     "output_type": "execute_result"
    }
   ],
   "source": [
    "solution[\"concentration [mol.m-3]\"].entries"
   ]
  },
  {
   "cell_type": "code",
   "execution_count": null,
   "metadata": {},
   "outputs": [],
   "source": []
  }
 ],
 "metadata": {
  "kernelspec": {
   "display_name": "Python 3 (ipykernel)",
   "language": "python",
   "name": "python3"
  },
  "language_info": {
   "codemirror_mode": {
    "name": "ipython",
    "version": 3
   },
   "file_extension": ".py",
   "mimetype": "text/x-python",
   "name": "python",
   "nbconvert_exporter": "python",
   "pygments_lexer": "ipython3",
   "version": "3.10.12"
  }
 },
 "nbformat": 4,
 "nbformat_minor": 5
}
