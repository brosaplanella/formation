{
 "cells": [
  {
   "cell_type": "markdown",
   "id": "2bf3605d",
   "metadata": {},
   "source": [
    "# <center> Implementation of  [Lar vonn et. al. ](https://chemistry-europe.onlinelibrary.wiley.com/doi/full/10.1002/cssc.202000867) paper </center>"
   ]
  },
  {
   "cell_type": "markdown",
   "metadata": {},
   "source": [
    "\"The total current density is divided into two contributions: intercalation and SEI. $J_\\mathrm{total} = J_\\mathrm{int} + J_\\mathrm{SEI}$\n"
   ]
  },
  {
   "cell_type": "markdown",
   "metadata": {},
   "source": [
    "$\\begin{equation}\n",
    "   J_\\mathrm{total} = J_\\mathrm{int} + J_\\mathrm{SEI}  \\tag{3}\n",
    "\\end{equation}$\n",
    "\n",
    "$\\begin{equation}\n",
    "    J_\\mathrm{int} = 2 j_0 \\sinh{ \\left ( \\frac{F}{2RT} \\eta_{\\mathrm{int}} \\right ) },  \\tag{9}\n",
    "\\end{equation}$\n",
    "\n",
    "$\\begin{equation}\n",
    "    \\frac{\\text{d}c_s}{\\text{d}t} = - \\frac{a_n}{F} J_\\mathrm{int}  \\tag{12}\n",
    "\\end{equation}$\n",
    "\n",
    "$\\begin{equation}\n",
    "    \\frac{\\text{d}L_\\mathrm{SEI}}{\\text{d}t} = - \\frac{V_\\mathrm{SEI}}{F} J_\\mathrm{SEI}  \\tag{22}\n",
    "\\end{equation}$\n",
    "\n",
    "\n",
    "$\\begin{equation}\n",
    "     J_{\\mathrm{SEI}}=-j_{\\mathrm{SEI}, 0,0} e^{-\\alpha_{\\mathrm{SEI}} \\tilde{\\eta}_{\\mathrm{SEI}}} \\frac{1 \\pm \\frac{L_{\\text {app }}}{L_{\\text {mig }}}}{1 \\pm \\frac{L_{\\text {app }}}{L_{\\text {mig }}}+\\frac{L_{\\text {app }}}{L_{\\text {diff }}}},  \\tag{19}\n",
    " \\end{equation}$\n",
    " \n",
    "\n",
    "<span style=\"color:yellow\"> We can substitute (9) and (19) into (3), (12), and (22).</span> This results in a Differential Algebraic Equation (DAE) for the variables  $cs, L_\\mathrm{SEI}$, and $\\eta_\\mathrm{int}$. \n",
    "\n",
    "where\n",
    "\n",
    "\n",
    "$$\n",
    "    L_{\\text {diff }}=\\frac{c_{\\mathrm{Li}, 0} D F}{j_{\\mathrm{SEl}, 0,0}} e^{-\\left(1-a_{\\mathrm{SE}}\\right) \\tilde{\\eta}_{\\mathrm{SEl}}},\n",
    "$$\n",
    "\n",
    "$$\n",
    "    L_{\\text {mig }}=\\frac{2 R T \\kappa_{\\mathrm{Li}^{+}, \\text {SEI }}}{F\\left|J_{\\text {int }}\\right|},\n",
    " $$\n",
    "\n",
    "$$\n",
    "    \\tilde{\\eta}_{\\mathrm{SEl}}=\\frac{F}{R T}\\left(\\eta_{\\mathrm{int}}+U_{0}+\\mu_{\\mathrm{Li}, 0} / F\\right),\n",
    "$$\n",
    "\n",
    "$$\n",
    "    \\eta_\\mathrm{int} = \\phi_s -  U_0 - \\mu_{\\mathrm{Li^+, SEI}},\n",
    "$$\n",
    "\n",
    "$$\n",
    "    U_{0}=\\left(\\frac{1.24-c_{\\mathrm{s}} / c_{\\mathrm{s}, \\max }}{1.16}\\right)^{2.92}\n",
    "$$\n",
    "\n",
    "\n",
    "$$\n",
    "    j_{0} = j_{0,0} \\sqrt{\\frac{c_s}{c_{s, max}}},\n",
    "$$"
   ]
  },
  {
   "cell_type": "code",
   "execution_count": 449,
   "id": "b4e9becb",
   "metadata": {},
   "outputs": [],
   "source": [
    "import pybamm\n",
    "import numpy as np\n",
    "import matplotlib.pyplot as plt\n",
    "# import time\n",
    "# import scipy.sparse as sparse\n",
    "# pybamm.__version__"
   ]
  },
  {
   "cell_type": "markdown",
   "metadata": {},
   "source": [
    "Defining varaibles"
   ]
  },
  {
   "cell_type": "code",
   "execution_count": 450,
   "metadata": {},
   "outputs": [],
   "source": [
    "\n",
    "cs = pybamm.Variable(\"concentration [mol.m-3]\")\n",
    "L_SEI = pybamm.Variable(\"Thickness of SEI [m]\")\n",
    "eta_int = pybamm.Variable(\"Overpotential [V]\")"
   ]
  },
  {
   "cell_type": "markdown",
   "metadata": {},
   "source": [
    "Define Model Parameters"
   ]
  },
  {
   "cell_type": "code",
   "execution_count": 451,
   "id": "7a975d44",
   "metadata": {},
   "outputs": [],
   "source": [
    "\n",
    "c_Li = pybamm.Parameter(\n",
    "    'Lithium atom reference concentration [mol.m-3]')\n",
    "alpha_SEI = pybamm.Parameter(\"alpha_SEI [-]\")\n",
    "j_SEI_0_0 = pybamm.Parameter(\n",
    "    'Initial SEI reaction exchange current density [A.m-2]')\n",
    "T = pybamm.Parameter('Initial temperature [K]')\n",
    "R = pybamm.Parameter('Ideal gas constant [J.K-1.mol-1]')\n",
    "F = pybamm.Parameter(\"Faraday constant [C.mol-1]\")\n",
    "cs_max = pybamm.Parameter(\n",
    "    \"maximum lithium ion concentration in electrode [mol.m-3]\")\n",
    "v_SEI = pybamm.Parameter(\"Mean moler volume of SEI [m3.mol-1]\")\n",
    "kappa_Li_SEI = pybamm.Parameter(\n",
    "    \"Lithium ion conductivity of the SEI [S.m-1]\")\n",
    "mu_Li_0 = pybamm.Parameter(\n",
    "    \"Chemical reference potential of Li^0 [J.mol-1]\")\n",
    "L_app_0 = pybamm.Parameter(\"Reference apparent thickness  [nm]\")\n",
    "L_tun = pybamm.Parameter(\"typical tunning distance  [nm]\")\n",
    "U1 = pybamm.Parameter(\"Maximum Voltage during cycling [V]\")\n",
    "U2 = pybamm.Parameter(\"Minimum Voltage during cycling [V]\")\n",
    "j0_0 = pybamm.Parameter(\n",
    "    \"Butler-Volmer rate constant for intercalation [A.m-2]\")\n",
    "D_Li = pybamm.Parameter(\n",
    "    \"Diffusion coefficient of Li atoms inside the SEI [m2.s-1]\")\n",
    "J_total = pybamm.Parameter(\"Current density [A.m-2]\")\n",
    "A_cb = pybamm.Parameter(\n",
    "    \"Surface area to volume ratio [m-1]\")\n",
    "L_SEI_0 = pybamm.Parameter(\"Initial thickness of SEI [m]\")\n",
    "cs_0 = pybamm.Parameter(\"Initial concentration [mol.m-3]\")\n",
    "\n",
    "\n",
    "def U0(x):\n",
    "    return pybamm.FunctionParameter(\n",
    "        \"open circuit voltage OCV [V]\",\n",
    "        {\"Negative particle stoichiometry\": x},\n",
    "    )\n",
    "\n",
    "\n",
    "def OCP(sto):\n",
    "    u_eq = (\n",
    "        ((1.24 - sto)/1.16)**2.92\n",
    "    )\n",
    "    return u_eq"
   ]
  },
  {
   "cell_type": "markdown",
   "metadata": {},
   "source": [
    "Parameter values from Lars von Wedel 2020  https://doi.org/10.1016/j.jpowsour.2020.228923 suplementary material."
   ]
  },
  {
   "cell_type": "code",
   "execution_count": 452,
   "metadata": {},
   "outputs": [],
   "source": [
    "cs = pybamm.Variable(\"concentration [mol.m-3]\")\n",
    "L_SEI = pybamm.Variable(\"Thickness of SEI [m]\")\n",
    "eta_int = pybamm.Variable(\"Overpotential [V]\")\n",
    "\n",
    "params = pybamm.ParameterValues(\n",
    "    {'Lithium atom reference concentration [mol.m-3]': 1,  # Lar\n",
    "     \"alpha_SEI [-]\": 0.22,  # Lars\n",
    "     'Initial SEI reaction exchange current density [A.m-2]': 7.04e-5,  # Lars\n",
    "     'Initial temperature [K]': 303,  # Lars standard temperature\n",
    "     'Ideal gas constant [J.K-1.mol-1]': 8.314462618,  # Lar standard\n",
    "     \"Faraday constant [C.mol-1]\": 96485,  # Lars standard\n",
    "     \"maximum lithium ion concentration in electrode [mol.m-3]\": 3.16,  # Lars\n",
    "     \"Mean moler volume of SEI [m3.mol-1]\": 1.078e-5,  # Lars\n",
    "     \"Lithium ion conductivity of the SEI [S.m-1]\": 1e-8,\n",
    "     # Lars was in KJ\n",
    "     \"Chemical reference potential of Li^0 [J.mol-1]\": 17.4e+3,\n",
    "     \"Reference apparent thickness  [nm]\": 0.05e-9,  # Lars\n",
    "     \"typical tunning distance  [nm]\": 2.05e-9,  # Lars\n",
    "     \"Maximum Voltage during cycling [V]\": 1.2,  # Lars\n",
    "     \"Minimum Voltage during cycling [V]\": 0.01,    # Lars\n",
    "     \"Butler-Volmer rate constant for intercalation [A.m-2]\": 6.4e-7,\n",
    "     \"Diffusion coefficient of Li atoms inside the SEI [m2.s-1]\": 1e-15,\n",
    "     \"Surface area to volume ratio [m-1]\": 86.8e+6,\n",
    "     \"Initial thickness of SEI [m]\": 2e-9,\n",
    "     \"open circuit voltage OCV [V]\": OCP,\n",
    "     # (2-40 mA h g-1) /Acb (0.000032 -0.00065)\n",
    "     \"Current density [A.m-2]\": -0.000001,\n",
    "     \"Initial concentration [mol.m-3]\": 0.0165,\n",
    "     }\n",
    ")"
   ]
  },
  {
   "cell_type": "code",
   "execution_count": 453,
   "metadata": {},
   "outputs": [],
   "source": [
    "model = pybamm.lithium_ion.BaseModel()"
   ]
  },
  {
   "cell_type": "markdown",
   "metadata": {},
   "source": [
    "Defining variables of the model"
   ]
  },
  {
   "cell_type": "code",
   "execution_count": 454,
   "metadata": {},
   "outputs": [],
   "source": [
    "\n",
    "# eta_int = 2*R*T/F * pybamm.arcsinh((J_total-J_SEI) /\n",
    "#                                    (2*j0_0 * pybamm.sqrt(cs/cs_max)))\n",
    "\n",
    "J_int = 2*j0_0 * pybamm.sqrt(cs/cs_max) * \\\n",
    "    pybamm.sinh(F/(2*R*T) * eta_int)\n",
    "eta_bar_SEI = F/(R*T) * (eta_int + U0(cs/cs_max) + mu_Li_0/F)\n",
    "L_diff = c_Li * D_Li * F / j_SEI_0_0 * pybamm.exp(-(1-alpha_SEI) * eta_bar_SEI)\n",
    "L_mig = (2 * R * T * kappa_Li_SEI)/(F*pybamm.AbsoluteValue(J_int))\n",
    "L_prime_app = L_SEI - L_tun\n",
    "L_app = L_prime_app / 2 + ((L_prime_app/2)**10 + L_app_0**2)**(1/10)\n",
    "J_SEI = - j_SEI_0_0 * pybamm.exp(-alpha_SEI * eta_bar_SEI) * \\\n",
    "    (1 + L_app/L_mig) / \\\n",
    "    (1 + L_app/L_mig + L_app/L_diff)\n",
    "\n",
    "model.algebraic = {\n",
    "    eta_int:  J_total - (J_int + J_SEI)\n",
    "}"
   ]
  },
  {
   "cell_type": "code",
   "execution_count": 455,
   "metadata": {},
   "outputs": [],
   "source": [
    "\n",
    "dcsdt = - A_cb*J_int/F\n",
    "dL_SEIdt = - v_SEI * J_SEI / F\n",
    "\n",
    "\n",
    "model.rhs = {cs: dcsdt, L_SEI: dL_SEIdt}"
   ]
  },
  {
   "cell_type": "code",
   "execution_count": 456,
   "metadata": {},
   "outputs": [],
   "source": [
    "\n",
    "model.variables = {\n",
    "    \"concentration [mol.m-3]\": cs,\n",
    "    \"Thickness of SEI [m]\": L_SEI,\n",
    "    \"Overpotential [V]\": eta_int,\n",
    "    \"Voltage [V]\": -U0(cs/cs_max)+U1,\n",
    "    \"Opencircuit voltage [V]\": U0(cs/cs_max),\n",
    "    \"J_int\": J_int,\n",
    "\n",
    "}"
   ]
  },
  {
   "cell_type": "code",
   "execution_count": 457,
   "metadata": {},
   "outputs": [],
   "source": [
    "\n",
    "\n",
    "model.initial_conditions = {\n",
    "    cs: cs_0,\n",
    "    L_SEI: L_SEI_0,\n",
    "    eta_int: U0(cs_0/cs_max)\n",
    "}"
   ]
  },
  {
   "cell_type": "code",
   "execution_count": 458,
   "metadata": {},
   "outputs": [],
   "source": [
    "params.process_model(model)\n",
    "disc = pybamm.Discretisation()  # use the default discretisation\n",
    "disc.process_model(model)\n",
    "\n",
    "solver = pybamm.IDAKLUSolver()\n",
    "\n",
    "t = np.linspace(0, 4300, 10000)\n",
    "\n",
    "sim = pybamm.Simulation(\n",
    "    model, parameter_values=params, solver=solver)"
   ]
  },
  {
   "cell_type": "code",
   "execution_count": 459,
   "metadata": {},
   "outputs": [],
   "source": [
    "solution = sim.solve(t)"
   ]
  },
  {
   "cell_type": "code",
   "execution_count": 460,
   "metadata": {},
   "outputs": [
    {
     "data": {
      "image/png": "[encoded data removed]",
      "text/plain": [
       "<Figure size 640x480 with 1 Axes>"
      ]
     },
     "metadata": {},
     "output_type": "display_data"
    },
    {
     "data": {
      "image/png": "[encoded data removed]",
      "text/plain": [
       "<Figure size 640x480 with 1 Axes>"
      ]
     },
     "metadata": {},
     "output_type": "display_data"
    }
   ],
   "source": [
    "c = solution[\"concentration [mol.m-3]\"].entries\n",
    "L = solution[\"Thickness of SEI [m]\"].entries\n",
    "eta_int = solution[\"Overpotential [V]\"].entries\n",
    "# vv = solution[\"Voltage [V]\"].entries\n",
    "# u0 = solution[\"Opencircuit voltage [V]\"].entries\n",
    "# Jint = solution[\"J_int\"].entries\n",
    "\n",
    "\n",
    "plt.plot(t, c)\n",
    "plt.show()\n",
    "\n",
    "\n",
    "plt.plot(t, L)\n",
    "plt.show()\n",
    "\n",
    "\n",
    "# plt.plot(t, eta_int)\n",
    "# plt.show()\n",
    "\n",
    "\n",
    "# plt.plot(t, vv)\n",
    "# plt.show()"
   ]
  }
 ],
 "metadata": {
  "kernelspec": {
   "display_name": "Python 3 (ipykernel)",
   "language": "python",
   "name": "python3"
  },
  "language_info": {
   "codemirror_mode": {
    "name": "ipython",
    "version": 3
   },
   "file_extension": ".py",
   "mimetype": "text/x-python",
   "name": "python",
   "nbconvert_exporter": "python",
   "pygments_lexer": "ipython3",
   "version": "3.10.12"
  }
 },
 "nbformat": 4,
 "nbformat_minor": 5
}
