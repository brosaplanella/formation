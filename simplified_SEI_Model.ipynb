{
 "cells": [
  {
   "cell_type": "markdown",
   "id": "2bf3605d",
   "metadata": {},
   "source": [
    "# Simplify SPMe+SEI Model "
   ]
  },
  {
   "cell_type": "markdown",
   "id": "3df340b3",
   "metadata": {},
   "source": [
    "The main purpose of this section is to reformulate the SPMe+RF model from. \n",
    "\n",
    "Assumptions:\n",
    "\n",
    "<ol>\n",
    "    <li> The diffusivity parameter of lithium ion in the negative particle is constant.</li>\n",
    "    <li> The concentration of lithium ions in the electrolyte is constant.</li>\n",
    "    <li> The conductivity and transport efficiency of the electrolyte are also constant </li>\n",
    "    </ol>"
   ]
  },
  {
   "cell_type": "markdown",
   "id": "1d60860a",
   "metadata": {},
   "source": [
    "$$  \n",
    "\\begin{equation}\n",
    "\\frac{d \\bar{\\hat{c}}_{\\mathrm{n0}}}{d\\hat{t}}=\\frac{-3}{\\alpha_n }\\hat{J}_\\mathrm{n}^\\mathrm{total}.\n",
    "\\end{equation}\n",
    "$$\n",
    "\n",
    "$$\n",
    " \\frac{\\partial \\varepsilon_\\mathrm{n}}{\\partial t}= \\frac{M_\\mathrm{SR}}{n_\\mathrm{SR} \\rho_\\mathrm{SR} F} \\bar{J}_\\mathrm{SR},\n",
    " $$\n",
    "$$\n",
    "  L_\\mathrm{f, n}=L_\\mathrm{f,n,init}-\\frac{1}{a_\\mathrm{n}}(\\varepsilon_\\mathrm{n}-\\varepsilon_\\mathrm{n, init}) \n",
    " $$\n",
    " \n",
    "$$\n",
    "    J_\\mathrm{n}^{\\mathrm{total}}=\\frac{i_\\mathrm{app}}{L_\\mathrm{n}}-\\bar{J}_\\mathrm{SR}, \n",
    "$$\n",
    "\n",
    "$$\n",
    "    \\bar{J}_\\mathrm{SR}=\\frac{1}{L_\\mathrm{n}} \\int_0^{L_\\mathrm{n}} J_\\mathrm{SR} d\\scriptstyle{\\mathcal{X}},\n",
    "$$\n",
    "\n",
    "$$\n",
    "    J_{\\mathrm{SR}}=-a_\\mathrm{n} j_\\mathrm{SR} \\mathrm{exp}\\left(-\\alpha_\\mathrm{SR}\\frac{F}{RT} \\left(\\phi_\\mathrm{n}-\\phi_\\mathrm{e}-U_\\mathrm{SR}-\\frac{i_\\mathrm{app}L_\\mathrm{f, n}}{a_\\mathrm{n} \\sigma_\\mathrm{f, n} L_\\mathrm{n}} \\right ) \\right ).\n",
    "$$\n",
    "\n",
    "\\begin{equation}\n",
    "\\begin{aligned}\n",
    "&\\phi_\\mathrm{n}=U_\\mathrm{n}(\\bar{c}_\\mathrm{n}|_{r=R_{n}}) \\\\\n",
    "  &\\phi_e=- \\frac{i_\\mathrm{app} }{2 \\sigma_\\mathrm{e} {\\scriptstyle\\mathcal{B}} L_n}\\scriptstyle\\mathcal{X}^2\n",
    "  \\end{aligned}\n",
    "\\end{equation}"
   ]
  },
  {
   "cell_type": "markdown",
   "id": "8881317e",
   "metadata": {},
   "source": [
    "So, Basically we are trying two solve DAEs with (1,2 3, 6, 7) for the variables $\\bar{c}$, $\\varepsilon$, $L_\\mathrm{f, n}$,  $\\phi_e$ and $\\phi_n$ with approperiate initial conditions. For Simiplicity (now) we only conider first terms for $\\phi_e$ and $\\phi_n$."
   ]
  },
  {
   "cell_type": "code",
   "execution_count": 1,
   "id": "b4e9becb",
   "metadata": {},
   "outputs": [],
   "source": [
    "import pybamm\n",
    "import numpy as np\n",
    "import matplotlib.pyplot as plt\n",
    "# import scipy.sparse as sparse\n",
    "# pybamm.__version__"
   ]
  },
  {
   "cell_type": "code",
   "execution_count": 2,
   "id": "4c758984",
   "metadata": {},
   "outputs": [],
   "source": [
    "model = pybamm.BaseModel()"
   ]
  },
  {
   "cell_type": "code",
   "execution_count": 3,
   "id": "3930ee0a",
   "metadata": {},
   "outputs": [],
   "source": [
    "cn_av = pybamm.Variable(\"Concentration [mol.m-3]\")\n",
    "phi_n = pybamm.Variable(\"Negative electrode potential [V]\")\n",
    "phi_e_n = pybamm.Variable(\"Negative electrolyte potential [V]\", domain=\"negative electrode\")\n",
    "E_n = pybamm.Variable(\"Negative electrode porosity\", domain=\"negative electrode\")\n",
    "L_SEI = pybamm.Variable(\"Thickness of SEI [m]\", domain=\"negative electrode\")\n",
    "\n",
    "x_n = pybamm.SpatialVariable(\"x_n\", domain=[\"negative electrode\"], coord_sys=\"cartesian\")"
   ]
  },
  {
   "cell_type": "code",
   "execution_count": 4,
   "id": "e5f1a08e",
   "metadata": {},
   "outputs": [],
   "source": [
    "# dimensional parameters\n",
    "R_n = pybamm.Parameter(\"Particle radius [m]\")\n",
    "# D = pybamm.Parameter(\"Diffusion coefficient [m2.s-1]\")\n",
    "T = pybamm.Parameter('Initial temperature [K]')\n",
    "R = pybamm.Parameter(\"Molar gas constant [J.mol-1.K-1]\")\n",
    "F = pybamm.Parameter(\"Faraday constant [C.mol-1]\")\n",
    "cn0 = pybamm.Parameter(\"Initial concentration [mol.m-3]\")\n",
    "c_e = pybamm.Parameter(\"Electrolyte concentration [mol.m-3]\")\n",
    "L_n = pybamm.Parameter(\"Negative electrode thickness [m]\")\n",
    "I_app = pybamm.Parameter(\"Applied current [A]\")\n",
    "j_SEI_0 =  pybamm.Parameter('Initial SEI reaction exchange current density [A.m-2]')\n",
    "an = pybamm.Parameter('Particle surface area to volume ratio [m-1]')\n",
    "U_SEI= pybamm.Parameter('SEI open-circuit potential [V]')\n",
    "s_SEI = pybamm.Parameter(\"SEI conductivity [S.m-1]\")\n",
    "L_SEI_0 = pybamm.Parameter(\"Initial SEI thickness [m]\")\n",
    "alpha_SEI = pybamm.Parameter('alpha_SEI [-]')\n",
    "sigma_e=pybamm.Parameter('Electrolyte conductivity [S.m-1]')\n",
    "B =  pybamm.Parameter(\"transference efficiency [-]\")\n",
    "E_init=pybamm.Parameter('Initial negative electrode porosity')\n",
    "M_SEI = pybamm.Parameter(\"Molar weight of SEI material [kg.mol-1]\")\n",
    "rho_SEI = pybamm.Parameter(\"Density of SEI material [kg.m-3]\")\n",
    "n_SEI = pybamm.Parameter(\"electrone number [-]\")\n",
    "# J_SR =  pybamm.Parameter('SEI reaction exchange current density [A.m-2]')\n",
    "\n"
   ]
  },
  {
   "cell_type": "code",
   "execution_count": 5,
   "id": "5e77db5d",
   "metadata": {},
   "outputs": [],
   "source": [
    "from pybamm import tanh\n",
    "from pybamm import exp\n",
    "\n",
    "# # both functions will depend on the maximum concentration\n",
    "# c_max = pybamm.Parameter(\"Maximum concentration in positive electrode [mol.m-3]\")\n",
    "\n",
    "\n",
    "# def exchange_current_density(c_surf):\n",
    "#     k = 6 * 10 ** (-7)   # reaction rate [(A/m2)(m3/mol)**1.5]\n",
    "#     c_e = 1000  # (constant) electrolyte concentration [mol.m-3]\n",
    "#     return k * c_e** 0.5 * c_surf ** 0.5 * (c_max - c_surf) ** 0.5\n",
    "\n",
    "\n",
    "def open_circuit_potential(xx):\n",
    "#     stretch = 1.062\n",
    "#     sto = stretch * c_surf / c_max\n",
    "\n",
    "    u_eq = (\n",
    "         0.2482\n",
    "        + 1.9793*exp(-39.3631*xx)\n",
    "        - 0.0909 * tanh(29.8538*(xx-0.1234))\n",
    "        - 0.04478 * tanh(14.9159*(xx-0.2769))\n",
    "        - 0.0205 * tanh(30.4444*(xx-0.6103))\n",
    "    )\n",
    "    return u_eq\n",
    "\n"
   ]
  },
  {
   "cell_type": "code",
   "execution_count": 6,
   "id": "0832b2bb",
   "metadata": {},
   "outputs": [],
   "source": [
    "model.variables = {\n",
    "    \"Concentration [mol.m-3]\": cn_av,\n",
    "    \"Negative electrode potential [V]\": phi_n,\n",
    "    \"Negative electrolyte potential [V]\":  phi_e_n,\n",
    "    \"Negative electrode porosity\": E_n, \n",
    "    \"Thickness of SEI [m]\": L_SEI,\n",
    "}"
   ]
  },
  {
   "cell_type": "code",
   "execution_count": 7,
   "id": "1f7c5f27",
   "metadata": {},
   "outputs": [],
   "source": [
    "param = pybamm.ParameterValues(\n",
    "    {\"Particle radius [m]\": 5.86e-06,\n",
    "    #  \"Diffusion coefficient [m2.s-1]\": 3.3*1e-14,\n",
    "     'Initial temperature [K]': 298,\n",
    "     \"Molar gas constant [J.mol-1.K-1]\": 8.314,\n",
    "     \"Faraday constant [C.mol-1]\": 96485.33212,\n",
    "     \"Initial concentration [mol.m-3]\": 866,\n",
    "     \"Electrolyte concentration [mol.m-3]\": 1000,\n",
    "     \"Negative electrode thickness [m]\": 8.52e-05,\n",
    "     \"Applied current [A]\": -0.1,\n",
    "     'Initial SEI reaction exchange current density [A.m-2]': 1.5e-07,\n",
    "     'Particle surface area to volume ratio [m-1]': 3.84e5,\n",
    "     'SEI open-circuit potential [V]':  0.4,\n",
    "     \"SEI conductivity [S.m-1]\": 5e-6, \n",
    "     \"Negative electrode OCP [V]\": open_circuit_potential,\n",
    "     \"Initial SEI thickness [m]\": 5e-9,\n",
    "     \"alpha_SEI [-]\": 0.5,\n",
    "      \"Electrolyte conductivity [S.m-1]\": 0.95,\n",
    "      \"transference efficiency [-]\": 0.9,\n",
    "     'Initial negative electrode porosity': 0.25,\n",
    "     \"Molar weight of SEI material [kg.mol-1]\": 0.162,\n",
    "     \"Density of SEI material [kg.m-3]\": 1690, \n",
    "     \"electrone number [-]\": 2,\n",
    "      \n",
    "    }\n",
    ")"
   ]
  },
  {
   "cell_type": "code",
   "execution_count": 8,
   "id": "027eae96",
   "metadata": {},
   "outputs": [],
   "source": [
    "# c_surf = pybamm.surf(cn_av)  # get the surface concentration\n",
    "inputs = {\"Negative particle surface concentration [mol.m-3]\":cn_av}\n",
    "Un = pybamm.FunctionParameter(\"Negative electrode OCP [V]\", inputs)\n",
    "model.algebraic = {\n",
    "  phi_n: Un,\n",
    "  phi_e_n: I_app/(2*sigma_e*B*L_n)*x_n*x_n,\n",
    "  L_SEI: L_SEI_0-1/an*(E_n-E_init),\n",
    "  }"
   ]
  },
  {
   "cell_type": "code",
   "execution_count": 9,
   "id": "1901ff8f",
   "metadata": {},
   "outputs": [],
   "source": [
    "# c_surf = pybamm.surf(cn)  # get the surface concentration\n",
    "# inputs = {\"Negative particle surface concentration [mol.m-3]\": c_surf}\n",
    "# Un = pybamm.FunctionParameter(\"Negative electrode OCP [V]\", inputs)\n",
    "# # phi_e_n = I_app/(2*sigma_e*B*L_n)\n",
    "\n",
    "# phi_n = 0\n",
    "\n",
    "# phi_e_n = I_app/(2*sigma_e*B*L_n)*x_n*x_n\n",
    "J_SR =  -an * j_SEI_0 * pybamm.exp(-alpha_SEI*F/(R*T) * (phi_n - phi_e_n - U_SEI- (I_app*L_SEI/(L_n*an*s_SEI))))\n",
    "J_SR_AV =  pybamm.x_average(J_SR)"
   ]
  },
  {
   "cell_type": "code",
   "execution_count": 10,
   "id": "c68f115a",
   "metadata": {},
   "outputs": [],
   "source": [
    "dcndt = -3/(an*R_n*F)*(I_app/L_n - J_SR_AV)\n",
    "dEndt=M_SEI/(n_SEI*rho_SEI*F)*J_SR_AV"
   ]
  },
  {
   "cell_type": "code",
   "execution_count": 11,
   "id": "76c34178",
   "metadata": {},
   "outputs": [],
   "source": [
    "model.rhs = {cn_av: dcndt, E_n: dEndt} "
   ]
  },
  {
   "cell_type": "code",
   "execution_count": 12,
   "id": "44545bde",
   "metadata": {},
   "outputs": [],
   "source": [
    "# Initial Condition\n",
    "# c0_surf = pybamm.surf(cn0) \n",
    "inputs = {\"Initial concentration [mol.m-3]\": cn0}\n",
    "U_init = pybamm.FunctionParameter(\"Negative electrode OCP [V]\", inputs)\n",
    "model.initial_conditions = {\n",
    "    phi_n: U_init,\n",
    "    phi_e_n: -2,\n",
    "    L_SEI: L_SEI_0,\n",
    "    cn_av: cn0,\n",
    "    E_n: E_init,\n",
    "}"
   ]
  },
  {
   "cell_type": "code",
   "execution_count": null,
   "id": "9bc2231f",
   "metadata": {},
   "outputs": [],
   "source": []
  },
  {
   "cell_type": "code",
   "execution_count": 13,
   "id": "30c2526a",
   "metadata": {},
   "outputs": [],
   "source": [
    "geometry = {\n",
    "    \"negative electrode\": {x_n: {\"min\": 0, \"max\": L_n}},\n",
    "}"
   ]
  },
  {
   "cell_type": "code",
   "execution_count": null,
   "id": "d4571202",
   "metadata": {},
   "outputs": [],
   "source": [
    "  "
   ]
  },
  {
   "cell_type": "code",
   "execution_count": 14,
   "id": "b11d5881",
   "metadata": {},
   "outputs": [],
   "source": [
    "param.process_model(model)\n",
    "param.process_geometry(geometry)"
   ]
  },
  {
   "cell_type": "code",
   "execution_count": 15,
   "id": "e60ac014",
   "metadata": {},
   "outputs": [
    {
     "data": {
      "text/plain": [
       "<pybamm.models.base_model.BaseModel at 0x7f1375495ba0>"
      ]
     },
     "execution_count": 15,
     "metadata": {},
     "output_type": "execute_result"
    }
   ],
   "source": [
    "submesh_types = {\n",
    "    \"negative electrode\": pybamm.Uniform1DSubMesh,\n",
    "   # \"negative particle\": pybamm.Uniform1DSubMesh,\n",
    "}\n",
    "# var_pts = {x_n: 20, r: 30}\n",
    "var_pts = {x_n: 10}\n",
    "mesh = pybamm.Mesh(geometry, submesh_types, var_pts)\n",
    "\n",
    "spatial_methods = {\n",
    "    \"negative electrode\": pybamm.FiniteVolume(),\n",
    "}\n",
    "disc = pybamm.Discretisation(mesh, spatial_methods)\n",
    "disc.process_model(model)"
   ]
  },
  {
   "cell_type": "code",
   "execution_count": 17,
   "id": "c2b0f11c",
   "metadata": {},
   "outputs": [
    {
     "ename": "RuntimeError",
     "evalue": ".../casadi/core/function_internal.cpp:145: Error calling Newton::init for 'roots':\n.../casadi/core/rootfinder.cpp:235: Assertion \"!sp_jac_.is_singular()\" failed:\nRootfinder::init: singularity - the jacobian is structurally rank-deficient. sprank(J)=0 (instead of 21)",
     "output_type": "error",
     "traceback": [
      "\u001b[0;31m---------------------------------------------------------------------------\u001b[0m",
      "\u001b[0;31mRuntimeError\u001b[0m                              Traceback (most recent call last)",
      "\u001b[0;32m/tmp/ipykernel_33576/1432511775.py\u001b[0m in \u001b[0;36m?\u001b[0;34m()\u001b[0m\n\u001b[1;32m      1\u001b[0m \u001b[0msolver\u001b[0m \u001b[0;34m=\u001b[0m \u001b[0mpybamm\u001b[0m\u001b[0;34m.\u001b[0m\u001b[0mCasadiSolver\u001b[0m\u001b[0;34m(\u001b[0m\u001b[0;34m)\u001b[0m\u001b[0;34m\u001b[0m\u001b[0;34m\u001b[0m\u001b[0m\n\u001b[1;32m      2\u001b[0m \u001b[0;31m# t = np.linspace(0, 3600, 100)\u001b[0m\u001b[0;34m\u001b[0m\u001b[0;34m\u001b[0m\u001b[0m\n\u001b[1;32m      3\u001b[0m \u001b[0msim\u001b[0m\u001b[0;34m=\u001b[0m\u001b[0mpybamm\u001b[0m\u001b[0;34m.\u001b[0m\u001b[0mSimulation\u001b[0m\u001b[0;34m(\u001b[0m\u001b[0mmodel\u001b[0m\u001b[0;34m,\u001b[0m \u001b[0mparameter_values\u001b[0m\u001b[0;34m=\u001b[0m\u001b[0mparam\u001b[0m\u001b[0;34m,\u001b[0m \u001b[0msolver\u001b[0m\u001b[0;34m=\u001b[0m\u001b[0msolver\u001b[0m\u001b[0;34m)\u001b[0m\u001b[0;34m\u001b[0m\u001b[0;34m\u001b[0m\u001b[0m\n\u001b[0;32m----> 4\u001b[0;31m \u001b[0msolution\u001b[0m \u001b[0;34m=\u001b[0m\u001b[0msim\u001b[0m\u001b[0;34m.\u001b[0m\u001b[0msolve\u001b[0m\u001b[0;34m(\u001b[0m\u001b[0;34m[\u001b[0m\u001b[0;36m0\u001b[0m\u001b[0;34m,\u001b[0m\u001b[0;36m3600\u001b[0m\u001b[0;34m]\u001b[0m\u001b[0;34m)\u001b[0m\u001b[0;34m\u001b[0m\u001b[0;34m\u001b[0m\u001b[0m\n\u001b[0m",
      "\u001b[0;32m~/PyBaMM/env/lib/python3.10/site-packages/pybamm/simulation.py\u001b[0m in \u001b[0;36m?\u001b[0;34m(self, t_eval, solver, check_model, save_at_cycles, calc_esoh, starting_solution, initial_soc, callbacks, showprogress, **kwargs)\u001b[0m\n\u001b[1;32m    592\u001b[0m                             ),\n\u001b[1;32m    593\u001b[0m                             \u001b[0mpybamm\u001b[0m\u001b[0;34m.\u001b[0m\u001b[0mSolverWarning\u001b[0m\u001b[0;34m,\u001b[0m\u001b[0;34m\u001b[0m\u001b[0;34m\u001b[0m\u001b[0m\n\u001b[1;32m    594\u001b[0m                         )\n\u001b[1;32m    595\u001b[0m \u001b[0;34m\u001b[0m\u001b[0m\n\u001b[0;32m--> 596\u001b[0;31m             \u001b[0mself\u001b[0m\u001b[0;34m.\u001b[0m\u001b[0m_solution\u001b[0m \u001b[0;34m=\u001b[0m \u001b[0msolver\u001b[0m\u001b[0;34m.\u001b[0m\u001b[0msolve\u001b[0m\u001b[0;34m(\u001b[0m\u001b[0mself\u001b[0m\u001b[0;34m.\u001b[0m\u001b[0mbuilt_model\u001b[0m\u001b[0;34m,\u001b[0m \u001b[0mt_eval\u001b[0m\u001b[0;34m,\u001b[0m \u001b[0;34m**\u001b[0m\u001b[0mkwargs\u001b[0m\u001b[0;34m)\u001b[0m\u001b[0;34m\u001b[0m\u001b[0;34m\u001b[0m\u001b[0m\n\u001b[0m\u001b[1;32m    597\u001b[0m \u001b[0;34m\u001b[0m\u001b[0m\n\u001b[1;32m    598\u001b[0m         \u001b[0;32melif\u001b[0m \u001b[0mself\u001b[0m\u001b[0;34m.\u001b[0m\u001b[0moperating_mode\u001b[0m \u001b[0;34m==\u001b[0m \u001b[0;34m\"with experiment\"\u001b[0m\u001b[0;34m:\u001b[0m\u001b[0;34m\u001b[0m\u001b[0;34m\u001b[0m\u001b[0m\n\u001b[1;32m    599\u001b[0m             \u001b[0mcallbacks\u001b[0m\u001b[0;34m.\u001b[0m\u001b[0mon_experiment_start\u001b[0m\u001b[0;34m(\u001b[0m\u001b[0mlogs\u001b[0m\u001b[0;34m)\u001b[0m\u001b[0;34m\u001b[0m\u001b[0;34m\u001b[0m\u001b[0m\n",
      "\u001b[0;32m~/PyBaMM/env/lib/python3.10/site-packages/pybamm/solvers/base_solver.py\u001b[0m in \u001b[0;36m?\u001b[0;34m(self, model, t_eval, inputs, initial_conditions, nproc, calculate_sensitivities)\u001b[0m\n\u001b[1;32m    824\u001b[0m                     \u001b[0;34m\"Input parameters cannot appear in expression \"\u001b[0m\u001b[0;34m\u001b[0m\u001b[0;34m\u001b[0m\u001b[0m\n\u001b[1;32m    825\u001b[0m                     \u001b[0;34m\"for initial conditions.\"\u001b[0m\u001b[0;34m\u001b[0m\u001b[0;34m\u001b[0m\u001b[0m\n\u001b[1;32m    826\u001b[0m                 )\n\u001b[1;32m    827\u001b[0m \u001b[0;34m\u001b[0m\u001b[0m\n\u001b[0;32m--> 828\u001b[0;31m         self._set_initial_conditions(\n\u001b[0m\u001b[1;32m    829\u001b[0m             \u001b[0mmodel\u001b[0m\u001b[0;34m,\u001b[0m \u001b[0mt_eval\u001b[0m\u001b[0;34m[\u001b[0m\u001b[0;36m0\u001b[0m\u001b[0;34m]\u001b[0m\u001b[0;34m,\u001b[0m \u001b[0mmodel_inputs_list\u001b[0m\u001b[0;34m[\u001b[0m\u001b[0;36m0\u001b[0m\u001b[0;34m]\u001b[0m\u001b[0;34m,\u001b[0m \u001b[0mupdate_rhs\u001b[0m\u001b[0;34m=\u001b[0m\u001b[0;32mTrue\u001b[0m\u001b[0;34m\u001b[0m\u001b[0;34m\u001b[0m\u001b[0m\n\u001b[1;32m    830\u001b[0m         )\n\u001b[1;32m    831\u001b[0m \u001b[0;34m\u001b[0m\u001b[0m\n",
      "\u001b[0;32m~/PyBaMM/env/lib/python3.10/site-packages/pybamm/solvers/base_solver.py\u001b[0m in \u001b[0;36m?\u001b[0;34m(self, model, time, inputs_dict, update_rhs)\u001b[0m\n\u001b[1;32m    597\u001b[0m                 \u001b[0;32melse\u001b[0m\u001b[0;34m:\u001b[0m\u001b[0;34m\u001b[0m\u001b[0;34m\u001b[0m\u001b[0m\n\u001b[1;32m    598\u001b[0m                     model.y0 = np.vstack(\n\u001b[1;32m    599\u001b[0m                         \u001b[0;34m(\u001b[0m\u001b[0my0_from_inputs\u001b[0m\u001b[0;34m[\u001b[0m\u001b[0;34m:\u001b[0m\u001b[0mlen_rhs\u001b[0m\u001b[0;34m]\u001b[0m\u001b[0;34m,\u001b[0m \u001b[0my0_from_model\u001b[0m\u001b[0;34m[\u001b[0m\u001b[0mlen_rhs\u001b[0m\u001b[0;34m:\u001b[0m\u001b[0;34m]\u001b[0m\u001b[0;34m)\u001b[0m\u001b[0;34m\u001b[0m\u001b[0;34m\u001b[0m\u001b[0m\n\u001b[1;32m    600\u001b[0m                     )\n\u001b[0;32m--> 601\u001b[0;31m             \u001b[0my0\u001b[0m \u001b[0;34m=\u001b[0m \u001b[0mself\u001b[0m\u001b[0;34m.\u001b[0m\u001b[0mcalculate_consistent_state\u001b[0m\u001b[0;34m(\u001b[0m\u001b[0mmodel\u001b[0m\u001b[0;34m,\u001b[0m \u001b[0mtime\u001b[0m\u001b[0;34m,\u001b[0m \u001b[0minputs_dict\u001b[0m\u001b[0;34m)\u001b[0m\u001b[0;34m\u001b[0m\u001b[0;34m\u001b[0m\u001b[0m\n\u001b[0m\u001b[1;32m    602\u001b[0m         \u001b[0;31m# Make y0 a function of inputs if doing symbolic with casadi\u001b[0m\u001b[0;34m\u001b[0m\u001b[0;34m\u001b[0m\u001b[0m\n\u001b[1;32m    603\u001b[0m         \u001b[0mmodel\u001b[0m\u001b[0;34m.\u001b[0m\u001b[0my0\u001b[0m \u001b[0;34m=\u001b[0m \u001b[0my0\u001b[0m\u001b[0;34m\u001b[0m\u001b[0;34m\u001b[0m\u001b[0m\n",
      "\u001b[0;32m~/PyBaMM/env/lib/python3.10/site-packages/pybamm/solvers/base_solver.py\u001b[0m in \u001b[0;36m?\u001b[0;34m(self, model, time, inputs)\u001b[0m\n\u001b[1;32m    627\u001b[0m         \u001b[0;32mif\u001b[0m \u001b[0mself\u001b[0m\u001b[0;34m.\u001b[0m\u001b[0mroot_method\u001b[0m \u001b[0;32mis\u001b[0m \u001b[0;32mNone\u001b[0m\u001b[0;34m:\u001b[0m\u001b[0;34m\u001b[0m\u001b[0;34m\u001b[0m\u001b[0m\n\u001b[1;32m    628\u001b[0m             \u001b[0;32mreturn\u001b[0m \u001b[0mmodel\u001b[0m\u001b[0;34m.\u001b[0m\u001b[0my0\u001b[0m\u001b[0;34m\u001b[0m\u001b[0;34m\u001b[0m\u001b[0m\n\u001b[1;32m    629\u001b[0m         \u001b[0;32mtry\u001b[0m\u001b[0;34m:\u001b[0m\u001b[0;34m\u001b[0m\u001b[0;34m\u001b[0m\u001b[0m\n\u001b[1;32m    630\u001b[0m             \u001b[0mroot_sol\u001b[0m \u001b[0;34m=\u001b[0m \u001b[0mself\u001b[0m\u001b[0;34m.\u001b[0m\u001b[0mroot_method\u001b[0m\u001b[0;34m.\u001b[0m\u001b[0m_integrate\u001b[0m\u001b[0;34m(\u001b[0m\u001b[0mmodel\u001b[0m\u001b[0;34m,\u001b[0m \u001b[0mnp\u001b[0m\u001b[0;34m.\u001b[0m\u001b[0marray\u001b[0m\u001b[0;34m(\u001b[0m\u001b[0;34m[\u001b[0m\u001b[0mtime\u001b[0m\u001b[0;34m]\u001b[0m\u001b[0;34m)\u001b[0m\u001b[0;34m,\u001b[0m \u001b[0minputs\u001b[0m\u001b[0;34m)\u001b[0m\u001b[0;34m\u001b[0m\u001b[0;34m\u001b[0m\u001b[0m\n\u001b[0;32m--> 631\u001b[0;31m         \u001b[0;32mexcept\u001b[0m \u001b[0mpybamm\u001b[0m\u001b[0;34m.\u001b[0m\u001b[0mSolverError\u001b[0m \u001b[0;32mas\u001b[0m \u001b[0me\u001b[0m\u001b[0;34m:\u001b[0m\u001b[0;34m\u001b[0m\u001b[0;34m\u001b[0m\u001b[0m\n\u001b[0m\u001b[1;32m    632\u001b[0m             raise pybamm.SolverError(\n\u001b[1;32m    633\u001b[0m                 \u001b[0;34m\"Could not find consistent states: {}\"\u001b[0m\u001b[0;34m.\u001b[0m\u001b[0mformat\u001b[0m\u001b[0;34m(\u001b[0m\u001b[0me\u001b[0m\u001b[0;34m.\u001b[0m\u001b[0margs\u001b[0m\u001b[0;34m[\u001b[0m\u001b[0;36m0\u001b[0m\u001b[0;34m]\u001b[0m\u001b[0;34m)\u001b[0m\u001b[0;34m\u001b[0m\u001b[0;34m\u001b[0m\u001b[0m\n\u001b[1;32m    634\u001b[0m             )\n",
      "\u001b[0;32m~/PyBaMM/env/lib/python3.10/site-packages/pybamm/solvers/casadi_algebraic_solver.py\u001b[0m in \u001b[0;36m?\u001b[0;34m(self, model, t_eval, inputs_dict)\u001b[0m\n\u001b[1;32m     96\u001b[0m         \u001b[0;31m# If the upper bound is negative then the variable must always be negative\u001b[0m\u001b[0;34m\u001b[0m\u001b[0;34m\u001b[0m\u001b[0m\n\u001b[1;32m     97\u001b[0m         \u001b[0mconstraints\u001b[0m\u001b[0;34m[\u001b[0m\u001b[0mmodel\u001b[0m\u001b[0;34m.\u001b[0m\u001b[0mbounds\u001b[0m\u001b[0;34m[\u001b[0m\u001b[0;36m1\u001b[0m\u001b[0;34m]\u001b[0m \u001b[0;34m<=\u001b[0m \u001b[0;36m0\u001b[0m\u001b[0;34m]\u001b[0m \u001b[0;34m=\u001b[0m \u001b[0;34m-\u001b[0m\u001b[0;36m1\u001b[0m\u001b[0;34m\u001b[0m\u001b[0;34m\u001b[0m\u001b[0m\n\u001b[1;32m     98\u001b[0m \u001b[0;34m\u001b[0m\u001b[0m\n\u001b[1;32m     99\u001b[0m         \u001b[0;31m# Set up rootfinder\u001b[0m\u001b[0;34m\u001b[0m\u001b[0;34m\u001b[0m\u001b[0m\n\u001b[0;32m--> 100\u001b[0;31m         roots = casadi.rootfinder(\n\u001b[0m\u001b[1;32m    101\u001b[0m             \u001b[0;34m\"roots\"\u001b[0m\u001b[0;34m,\u001b[0m\u001b[0;34m\u001b[0m\u001b[0;34m\u001b[0m\u001b[0m\n\u001b[1;32m    102\u001b[0m             \u001b[0;34m\"newton\"\u001b[0m\u001b[0;34m,\u001b[0m\u001b[0;34m\u001b[0m\u001b[0;34m\u001b[0m\u001b[0m\n\u001b[1;32m    103\u001b[0m             \u001b[0mdict\u001b[0m\u001b[0;34m(\u001b[0m\u001b[0mx\u001b[0m\u001b[0;34m=\u001b[0m\u001b[0my_alg_sym\u001b[0m\u001b[0;34m,\u001b[0m \u001b[0mp\u001b[0m\u001b[0;34m=\u001b[0m\u001b[0mt_sym\u001b[0m\u001b[0;34m,\u001b[0m \u001b[0mg\u001b[0m\u001b[0;34m=\u001b[0m\u001b[0malg\u001b[0m\u001b[0;34m)\u001b[0m\u001b[0;34m,\u001b[0m\u001b[0;34m\u001b[0m\u001b[0;34m\u001b[0m\u001b[0m\n",
      "\u001b[0;32m~/PyBaMM/env/lib/python3.10/site-packages/casadi/casadi.py\u001b[0m in \u001b[0;36m?\u001b[0;34m(*args)\u001b[0m\n\u001b[1;32m  30213\u001b[0m \u001b[0;34m\u001b[0m\u001b[0m\n\u001b[1;32m  30214\u001b[0m \u001b[0;34m\u001b[0m\u001b[0m\n\u001b[1;32m  30215\u001b[0m \u001b[0;34m\u001b[0m\u001b[0m\n\u001b[1;32m  30216\u001b[0m     \"\"\"\n\u001b[0;32m> 30217\u001b[0;31m     \u001b[0;32mreturn\u001b[0m \u001b[0m_casadi\u001b[0m\u001b[0;34m.\u001b[0m\u001b[0mrootfinder\u001b[0m\u001b[0;34m(\u001b[0m\u001b[0;34m*\u001b[0m\u001b[0margs\u001b[0m\u001b[0;34m)\u001b[0m\u001b[0;34m\u001b[0m\u001b[0;34m\u001b[0m\u001b[0m\n\u001b[0m",
      "\u001b[0;31mRuntimeError\u001b[0m: .../casadi/core/function_internal.cpp:145: Error calling Newton::init for 'roots':\n.../casadi/core/rootfinder.cpp:235: Assertion \"!sp_jac_.is_singular()\" failed:\nRootfinder::init: singularity - the jacobian is structurally rank-deficient. sprank(J)=0 (instead of 21)"
     ]
    }
   ],
   "source": [
    "solver = pybamm.CasadiSolver()\n",
    "# t = np.linspace(0, 3600, 100)\n",
    "sim=pybamm.Simulation(model, parameter_values=param, solver=solver)\n",
    "solution =sim.solve([0,3600])"
   ]
  },
  {
   "cell_type": "code",
   "execution_count": null,
   "id": "c246b7ff",
   "metadata": {},
   "outputs": [],
   "source": [
    "# # cc=solution[\"cn\"]\n",
    "# # ee=solution[\"E_n\"]\n",
    "# # plt.plot(t,cc)\n",
    "# tt=solution.t\n",
    "# cc=solution[\"Concentration [mol.m-3]\"].entries\n",
    "# En=solution[\"Concentration [mol.m-3]\"].entries\n",
    "# # L_SEI=solution[\"Thickness of SEI [m]\"].entries\n",
    "# # L_SEI: L_SEI_0-1/an*(En-E_init)  \n",
    "# plt.plot(tt,cc)\n",
    "# # plt.plot(tt,L_SEI[0,:])"
   ]
  },
  {
   "cell_type": "code",
   "execution_count": null,
   "id": "490fcba7",
   "metadata": {},
   "outputs": [],
   "source": []
  }
 ],
 "metadata": {
  "kernelspec": {
   "display_name": "Python 3 (ipykernel)",
   "language": "python",
   "name": "python3"
  },
  "language_info": {
   "codemirror_mode": {
    "name": "ipython",
    "version": 3
   },
   "file_extension": ".py",
   "mimetype": "text/x-python",
   "name": "python",
   "nbconvert_exporter": "python",
   "pygments_lexer": "ipython3",
   "version": "3.10.12"
  }
 },
 "nbformat": 4,
 "nbformat_minor": 5
}
