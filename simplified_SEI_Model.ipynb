{
 "cells": [
  {
   "cell_type": "markdown",
   "id": "2bf3605d",
   "metadata": {},
   "source": [
    "# Simplify SPMe+SEI Model "
   ]
  },
  {
   "cell_type": "markdown",
   "id": "3df340b3",
   "metadata": {},
   "source": [
    "The main purpose of this section is to reformulate the SPMe+RF model from. \n",
    "\n",
    "Assumptions:\n",
    "\n",
    "<ol>\n",
    "    <li> The diffusivity parameter of lithium ion in the negative particle is constant.</li>\n",
    "    <li> The concentration of lithium ions in the electrolyte is constant.</li>\n",
    "    <li> The conductivity and transport efficiency of the electrolyte are also constant </li>\n",
    "    </ol>"
   ]
  },
  {
   "cell_type": "markdown",
   "id": "1d60860a",
   "metadata": {},
   "source": [
    "$$   \\frac{d \\bar{\\hat{c}}_{\\mathrm{n0}}}{d\\hat{t}}=\\frac{-3}{\\alpha_n }\\hat{J}_\\mathrm{n}^\\mathrm{total}.$$"
   ]
  },
  {
   "cell_type": "code",
   "execution_count": 1,
   "id": "b4e9becb",
   "metadata": {},
   "outputs": [],
   "source": [
    "import pybamm\n",
    "import numpy as np\n",
    "import matplotlib.pyplot as plt"
   ]
  },
  {
   "cell_type": "code",
   "execution_count": 2,
   "id": "3930ee0a",
   "metadata": {},
   "outputs": [],
   "source": [
    "cn = pybamm.Variable(\"Concentration [mol.m-3]\")\n",
    "phi_n = pybamm.Variable(\"Negative electrode potential [V]\", domain=\"negative electrode\")\n",
    "phi_e_n = pybamm.Variable(\"Negative electrolyte potential [V]\", domain=\"negative electrode\")\n",
    "E_n = pybamm.Variable(\"Negative electrode porosity\", domain=\"negative electrode\")\n",
    "L_SEI = pybamm.Variable(\"Thickness of SEI [m]\",  domain=\"negative electrode\")\n",
    "\n",
    "x_n = pybamm.SpatialVariable(\"x_n\", domain=[\"negative electrode\"], coord_sys=\"cartesian\")"
   ]
  },
  {
   "cell_type": "code",
   "execution_count": 3,
   "id": "e5f1a08e",
   "metadata": {},
   "outputs": [],
   "source": [
    "# dimensional parameters\n",
    "k = pybamm.Parameter(\"Reaction rate constant [m.s-1]\")\n",
    "# c_inf = pybamm.Parameter(\"Bulk electrolyte solvent concentration [mol.m-3]\")\n",
    "R_n = pybamm.Parameter(\"Particle radius [m]\")\n",
    "#D = pybamm.FunctionParameter(\"Diffusion coefficient [m2.s-1]\", {\"Concentration [mol.m-3]\": cn})\n",
    "D = pybamm.Parameter(\"Diffusion coefficient [m2.s-1]\")\n",
    "#j = pybamm.InputParameter(\"Interfacial current density [A.m-2]\")\n",
    "T = pybamm.Parameter('Initial temperature [K]')\n",
    "R = pybamm.Parameter(\"Molar gas constant [J.mol-1.K-1]\")\n",
    "F = pybamm.Parameter(\"Faraday constant [C.mol-1]\")\n",
    "cn0 = pybamm.Parameter(\"Initial concentration [mol.m-3]\")\n",
    "c_e = pybamm.Parameter(\"Electrolyte concentration [mol.m-3]\")\n",
    "L_n = pybamm.Parameter(\"Negative electrode thickness [m]\")\n",
    "I_app = pybamm.Parameter(\"Applied current [A]\")\n",
    "j_SEI_0 =  pybamm.Parameter('SEI reaction exchange current density [A.m-2]')\n",
    "an = pybamm.Parameter('Particle surface area to volume ratio [m-1]')\n",
    "U_SEI= pybamm.Parameter('SEI open-circuit potential [V]')\n",
    "s_SEI = pybamm.Parameter(\"SEI conductivity [S.m-1]\")\n",
    "c_surf = pybamm.surf(cn)  # get the surface concentration\n",
    "inputs = {\"negative particle surface concentration [mol.m-3]\": c_surf}\n",
    "Un=pybamm.FunctionParameter(\"Negative electrode OCP [V]\", inputs )\n",
    "L_SEI_0 = pybamm.Parameter(\"Initial SEI thickness [m]\")\n",
    "alpha_SEI = pybamm.Scalar(.5);\n",
    "sigma_e=pybamm.Parameter('Electrolyte conductivity [S.m-1]')\n",
    "B = pybamm.Scalar(.5);\n",
    "E_init=pybamm.Parameter('Initial negative electrode porosity')\n",
    "M_SEI = pybamm.Parameter(\"Molar weight of SEI material [kg.mol-1]\")\n",
    "rho_SEI = pybamm.Parameter(\"Density of SEI material [kg.m-3]\")\n",
    "n_SEI = pybamm.Scalar(2)\n"
   ]
  },
  {
   "cell_type": "code",
   "execution_count": 4,
   "id": "5e77db5d",
   "metadata": {},
   "outputs": [],
   "source": [
    "from pybamm import tanh\n",
    "from pybamm import exp\n",
    "\n",
    "# # both functions will depend on the maximum concentration\n",
    "# c_max = pybamm.Parameter(\"Maximum concentration in positive electrode [mol.m-3]\")\n",
    "\n",
    "\n",
    "# def exchange_current_density(c_surf):\n",
    "#     k = 6 * 10 ** (-7)   # reaction rate [(A/m2)(m3/mol)**1.5]\n",
    "#     c_e = 1000  # (constant) electrolyte concentration [mol.m-3]\n",
    "#     return k * c_e** 0.5 * c_surf ** 0.5 * (c_max - c_surf) ** 0.5\n",
    "\n",
    "\n",
    "def open_circuit_potential(xx):\n",
    "#     stretch = 1.062\n",
    "#     sto = stretch * c_surf / c_max\n",
    "\n",
    "    u_eq = (\n",
    "         0.2482\n",
    "        + 1.9793*exp(-39.3631*xx)\n",
    "        - 0.0909 * tanh(29.8538*(xx-0.1234))\n",
    "        - 0.04478 * tanh(14.9159*(xx-0.2769))\n",
    "        - 0.0205 * tanh(30.4444*(xx-0.6103))\n",
    "    )\n",
    "    return u_eq\n",
    "\n"
   ]
  },
  {
   "cell_type": "code",
   "execution_count": 5,
   "id": "e2f8e685",
   "metadata": {},
   "outputs": [],
   "source": [
    "#j_SR0 =  pybamm.FunctionParameter(\"Positive electrode exchange-current density [A.m-2]\", inputs)\n",
    "J_SR =  -an * j_SEI_0 * pybamm.exp(-alpha_SEI*F/(R*T) * (phi_n - phi_e_n - U_SEI- (I_app*L_SEI/(L_n*an*s_SEI))))\n",
    "J_SR_AV=pybamm.x_average(J_SR);"
   ]
  },
  {
   "cell_type": "code",
   "execution_count": 6,
   "id": "027eae96",
   "metadata": {},
   "outputs": [],
   "source": [
    "model = pybamm.BaseModel()\n",
    "\n",
    "model.algebraic = {\n",
    "#      phi_n: I_app/L_n*x_n,\n",
    "#     phi_n:  I_app/(2*sigma_e*B*L_n)*x_n*x_n,\n",
    "#     phi_e_n: I_app/(2*sigma_e*B*L_n)*x_n*x_n,\n",
    "    phi_n: Un,\n",
    "    phi_e_n: I_app/(2*sigma_e*B*L_n)*x_n*x_n,\n",
    "    L_SEI: L_SEI_0-1/an*(E_n-E_init),    \n",
    "}"
   ]
  },
  {
   "cell_type": "code",
   "execution_count": 7,
   "id": "c68f115a",
   "metadata": {},
   "outputs": [],
   "source": [
    "dcndt = -3/(an*R_n)*(I_app/L_n-J_SR_AV)\n",
    "dEndt=M_SEI/(n_SEI*rho_SEI*F)*J_SR_AV"
   ]
  },
  {
   "cell_type": "code",
   "execution_count": 8,
   "id": "76c34178",
   "metadata": {},
   "outputs": [],
   "source": [
    "model.rhs = {cn: dcndt, E_n: dEndt} "
   ]
  },
  {
   "cell_type": "code",
   "execution_count": 9,
   "id": "5625842a",
   "metadata": {},
   "outputs": [],
   "source": [
    "phi_n0= pybamm.Scalar(0.01)\n",
    "phi_e_n0=pybamm.Scalar(-1.18485878)\n",
    "L_SEI0=pybamm.Scalar(1e-9)\n",
    "cn0=pybamm.Scalar(873)\n",
    "En0=pybamm.Scalar(0.25)"
   ]
  },
  {
   "cell_type": "code",
   "execution_count": 10,
   "id": "44545bde",
   "metadata": {},
   "outputs": [],
   "source": [
    "# Initial Condition\n",
    "# inputs = {\"Initial concentration [mol.m-3]\": cn0}\n",
    "# U_init = pybamm.FunctionParameter(\"Negative electrode OCP [V]\", inputs)\n",
    "model.initial_conditions = {\n",
    "    phi_n:phi_n0,\n",
    "    phi_e_n: phi_e_n0,\n",
    "    L_SEI: L_SEI0,\n",
    "    cn : cn0,\n",
    "    E_n : En0,\n",
    "}"
   ]
  },
  {
   "cell_type": "code",
   "execution_count": 11,
   "id": "9bc2231f",
   "metadata": {},
   "outputs": [],
   "source": [
    "model.variables = {\n",
    "    \"Concentration [mol.m-3]\": cn,\n",
    "    \"Negative electrode potential [V]\": phi_n,\n",
    "    \"Negative electrolyte potential [V]\": phi_e_n,\n",
    "    \"Negative electrode porosity\": E_n, \n",
    "    \"Thickness of SEI [m]\": L_SEI,\n",
    "}"
   ]
  },
  {
   "cell_type": "code",
   "execution_count": 12,
   "id": "30c2526a",
   "metadata": {},
   "outputs": [],
   "source": [
    "geometry = {\n",
    "    \"negative electrode\": {x_n: {\"min\": 0, \"max\": L_n}},\n",
    "#     \"negative particle\": {r: {\"min\": 0, \"max\": R_n}},\n",
    "}"
   ]
  },
  {
   "cell_type": "code",
   "execution_count": 13,
   "id": "d4571202",
   "metadata": {},
   "outputs": [],
   "source": [
    "param = pybamm.ParameterValues(\n",
    "    {\"Reaction rate constant [m.s-1]\": 1e-6,\n",
    "      \"Initial SEI thickness [m]\": 1e-12,\n",
    "     \"Particle radius [m]\": 5.86e-06,\n",
    "     \"Diffusion coefficient [m2.s-1]\": 3.3*1e-14,\n",
    "     'Initial temperature [K]': 298,\n",
    "     \"Molar gas constant [J.mol-1.K-1]\": 8.314,\n",
    "     \"Initial concentration [mol.m-3]\": 1000,\n",
    "     \"Negative electrode thickness [m]\": 8.52e-05,\n",
    "     \"Applied current [A]\": 76,\n",
    "     'SEI reaction exchange current density [A.m-2]': 1.5e-07,\n",
    "     'Particle surface area to volume ratio [m-1]': 3.84 *1e5,\n",
    "     'SEI open-circuit potential [V]': 0.4,\n",
    "     \"SEI conductivity [S.m-1]\": 5e-6, \n",
    "      \"Electrolyte conductivity [S.m-1]\": 0.95,\n",
    "     'Initial negative electrode porosity': 0.25,\n",
    "     \"Molar weight of SEI material [kg.mol-1]\": 0.162,\n",
    "     \"Density of SEI material [kg.m-3]\": 1690, \n",
    "      \"Negative electrode OCP [V]\": open_circuit_potential,\n",
    "    }\n",
    ")\n",
    "    "
   ]
  },
  {
   "cell_type": "code",
   "execution_count": 14,
   "id": "b11d5881",
   "metadata": {},
   "outputs": [],
   "source": [
    "param.process_model(model)\n",
    "param.process_geometry(geometry)"
   ]
  },
  {
   "cell_type": "code",
   "execution_count": 15,
   "id": "e60ac014",
   "metadata": {},
   "outputs": [],
   "source": [
    "submesh_types = {\n",
    "    \"negative electrode\": pybamm.Uniform1DSubMesh,\n",
    "#     \"negative particle\": pybamm.Uniform1DSubMesh,\n",
    "}\n",
    "# var_pts = {x_n: 20, r: 30}\n",
    "var_pts = {x_n: 20}\n",
    "mesh = pybamm.Mesh(geometry, submesh_types, var_pts)\n",
    "\n",
    "spatial_methods = {\n",
    "    \"negative electrode\": pybamm.FiniteVolume(),\n",
    "#     \"negative particle\": pybamm.FiniteVolume(),\n",
    "}\n",
    "disc = pybamm.Discretisation(mesh, spatial_methods)\n",
    "disc.process_model(model);"
   ]
  },
  {
   "cell_type": "code",
   "execution_count": 16,
   "id": "c2b0f11c",
   "metadata": {},
   "outputs": [
    {
     "ename": "RuntimeError",
     "evalue": ".../casadi/core/function_internal.cpp:145: Error calling Newton::init for 'roots':\n.../casadi/core/rootfinder.cpp:235: Assertion \"!sp_jac_.is_singular()\" failed:\nRootfinder::init: singularity - the jacobian is structurally rank-deficient. sprank(J)=0 (instead of 60)",
     "output_type": "error",
     "traceback": [
      "\u001b[1;31m---------------------------------------------------------------------------\u001b[0m",
      "\u001b[1;31mRuntimeError\u001b[0m                              Traceback (most recent call last)",
      "Cell \u001b[1;32mIn[16], line 3\u001b[0m\n\u001b[0;32m      1\u001b[0m solver \u001b[38;5;241m=\u001b[39m pybamm\u001b[38;5;241m.\u001b[39mCasadiSolver()\n\u001b[0;32m      2\u001b[0m t \u001b[38;5;241m=\u001b[39m np\u001b[38;5;241m.\u001b[39mlinspace(\u001b[38;5;241m0\u001b[39m, \u001b[38;5;241m360\u001b[39m, \u001b[38;5;241m100\u001b[39m)\n\u001b[1;32m----> 3\u001b[0m solution \u001b[38;5;241m=\u001b[39m solver\u001b[38;5;241m.\u001b[39msolve(model, t)\n",
      "File \u001b[1;32m~\\AppData\\Roaming\\Python\\Python311\\site-packages\\pybamm\\solvers\\base_solver.py:828\u001b[0m, in \u001b[0;36mBaseSolver.solve\u001b[1;34m(self, model, t_eval, inputs, initial_conditions, nproc, calculate_sensitivities)\u001b[0m\n\u001b[0;32m    822\u001b[0m     \u001b[38;5;28;01mif\u001b[39;00m all_inputs_names\u001b[38;5;241m.\u001b[39missubset(initial_conditions_node_names):\n\u001b[0;32m    823\u001b[0m         \u001b[38;5;28;01mraise\u001b[39;00m pybamm\u001b[38;5;241m.\u001b[39mSolverError(\n\u001b[0;32m    824\u001b[0m             \u001b[38;5;124m\"\u001b[39m\u001b[38;5;124mInput parameters cannot appear in expression \u001b[39m\u001b[38;5;124m\"\u001b[39m\n\u001b[0;32m    825\u001b[0m             \u001b[38;5;124m\"\u001b[39m\u001b[38;5;124mfor initial conditions.\u001b[39m\u001b[38;5;124m\"\u001b[39m\n\u001b[0;32m    826\u001b[0m         )\n\u001b[1;32m--> 828\u001b[0m \u001b[38;5;28mself\u001b[39m\u001b[38;5;241m.\u001b[39m_set_initial_conditions(\n\u001b[0;32m    829\u001b[0m     model, t_eval[\u001b[38;5;241m0\u001b[39m], model_inputs_list[\u001b[38;5;241m0\u001b[39m], update_rhs\u001b[38;5;241m=\u001b[39m\u001b[38;5;28;01mTrue\u001b[39;00m\n\u001b[0;32m    830\u001b[0m )\n\u001b[0;32m    832\u001b[0m \u001b[38;5;66;03m# Check initial conditions don't violate events\u001b[39;00m\n\u001b[0;32m    833\u001b[0m \u001b[38;5;28mself\u001b[39m\u001b[38;5;241m.\u001b[39m_check_events_with_initial_conditions(t_eval, model, model_inputs_list[\u001b[38;5;241m0\u001b[39m])\n",
      "File \u001b[1;32m~\\AppData\\Roaming\\Python\\Python311\\site-packages\\pybamm\\solvers\\base_solver.py:601\u001b[0m, in \u001b[0;36mBaseSolver._set_initial_conditions\u001b[1;34m(self, model, time, inputs_dict, update_rhs)\u001b[0m\n\u001b[0;32m    597\u001b[0m         \u001b[38;5;28;01melse\u001b[39;00m:\n\u001b[0;32m    598\u001b[0m             model\u001b[38;5;241m.\u001b[39my0 \u001b[38;5;241m=\u001b[39m np\u001b[38;5;241m.\u001b[39mvstack(\n\u001b[0;32m    599\u001b[0m                 (y0_from_inputs[:len_rhs], y0_from_model[len_rhs:])\n\u001b[0;32m    600\u001b[0m             )\n\u001b[1;32m--> 601\u001b[0m     y0 \u001b[38;5;241m=\u001b[39m \u001b[38;5;28mself\u001b[39m\u001b[38;5;241m.\u001b[39mcalculate_consistent_state(model, time, inputs_dict)\n\u001b[0;32m    602\u001b[0m \u001b[38;5;66;03m# Make y0 a function of inputs if doing symbolic with casadi\u001b[39;00m\n\u001b[0;32m    603\u001b[0m model\u001b[38;5;241m.\u001b[39my0 \u001b[38;5;241m=\u001b[39m y0\n",
      "File \u001b[1;32m~\\AppData\\Roaming\\Python\\Python311\\site-packages\\pybamm\\solvers\\base_solver.py:630\u001b[0m, in \u001b[0;36mBaseSolver.calculate_consistent_state\u001b[1;34m(self, model, time, inputs)\u001b[0m\n\u001b[0;32m    628\u001b[0m     \u001b[38;5;28;01mreturn\u001b[39;00m model\u001b[38;5;241m.\u001b[39my0\n\u001b[0;32m    629\u001b[0m \u001b[38;5;28;01mtry\u001b[39;00m:\n\u001b[1;32m--> 630\u001b[0m     root_sol \u001b[38;5;241m=\u001b[39m \u001b[38;5;28mself\u001b[39m\u001b[38;5;241m.\u001b[39mroot_method\u001b[38;5;241m.\u001b[39m_integrate(model, np\u001b[38;5;241m.\u001b[39marray([time]), inputs)\n\u001b[0;32m    631\u001b[0m \u001b[38;5;28;01mexcept\u001b[39;00m pybamm\u001b[38;5;241m.\u001b[39mSolverError \u001b[38;5;28;01mas\u001b[39;00m e:\n\u001b[0;32m    632\u001b[0m     \u001b[38;5;28;01mraise\u001b[39;00m pybamm\u001b[38;5;241m.\u001b[39mSolverError(\n\u001b[0;32m    633\u001b[0m         \u001b[38;5;124m\"\u001b[39m\u001b[38;5;124mCould not find consistent states: \u001b[39m\u001b[38;5;132;01m{}\u001b[39;00m\u001b[38;5;124m\"\u001b[39m\u001b[38;5;241m.\u001b[39mformat(e\u001b[38;5;241m.\u001b[39margs[\u001b[38;5;241m0\u001b[39m])\n\u001b[0;32m    634\u001b[0m     )\n",
      "File \u001b[1;32m~\\AppData\\Roaming\\Python\\Python311\\site-packages\\pybamm\\solvers\\casadi_algebraic_solver.py:100\u001b[0m, in \u001b[0;36mCasadiAlgebraicSolver._integrate\u001b[1;34m(self, model, t_eval, inputs_dict)\u001b[0m\n\u001b[0;32m     97\u001b[0m constraints[model\u001b[38;5;241m.\u001b[39mbounds[\u001b[38;5;241m1\u001b[39m] \u001b[38;5;241m<\u001b[39m\u001b[38;5;241m=\u001b[39m \u001b[38;5;241m0\u001b[39m] \u001b[38;5;241m=\u001b[39m \u001b[38;5;241m-\u001b[39m\u001b[38;5;241m1\u001b[39m\n\u001b[0;32m     99\u001b[0m \u001b[38;5;66;03m# Set up rootfinder\u001b[39;00m\n\u001b[1;32m--> 100\u001b[0m roots \u001b[38;5;241m=\u001b[39m casadi\u001b[38;5;241m.\u001b[39mrootfinder(\n\u001b[0;32m    101\u001b[0m     \u001b[38;5;124m\"\u001b[39m\u001b[38;5;124mroots\u001b[39m\u001b[38;5;124m\"\u001b[39m,\n\u001b[0;32m    102\u001b[0m     \u001b[38;5;124m\"\u001b[39m\u001b[38;5;124mnewton\u001b[39m\u001b[38;5;124m\"\u001b[39m,\n\u001b[0;32m    103\u001b[0m     \u001b[38;5;28mdict\u001b[39m(x\u001b[38;5;241m=\u001b[39my_alg_sym, p\u001b[38;5;241m=\u001b[39mt_sym, g\u001b[38;5;241m=\u001b[39malg),\n\u001b[0;32m    104\u001b[0m     {\n\u001b[0;32m    105\u001b[0m         \u001b[38;5;241m*\u001b[39m\u001b[38;5;241m*\u001b[39m\u001b[38;5;28mself\u001b[39m\u001b[38;5;241m.\u001b[39mextra_options,\n\u001b[0;32m    106\u001b[0m         \u001b[38;5;124m\"\u001b[39m\u001b[38;5;124mabstol\u001b[39m\u001b[38;5;124m\"\u001b[39m: \u001b[38;5;28mself\u001b[39m\u001b[38;5;241m.\u001b[39mtol,\n\u001b[0;32m    107\u001b[0m         \u001b[38;5;124m\"\u001b[39m\u001b[38;5;124mconstraints\u001b[39m\u001b[38;5;124m\"\u001b[39m: \u001b[38;5;28mlist\u001b[39m(constraints[len_rhs:]),\n\u001b[0;32m    108\u001b[0m     },\n\u001b[0;32m    109\u001b[0m )\n\u001b[0;32m    111\u001b[0m timer \u001b[38;5;241m=\u001b[39m pybamm\u001b[38;5;241m.\u001b[39mTimer()\n\u001b[0;32m    112\u001b[0m integration_time \u001b[38;5;241m=\u001b[39m \u001b[38;5;241m0\u001b[39m\n",
      "File \u001b[1;32m~\\AppData\\Roaming\\Python\\Python311\\site-packages\\casadi\\casadi.py:30217\u001b[0m, in \u001b[0;36mrootfinder\u001b[1;34m(*args)\u001b[0m\n\u001b[0;32m  29513\u001b[0m \u001b[38;5;28;01mdef\u001b[39;00m \u001b[38;5;21mrootfinder\u001b[39m(\u001b[38;5;241m*\u001b[39margs) \u001b[38;5;241m-\u001b[39m\u001b[38;5;241m>\u001b[39m \u001b[38;5;124m\"\u001b[39m\u001b[38;5;124mcasadi::Function\u001b[39m\u001b[38;5;124m\"\u001b[39m:\n\u001b[0;32m  29514\u001b[0m \u001b[38;5;250m    \u001b[39m\u001b[38;5;124;03m\"\"\"\u001b[39;00m\n\u001b[0;32m  29515\u001b[0m \u001b[38;5;124;03m      [INTERNAL] \u001b[39;00m\n\u001b[0;32m  29516\u001b[0m \n\u001b[1;32m   (...)\u001b[0m\n\u001b[0;32m  30215\u001b[0m \n\u001b[0;32m  30216\u001b[0m \u001b[38;5;124;03m    \"\"\"\u001b[39;00m\n\u001b[1;32m> 30217\u001b[0m     \u001b[38;5;28;01mreturn\u001b[39;00m _casadi\u001b[38;5;241m.\u001b[39mrootfinder(\u001b[38;5;241m*\u001b[39margs)\n",
      "\u001b[1;31mRuntimeError\u001b[0m: .../casadi/core/function_internal.cpp:145: Error calling Newton::init for 'roots':\n.../casadi/core/rootfinder.cpp:235: Assertion \"!sp_jac_.is_singular()\" failed:\nRootfinder::init: singularity - the jacobian is structurally rank-deficient. sprank(J)=0 (instead of 60)"
     ]
    }
   ],
   "source": [
    "solver = pybamm.CasadiSolver()\n",
    "t = np.linspace(0, 360, 100)\n",
    "solution = solver.solve(model, t)"
   ]
  },
  {
   "cell_type": "code",
   "execution_count": null,
   "id": "a56dc8b6",
   "metadata": {},
   "outputs": [],
   "source": [
    "cycle_number =1\n",
    "exp = pybamm.Experiment(\n",
    "    [(\"Charge at C/10  until 4.2 V\",\n",
    "       \"Rest for 10 hours\",\n",
    "     \"Discharge at C/10 until 2.5 V\",\n",
    "     \"Rest for 10 hours\")] *cycle_number)\n",
    "pybamm.lithium_ion.SPMe().variable_names()"
   ]
  },
  {
   "cell_type": "code",
   "execution_count": null,
   "id": "c246b7ff",
   "metadata": {},
   "outputs": [],
   "source": []
  },
  {
   "cell_type": "code",
   "execution_count": null,
   "id": "3f9a33ff",
   "metadata": {},
   "outputs": [],
   "source": []
  },
  {
   "cell_type": "code",
   "execution_count": null,
   "id": "3a516214",
   "metadata": {},
   "outputs": [],
   "source": []
  }
 ],
 "metadata": {
  "kernelspec": {
   "display_name": "Python 3 (ipykernel)",
   "language": "python",
   "name": "python3"
  },
  "language_info": {
   "codemirror_mode": {
    "name": "ipython",
    "version": 3
   },
   "file_extension": ".py",
   "mimetype": "text/x-python",
   "name": "python",
   "nbconvert_exporter": "python",
   "pygments_lexer": "ipython3",
   "version": "3.11.4"
  }
 },
 "nbformat": 4,
 "nbformat_minor": 5
}
