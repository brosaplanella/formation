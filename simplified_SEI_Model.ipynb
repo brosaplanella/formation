{
 "cells": [
  {
   "cell_type": "markdown",
   "id": "2bf3605d",
   "metadata": {},
   "source": [
    "# Simplify SPMe+SEI Model "
   ]
  },
  {
   "cell_type": "markdown",
   "id": "3df340b3",
   "metadata": {},
   "source": [
    "The main purpose of this section is to reformulate the SPMe+RF model from. \n",
    "\n",
    "Assumptions:\n",
    "\n",
    "<ol>\n",
    "    <li> The diffusivity parameter of lithium ion in the negative particle is constant.</li>\n",
    "    <li> The concentration of lithium ions in the electrolyte is constant.</li>\n",
    "    <li> The conductivity and transport efficiency of the electrolyte are also constant </li>\n",
    "    </ol>"
   ]
  },
  {
   "cell_type": "markdown",
   "id": "1d60860a",
   "metadata": {},
   "source": [
    "$$  \n",
    "\\begin{equation}\n",
    "\\frac{d \\bar{\\hat{c}}_{\\mathrm{n0}}}{d\\hat{t}}=\\frac{-3}{\\alpha_n }\\hat{J}_\\mathrm{n}^\\mathrm{total}.\n",
    "\\end{equation}\n",
    "$$\n",
    "\n",
    "$$\n",
    " \\frac{\\partial \\varepsilon_\\mathrm{n}}{\\partial t}= \\frac{M_\\mathrm{SR}}{n_\\mathrm{SR} \\rho_\\mathrm{SR} F} \\bar{J}_\\mathrm{SR},\n",
    " $$\n",
    "$$\n",
    "  L_\\mathrm{f, n}=L_\\mathrm{f,n,init}-\\frac{1}{a_\\mathrm{n}}(\\varepsilon_\\mathrm{n}-\\varepsilon_\\mathrm{n, init}) \n",
    " $$\n",
    " \n",
    "$$\n",
    "    J_\\mathrm{n}^{\\mathrm{total}}=\\frac{i_\\mathrm{app}}{L_\\mathrm{n}}-\\bar{J}_\\mathrm{SR}, \n",
    "$$\n",
    "\n",
    "$$\n",
    "    \\bar{J}_\\mathrm{SR}=\\frac{1}{L_\\mathrm{n}} \\int_0^{L_\\mathrm{n}} J_\\mathrm{SR} d\\scriptstyle{\\mathcal{X}},\n",
    "$$\n",
    "\n",
    "$$\n",
    "    J_{\\mathrm{SR}}=-a_\\mathrm{n} j_\\mathrm{SR} \\mathrm{exp}\\left(-\\alpha_\\mathrm{SR}\\frac{F}{RT} \\left(\\phi_\\mathrm{n}-\\phi_\\mathrm{e}-U_\\mathrm{SR}-\\frac{i_\\mathrm{app}L_\\mathrm{f, n}}{a_\\mathrm{n} \\sigma_\\mathrm{f, n} L_\\mathrm{n}} \\right ) \\right ).\n",
    "$$\n",
    "\n",
    "\\begin{equation}\n",
    "\\begin{aligned}\n",
    "&\\phi_\\mathrm{n}=U_\\mathrm{n}(\\bar{c}_\\mathrm{n}|_{r=R_{n}}) \\\\\n",
    "  &\\phi_e=- \\frac{i_\\mathrm{app} }{2 \\sigma_\\mathrm{e} {\\scriptstyle\\mathcal{B}} L_n}\\scriptstyle\\mathcal{X}^2\n",
    "  \\end{aligned}\n",
    "\\end{equation}"
   ]
  },
  {
   "cell_type": "markdown",
   "id": "8881317e",
   "metadata": {},
   "source": [
    "So, Basically we are trying two solve DAEs with (1,2 3, 6, 7) for the variables $\\bar{c}$, $\\varepsilon$, $L_\\mathrm{f, n}$,  $\\phi_e$ and $\\phi_n$ with approperiate initial conditions. For Simiplicity (now) we only conider first terms for $\\phi_e$ and $\\phi_n$."
   ]
  },
  {
   "cell_type": "code",
   "execution_count": 263,
   "id": "b4e9becb",
   "metadata": {},
   "outputs": [
    {
     "data": {
      "text/plain": [
       "<bound method ParameterValues.items of {'Ambient temperature [K]': 298.15,\n",
       " 'Boltzmann constant [J.K-1]': 1.380649e-23,\n",
       " 'Bulk solvent concentration [mol.m-3]': 2636.0,\n",
       " 'Cation transference number': 0.2594,\n",
       " 'Cell cooling surface area [m2]': 0.00531,\n",
       " 'Cell thermal expansion coefficient [m.K-1]': 1.1e-06,\n",
       " 'Cell volume [m3]': 2.42e-05,\n",
       " 'Contact resistance [Ohm]': 0,\n",
       " 'Current function [A]': 5.0,\n",
       " 'EC diffusivity [m2.s-1]': 2e-18,\n",
       " 'EC initial concentration in electrolyte [mol.m-3]': 4541.0,\n",
       " 'Electrode height [m]': 0.065,\n",
       " 'Electrode width [m]': 1.58,\n",
       " 'Electrolyte conductivity [S.m-1]': <function electrolyte_conductivity_Nyman2008 at 0x7f05abe5fd00>,\n",
       " 'Electrolyte diffusivity [m2.s-1]': <function electrolyte_diffusivity_Nyman2008 at 0x7f05abe5fc70>,\n",
       " 'Electron charge [C]': 1.602176634e-19,\n",
       " 'Faraday constant [C.mol-1]': 96485.33212,\n",
       " 'Ideal gas constant [J.K-1.mol-1]': 8.314462618,\n",
       " 'Initial concentration in electrolyte [mol.m-3]': 1000.0,\n",
       " 'Initial concentration in negative electrode [mol.m-3]': 29866.0,\n",
       " 'Initial concentration in positive electrode [mol.m-3]': 17038.0,\n",
       " 'Initial inner SEI thickness [m]': 2.5e-09,\n",
       " 'Initial outer SEI thickness [m]': 2.5e-09,\n",
       " 'Initial temperature [K]': 298.15,\n",
       " 'Inner SEI electron conductivity [S.m-1]': 8.95e-14,\n",
       " 'Inner SEI lithium interstitial diffusivity [m2.s-1]': 1e-20,\n",
       " 'Inner SEI open-circuit potential [V]': 0.1,\n",
       " 'Inner SEI partial molar volume [m3.mol-1]': 9.585e-05,\n",
       " 'Inner SEI reaction proportion': 0.5,\n",
       " 'Lithium interstitial reference concentration [mol.m-3]': 15.0,\n",
       " 'Lower voltage cut-off [V]': 2.5,\n",
       " 'Maximum concentration in negative electrode [mol.m-3]': 33133.0,\n",
       " 'Maximum concentration in positive electrode [mol.m-3]': 63104.0,\n",
       " 'Negative current collector conductivity [S.m-1]': 58411000.0,\n",
       " 'Negative current collector density [kg.m-3]': 8960.0,\n",
       " 'Negative current collector specific heat capacity [J.kg-1.K-1]': 385.0,\n",
       " 'Negative current collector thermal conductivity [W.m-1.K-1]': 401.0,\n",
       " 'Negative current collector thickness [m]': 1.2e-05,\n",
       " 'Negative electrode Bruggeman coefficient (electrode)': 0,\n",
       " 'Negative electrode Bruggeman coefficient (electrolyte)': 1.5,\n",
       " 'Negative electrode OCP [V]': <function graphite_LGM50_ocp_Chen2020 at 0x7f05abe5cf70>,\n",
       " 'Negative electrode OCP entropic change [V.K-1]': 0.0,\n",
       " 'Negative electrode active material volume fraction': 0.75,\n",
       " 'Negative electrode charge transfer coefficient': 0.5,\n",
       " 'Negative electrode conductivity [S.m-1]': 215.0,\n",
       " 'Negative electrode density [kg.m-3]': 1657.0,\n",
       " 'Negative electrode diffusivity [m2.s-1]': 3.3e-14,\n",
       " 'Negative electrode double-layer capacity [F.m-2]': 0.2,\n",
       " 'Negative electrode exchange-current density [A.m-2]': <function graphite_LGM50_electrolyte_exchange_current_density_Chen2020 at 0x7f05abe5fb50>,\n",
       " 'Negative electrode porosity': 0.25,\n",
       " 'Negative electrode reaction-driven LAM factor [m3.mol-1]': 0.0,\n",
       " 'Negative electrode specific heat capacity [J.kg-1.K-1]': 700.0,\n",
       " 'Negative electrode thermal conductivity [W.m-1.K-1]': 1.7,\n",
       " 'Negative electrode thickness [m]': 8.52e-05,\n",
       " 'Negative particle radius [m]': 5.86e-06,\n",
       " 'Nominal cell capacity [A.h]': 5.0,\n",
       " 'Number of cells connected in series to make a battery': 1.0,\n",
       " 'Number of electrodes connected in parallel to make a cell': 1.0,\n",
       " 'Outer SEI open-circuit potential [V]': 0.8,\n",
       " 'Outer SEI partial molar volume [m3.mol-1]': 9.585e-05,\n",
       " 'Outer SEI solvent diffusivity [m2.s-1]': 2.5000000000000002e-22,\n",
       " 'Positive current collector conductivity [S.m-1]': 36914000.0,\n",
       " 'Positive current collector density [kg.m-3]': 2700.0,\n",
       " 'Positive current collector specific heat capacity [J.kg-1.K-1]': 897.0,\n",
       " 'Positive current collector thermal conductivity [W.m-1.K-1]': 237.0,\n",
       " 'Positive current collector thickness [m]': 1.6e-05,\n",
       " 'Positive electrode Bruggeman coefficient (electrode)': 0,\n",
       " 'Positive electrode Bruggeman coefficient (electrolyte)': 1.5,\n",
       " 'Positive electrode OCP [V]': <function nmc_LGM50_ocp_Chen2020 at 0x7f05abe5fd90>,\n",
       " 'Positive electrode OCP entropic change [V.K-1]': 0.0,\n",
       " 'Positive electrode active material volume fraction': 0.665,\n",
       " 'Positive electrode charge transfer coefficient': 0.5,\n",
       " 'Positive electrode conductivity [S.m-1]': 0.18,\n",
       " 'Positive electrode density [kg.m-3]': 3262.0,\n",
       " 'Positive electrode diffusivity [m2.s-1]': 4e-15,\n",
       " 'Positive electrode double-layer capacity [F.m-2]': 0.2,\n",
       " 'Positive electrode exchange-current density [A.m-2]': <function nmc_LGM50_electrolyte_exchange_current_density_Chen2020 at 0x7f05abe5f9a0>,\n",
       " 'Positive electrode porosity': 0.335,\n",
       " 'Positive electrode reaction-driven LAM factor [m3.mol-1]': 0.0,\n",
       " 'Positive electrode specific heat capacity [J.kg-1.K-1]': 700.0,\n",
       " 'Positive electrode thermal conductivity [W.m-1.K-1]': 2.1,\n",
       " 'Positive electrode thickness [m]': 7.56e-05,\n",
       " 'Positive particle radius [m]': 5.22e-06,\n",
       " 'Ratio of lithium moles to SEI moles': 2.0,\n",
       " 'Reference temperature [K]': 298.15,\n",
       " 'SEI growth activation energy [J.mol-1]': 0.0,\n",
       " 'SEI kinetic rate constant [m.s-1]': 1e-12,\n",
       " 'SEI open-circuit potential [V]': 0.4,\n",
       " 'SEI reaction exchange current density [A.m-2]': 1.5e-07,\n",
       " 'SEI resistivity [Ohm.m]': 200000.0,\n",
       " 'Separator Bruggeman coefficient (electrolyte)': 1.5,\n",
       " 'Separator density [kg.m-3]': 397.0,\n",
       " 'Separator porosity': 0.47,\n",
       " 'Separator specific heat capacity [J.kg-1.K-1]': 700.0,\n",
       " 'Separator thermal conductivity [W.m-1.K-1]': 0.16,\n",
       " 'Separator thickness [m]': 1.2e-05,\n",
       " 'Thermodynamic factor': 1.0,\n",
       " 'Total heat transfer coefficient [W.m-2.K-1]': 10.0,\n",
       " 'Upper voltage cut-off [V]': 4.2,\n",
       " 'citations': ['Chen2020']}>"
      ]
     },
     "execution_count": 263,
     "metadata": {},
     "output_type": "execute_result"
    }
   ],
   "source": [
    "import pybamm\n",
    "import numpy as np\n",
    "import matplotlib.pyplot as plt\n",
    "# import scipy.sparse as sparse\n",
    "# pybamm.__version__"
   ]
  },
  {
   "cell_type": "code",
   "execution_count": 264,
   "id": "4c758984",
   "metadata": {},
   "outputs": [],
   "source": [
    "model = pybamm.BaseModel()"
   ]
  },
  {
   "cell_type": "code",
   "execution_count": 265,
   "id": "3930ee0a",
   "metadata": {},
   "outputs": [],
   "source": [
    "cn_av = pybamm.Variable(\"Concentration [mol.m-3]\")\n",
    "phi_n = pybamm.Variable(\"Negative electrode potential [V]\")\n",
    "phi_e_n = pybamm.Variable(\"Negative electrolyte potential [V]\", domain=\"negative electrode\")\n",
    "E_n = pybamm.Variable(\"Negative electrode porosity\", domain=\"negative electrode\")\n",
    "L_SEI = pybamm.Variable(\"Thickness of SEI [m]\", domain=\"negative electrode\")\n",
    "\n",
    "x_n = pybamm.SpatialVariable(\"x_n\", domain=[\"negative electrode\"], coord_sys=\"cartesian\")"
   ]
  },
  {
   "cell_type": "code",
   "execution_count": 266,
   "id": "e5f1a08e",
   "metadata": {},
   "outputs": [],
   "source": [
    "# dimensional parameters\n",
    "R_n = pybamm.Parameter(\"Particle radius [m]\")\n",
    "# D = pybamm.Parameter(\"Diffusion coefficient [m2.s-1]\")\n",
    "T = pybamm.Parameter('Initial temperature [K]')\n",
    "R = pybamm.Parameter(\"Molar gas constant [J.mol-1.K-1]\")\n",
    "F = pybamm.Parameter(\"Faraday constant [C.mol-1]\")\n",
    "cn0 = pybamm.Parameter(\"Initial concentration [mol.m-3]\")\n",
    "c_e = pybamm.Parameter(\"Electrolyte concentration [mol.m-3]\")\n",
    "L_n = pybamm.Parameter(\"Negative electrode thickness [m]\")\n",
    "I_app = pybamm.Parameter(\"Applied current [A]\")\n",
    "j_SEI_0 =  pybamm.Parameter('Initial SEI reaction exchange current density [A.m-2]')\n",
    "an = pybamm.Parameter('Particle surface area to volume ratio [m-1]')\n",
    "U_SEI= pybamm.Parameter('SEI open-circuit potential [V]')\n",
    "s_SEI = pybamm.Parameter(\"SEI conductivity [S.m-1]\")\n",
    "L_SEI_0 = pybamm.Parameter(\"Initial SEI thickness [m]\")\n",
    "alpha_SEI = pybamm.Parameter('alpha_SEI [-]')\n",
    "sigma_e=pybamm.Parameter('Electrolyte conductivity [S.m-1]')\n",
    "B =  pybamm.Parameter(\"transference efficiency [-]\")\n",
    "E_init=pybamm.Parameter('Initial negative electrode porosity')\n",
    "M_SEI = pybamm.Parameter(\"Molar weight of SEI material [kg.mol-1]\")\n",
    "rho_SEI = pybamm.Parameter(\"Density of SEI material [kg.m-3]\")\n",
    "n_SEI = pybamm.Parameter(\"electrone number [-]\")\n",
    "# J_SR =  pybamm.Parameter('SEI reaction exchange current density [A.m-2]')\n",
    "\n"
   ]
  },
  {
   "cell_type": "code",
   "execution_count": 267,
   "id": "5e77db5d",
   "metadata": {},
   "outputs": [],
   "source": [
    "from pybamm import tanh\n",
    "from pybamm import exp\n",
    "\n",
    "# # both functions will depend on the maximum concentration\n",
    "# c_max = pybamm.Parameter(\"Maximum concentration in positive electrode [mol.m-3]\")\n",
    "\n",
    "\n",
    "# def exchange_current_density(c_surf):\n",
    "#     k = 6 * 10 ** (-7)   # reaction rate [(A/m2)(m3/mol)**1.5]\n",
    "#     c_e = 1000  # (constant) electrolyte concentration [mol.m-3]\n",
    "#     return k * c_e** 0.5 * c_surf ** 0.5 * (c_max - c_surf) ** 0.5\n",
    "\n",
    "\n",
    "def open_circuit_potential(xx):\n",
    "#     stretch = 1.062\n",
    "#     sto = stretch * c_surf / c_max\n",
    "\n",
    "    u_eq = (\n",
    "         0.2482\n",
    "        + 1.9793*exp(-39.3631*xx)\n",
    "        - 0.0909 * tanh(29.8538*(xx-0.1234))\n",
    "        - 0.04478 * tanh(14.9159*(xx-0.2769))\n",
    "        - 0.0205 * tanh(30.4444*(xx-0.6103))\n",
    "    )\n",
    "    return u_eq\n",
    "\n"
   ]
  },
  {
   "cell_type": "code",
   "execution_count": 268,
   "id": "0832b2bb",
   "metadata": {},
   "outputs": [],
   "source": [
    "model.variables = {\n",
    "    \"Concentration [mol.m-3]\": cn_av,\n",
    "    \"Negative electrode potential [V]\": phi_n,\n",
    "    \"Negative electrolyte potential [V]\":  phi_e_n,\n",
    "    \"Negative electrode porosity\": E_n, \n",
    "    \"Thickness of SEI [m]\": L_SEI,\n",
    "}"
   ]
  },
  {
   "cell_type": "code",
   "execution_count": 269,
   "id": "1f7c5f27",
   "metadata": {},
   "outputs": [],
   "source": [
    "param = pybamm.ParameterValues(\n",
    "    {\"Particle radius [m]\": 5.86e-06,\n",
    "    #  \"Diffusion coefficient [m2.s-1]\": 3.3*1e-14,\n",
    "     'Initial temperature [K]': 298,\n",
    "     \"Molar gas constant [J.mol-1.K-1]\": 8.314,\n",
    "     \"Faraday constant [C.mol-1]\": 96485.33212,\n",
    "     \"Initial concentration [mol.m-3]\": 866,\n",
    "     \"Electrolyte concentration [mol.m-3]\": 1000,\n",
    "     \"Negative electrode thickness [m]\": 8.52e-05,\n",
    "     \"Applied current [A]\": -0.1,\n",
    "     'Initial SEI reaction exchange current density [A.m-2]': 1.5e-07,\n",
    "     'Particle surface area to volume ratio [m-1]': 3.84e5,\n",
    "     'SEI open-circuit potential [V]':  0.4,\n",
    "     \"SEI conductivity [S.m-1]\": 5e-6, \n",
    "     \"Negative electrode OCP [V]\": open_circuit_potential,\n",
    "     \"Initial SEI thickness [m]\": 5e-9,\n",
    "     \"alpha_SEI [-]\": 0.5,\n",
    "      \"Electrolyte conductivity [S.m-1]\": 0.95,\n",
    "      \"transference efficiency [-]\": 0.9,\n",
    "     'Initial negative electrode porosity': 0.25,\n",
    "     \"Molar weight of SEI material [kg.mol-1]\": 0.162,\n",
    "     \"Density of SEI material [kg.m-3]\": 1690, \n",
    "     \"electrone number [-]\": 2,\n",
    "      \n",
    "    }\n",
    ")"
   ]
  },
  {
   "cell_type": "code",
   "execution_count": 270,
   "id": "027eae96",
   "metadata": {},
   "outputs": [],
   "source": [
    "# c_surf = pybamm.surf(cn_av)  # get the surface concentration\n",
    "inputs = {\"Negative particle surface concentration [mol.m-3]\":cn_av}\n",
    "Un = pybamm.FunctionParameter(\"Negative electrode OCP [V]\", inputs)\n",
    "model.algebraic = {\n",
    "  phi_n: phi_n -  Un,\n",
    "  phi_e_n: phi_e_n - I_app/(2*sigma_e*B*L_n)*x_n*x_n,\n",
    "  L_SEI: L_SEI - L_SEI_0-1/an*(E_n-E_init),\n",
    "  }"
   ]
  },
  {
   "cell_type": "code",
   "execution_count": 271,
   "id": "1901ff8f",
   "metadata": {},
   "outputs": [],
   "source": [
    "# c_surf = pybamm.surf(cn)  # get the surface concentration\n",
    "# inputs = {\"Negative particle surface concentration [mol.m-3]\": c_surf}\n",
    "# Un = pybamm.FunctionParameter(\"Negative electrode OCP [V]\", inputs)\n",
    "# # phi_e_n = I_app/(2*sigma_e*B*L_n)\n",
    "\n",
    "# phi_n = 0\n",
    "\n",
    "# phi_e_n = I_app/(2*sigma_e*B*L_n)*x_n*x_n\n",
    "J_SR =  -an * j_SEI_0 * pybamm.exp(-alpha_SEI*F/(R*T) * (phi_n - phi_e_n - U_SEI- (I_app*L_SEI/(L_n*an*s_SEI))))\n",
    "J_SR_AV =  pybamm.x_average(J_SR)"
   ]
  },
  {
   "cell_type": "code",
   "execution_count": 272,
   "id": "c68f115a",
   "metadata": {},
   "outputs": [],
   "source": [
    "dcndt = -3/(an*R_n*F)*(I_app/L_n - J_SR_AV)\n",
    "dEndt=M_SEI/(n_SEI*rho_SEI*F)*J_SR_AV"
   ]
  },
  {
   "cell_type": "code",
   "execution_count": 273,
   "id": "76c34178",
   "metadata": {},
   "outputs": [],
   "source": [
    "model.rhs = {cn_av: dcndt, E_n: dEndt} "
   ]
  },
  {
   "cell_type": "code",
   "execution_count": 274,
   "id": "44545bde",
   "metadata": {},
   "outputs": [
    {
     "name": "stdout",
     "output_type": "stream",
     "text": [
      "<bound method Symbol.evaluate of FunctionParameter(-0x11735ec9b37e7e46, Negative electrode OCP [V], children=['Initial concentration [mol.m-3]'], domains={})>\n"
     ]
    }
   ],
   "source": [
    "# Initial Condition\n",
    "# c0_surf = pybamm.surf(cn0) \n",
    "inputs = {\"Initial concentration [mol.m-3]\": cn0}\n",
    "U_init = pybamm.FunctionParameter(\"Negative electrode OCP [V]\", inputs)\n",
    "print(U_init.evaluate)\n",
    "model.initial_conditions = {\n",
    "    phi_n: 0,\n",
    "    phi_e_n: -3,\n",
    "    L_SEI: L_SEI_0,\n",
    "    cn_av: cn0,\n",
    "    E_n: E_init,\n",
    "}"
   ]
  },
  {
   "cell_type": "code",
   "execution_count": 275,
   "id": "9bc2231f",
   "metadata": {},
   "outputs": [],
   "source": [
    "model.build_model()"
   ]
  },
  {
   "cell_type": "code",
   "execution_count": 276,
   "id": "30c2526a",
   "metadata": {},
   "outputs": [],
   "source": [
    "geometry = {\n",
    "    \"negative electrode\": {x_n: {\"min\": 0, \"max\": L_n}},\n",
    "}"
   ]
  },
  {
   "cell_type": "code",
   "execution_count": 277,
   "id": "b11d5881",
   "metadata": {},
   "outputs": [],
   "source": [
    "param.process_model(model)\n",
    "param.process_geometry(geometry)"
   ]
  },
  {
   "cell_type": "code",
   "execution_count": 278,
   "id": "e60ac014",
   "metadata": {},
   "outputs": [
    {
     "data": {
      "text/plain": [
       "<pybamm.models.base_model.BaseModel at 0x7f05ab6c3100>"
      ]
     },
     "execution_count": 278,
     "metadata": {},
     "output_type": "execute_result"
    }
   ],
   "source": [
    "submesh_types = {\n",
    "    \"negative electrode\": pybamm.Uniform1DSubMesh,\n",
    "   # \"negative particle\": pybamm.Uniform1DSubMesh,\n",
    "}\n",
    "# var_pts = {x_n: 20, r: 30}\n",
    "var_pts = {x_n: 10}\n",
    "mesh = pybamm.Mesh(geometry, submesh_types, var_pts)\n",
    "\n",
    "spatial_methods = {\n",
    "    \"negative electrode\": pybamm.FiniteVolume(),\n",
    "}\n",
    "disc = pybamm.Discretisation(mesh, spatial_methods)\n",
    "disc.process_model(model)"
   ]
  },
  {
   "cell_type": "code",
   "execution_count": 279,
   "id": "22a94f75",
   "metadata": {},
   "outputs": [],
   "source": [
    "cycle_number =2\n",
    "exp = pybamm.Experiment(\n",
    "    [(\"Charge at C/20 until 4.2 V\",\n",
    "       \"Rest for 20 hours\",\n",
    "     \"Discharge at C/20 until 2.5 V\",\n",
    "     \"Rest for 20 hours\")] *cycle_number\n",
    "#      +[(\"Charge at 0.3C  until 4.2 V\", \n",
    "#       \"Rest for 2 hours\", \n",
    "#       \"Discharge at 0.7C until 2.5 V\", \n",
    "#        \"Rest for 2 hours\")]* cycle_number\n",
    ")\n",
    "\n",
    "\n",
    "\n",
    "\n",
    "# s = pybamm.step.string\n",
    "# exp = pybamm.Experiment(\n",
    "#     [\n",
    "#         (s(\"Charge at C/20 until 4.2 V\", period=\"10 minutes\"),\n",
    "#         s(\"Rest for 1 hour\", period=\"3 minutes\")),\n",
    "#     ]\n",
    "# )"
   ]
  },
  {
   "cell_type": "code",
   "execution_count": 280,
   "id": "c2b0f11c",
   "metadata": {},
   "outputs": [],
   "source": [
    "# solver = pybamm.CasadiSolver()\n",
    "solver = pybamm.IDAKLUSolver()\n",
    "t = np.linspace(0, 12600, 1000)\n",
    "sim=pybamm.Simulation(model, parameter_values=param, var_pts=var_pts,  solver=solver)\n",
    "    # sim = pybamm.Simulation(models[index],  var_pts=var_pts, experiment=exp,  solver=solver)\n",
    "\n",
    "solution =sim.solve(t)\n"
   ]
  },
  {
   "cell_type": "code",
   "execution_count": 281,
   "id": "c246b7ff",
   "metadata": {},
   "outputs": [
    {
     "data": {
      "text/plain": [
       "[<matplotlib.lines.Line2D at 0x7f05ab5b4220>]"
      ]
     },
     "execution_count": 281,
     "metadata": {},
     "output_type": "execute_result"
    },
    {
     "data": {
      "image/png": "[encoded data removed]",
      "text/plain": [
       "<Figure size 640x480 with 1 Axes>"
      ]
     },
     "metadata": {},
     "output_type": "display_data"
    }
   ],
   "source": [
    "# # cc=solution[\"cn\"]\n",
    "# # ee=solution[\"E_n\"]\n",
    "# # plt.plot(t,cc)\n",
    "tt=solution.t\n",
    "cc=solution[\"Concentration [mol.m-3]\"].entries\n",
    "# En=solution[\"Concentration [mol.m-3]\"].entries\n",
    "# # L_SEI=solution[\"Thickness of SEI [m]\"].entries\n",
    "# # L_SEI: L_SEI_0-1/an*(En-E_init)  \n",
    "plt.plot(tt,cc)\n",
    "# # plt.plot(tt,L_SEI[0,:])"
   ]
  },
  {
   "cell_type": "code",
   "execution_count": 282,
   "id": "490fcba7",
   "metadata": {},
   "outputs": [
    {
     "ename": "AttributeError",
     "evalue": "'BaseModel' object has no attribute '_param'",
     "output_type": "error",
     "traceback": [
      "\u001b[0;31m---------------------------------------------------------------------------\u001b[0m",
      "\u001b[0;31mAttributeError\u001b[0m                            Traceback (most recent call last)",
      "\u001b[1;32m/home/kawamanmi/PyBaMM/formation/simplified_SEI_Model.ipynb Cell 25\u001b[0m line \u001b[0;36m2\n\u001b[1;32m      <a href='vscode-notebook-cell://wsl%2Bubuntu-22.04/home/kawamanmi/PyBaMM/formation/simplified_SEI_Model.ipynb#X33sdnNjb2RlLXJlbW90ZQ%3D%3D?line=0'>1</a>\u001b[0m dd\u001b[39m=\u001b[39mpybamm\u001b[39m.\u001b[39melectrolyte_conductivity\u001b[39m.\u001b[39mLeadingOrder(\n\u001b[0;32m----> <a href='vscode-notebook-cell://wsl%2Bubuntu-22.04/home/kawamanmi/PyBaMM/formation/simplified_SEI_Model.ipynb#X33sdnNjb2RlLXJlbW90ZQ%3D%3D?line=1'>2</a>\u001b[0m     model\u001b[39m.\u001b[39;49mparam\n\u001b[1;32m      <a href='vscode-notebook-cell://wsl%2Bubuntu-22.04/home/kawamanmi/PyBaMM/formation/simplified_SEI_Model.ipynb#X33sdnNjb2RlLXJlbW90ZQ%3D%3D?line=2'>3</a>\u001b[0m )\n",
      "File \u001b[0;32m~/PyBaMM/env/lib/python3.10/site-packages/pybamm/models/base_model.py:277\u001b[0m, in \u001b[0;36mBaseModel.param\u001b[0;34m(self)\u001b[0m\n\u001b[1;32m    275\u001b[0m \u001b[39m@property\u001b[39m\n\u001b[1;32m    276\u001b[0m \u001b[39mdef\u001b[39;00m \u001b[39mparam\u001b[39m(\u001b[39mself\u001b[39m):\n\u001b[0;32m--> 277\u001b[0m     \u001b[39mreturn\u001b[39;00m \u001b[39mself\u001b[39;49m\u001b[39m.\u001b[39;49m_param\n",
      "\u001b[0;31mAttributeError\u001b[0m: 'BaseModel' object has no attribute '_param'"
     ]
    }
   ],
   "source": [
    "dd=pybamm.electrolyte_conductivity.LeadingOrder(\n",
    "    model.param\n",
    ")"
   ]
  },
  {
   "cell_type": "code",
   "execution_count": null,
   "id": "dd46a31d",
   "metadata": {},
   "outputs": [],
   "source": []
  }
 ],
 "metadata": {
  "kernelspec": {
   "display_name": "Python 3 (ipykernel)",
   "language": "python",
   "name": "python3"
  },
  "language_info": {
   "codemirror_mode": {
    "name": "ipython",
    "version": 3
   },
   "file_extension": ".py",
   "mimetype": "text/x-python",
   "name": "python",
   "nbconvert_exporter": "python",
   "pygments_lexer": "ipython3",
   "version": "3.10.12"
  }
 },
 "nbformat": 4,
 "nbformat_minor": 5
}
