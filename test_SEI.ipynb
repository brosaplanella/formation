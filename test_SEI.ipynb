{
 "cells": [
  {
   "cell_type": "markdown",
   "metadata": {},
   "source": [
    "This is for testing SEI growth. We have noticed that:\n",
    "\n",
    "In the case of \"electron-migration limited\" mechanism:\n",
    " 1. The SEI fluctuates (decreases) for default parameters (i.e. without using any parameter sets) and the \"Chen2020\", \"Ai2020\", \"Marquis2019\", and \"Mohtat2020\" parameter sets.\n",
    " 2. Get error when using \"OKane2022\" parameter set.\n",
    "\n",
    "In the case of \"ec reaction limited\" mechanism:\n",
    "The initial inner and outer SEI thicknesses must be greater than 3e-12.\n"
   ]
  },
  {
   "cell_type": "code",
   "execution_count": 97,
   "metadata": {},
   "outputs": [
    {
     "name": "stderr",
     "output_type": "stream",
     "text": [
      "The right-hand side routine failed at the first call.\n",
      "The right-hand side routine failed at the first call.\n",
      "The right-hand side routine failed at the first call.\n",
      "The right-hand side routine failed at the first call.\n",
      "The right-hand side routine failed at the first call.\n",
      "The right-hand side routine failed at the first call.\n",
      "2023-11-01 13:44:51.086 - [ERROR] callbacks.on_experiment_error(224): Simulation error: Maximum number of decreased steps occurred at t=0.0 (final SolverError: 'Error in Function::call for 'F' [CvodesInterface] at .../casadi/core/function.cpp:1401:\n",
      "Error in Function::call for 'F' [CvodesInterface] at .../casadi/core/function.cpp:330:\n",
      ".../casadi/interfaces/sundials/cvodes_interface.cpp:392: CVode returned \"CV_FIRST_RHSFUNC_ERR\". Consult CVODES documentation.'). For a full solution try reducing dt_max (currently, dt_max=600) and/or reducing the size of the time steps or period of the experiment. Set `return_solution_if_failed_early=True` to return the solution object up to the point where failure occured.\n"
     ]
    },
    {
     "ename": "SolverError",
     "evalue": "Maximum number of decreased steps occurred at t=0.0 (final SolverError: 'Error in Function::call for 'F' [CvodesInterface] at .../casadi/core/function.cpp:1401:\nError in Function::call for 'F' [CvodesInterface] at .../casadi/core/function.cpp:330:\n.../casadi/interfaces/sundials/cvodes_interface.cpp:392: CVode returned \"CV_FIRST_RHSFUNC_ERR\". Consult CVODES documentation.'). For a full solution try reducing dt_max (currently, dt_max=600) and/or reducing the size of the time steps or period of the experiment. Set `return_solution_if_failed_early=True` to return the solution object up to the point where failure occured.",
     "output_type": "error",
     "traceback": [
      "\u001b[0;31m---------------------------------------------------------------------------\u001b[0m",
      "\u001b[0;31mRuntimeError\u001b[0m                              Traceback (most recent call last)",
      "\u001b[0;32m~/PyBaMM/env/lib/python3.10/site-packages/pybamm/solvers/casadi_solver.py\u001b[0m in \u001b[0;36m?\u001b[0;34m(self, model, y0, inputs_dict, inputs, t_eval, use_grid, extract_sensitivities_in_solution)\u001b[0m\n\u001b[1;32m    685\u001b[0m                 \u001b[0;31m# If it doesn't work raise error\u001b[0m\u001b[0;34m\u001b[0m\u001b[0;34m\u001b[0m\u001b[0m\n\u001b[1;32m    686\u001b[0m                 \u001b[0mpybamm\u001b[0m\u001b[0;34m.\u001b[0m\u001b[0mlogger\u001b[0m\u001b[0;34m.\u001b[0m\u001b[0mdebug\u001b[0m\u001b[0;34m(\u001b[0m\u001b[0;34mf\"Casadi integrator failed with error {error}\"\u001b[0m\u001b[0;34m)\u001b[0m\u001b[0;34m\u001b[0m\u001b[0;34m\u001b[0m\u001b[0m\n\u001b[0;32m--> 687\u001b[0;31m                 \u001b[0;32mraise\u001b[0m \u001b[0mpybamm\u001b[0m\u001b[0;34m.\u001b[0m\u001b[0mSolverError\u001b[0m\u001b[0;34m(\u001b[0m\u001b[0merror\u001b[0m\u001b[0;34m.\u001b[0m\u001b[0margs\u001b[0m\u001b[0;34m[\u001b[0m\u001b[0;36m0\u001b[0m\u001b[0;34m]\u001b[0m\u001b[0;34m)\u001b[0m\u001b[0;34m\u001b[0m\u001b[0;34m\u001b[0m\u001b[0m\n\u001b[0m\u001b[1;32m    688\u001b[0m             \u001b[0mpybamm\u001b[0m\u001b[0;34m.\u001b[0m\u001b[0mlogger\u001b[0m\u001b[0;34m.\u001b[0m\u001b[0mdebug\u001b[0m\u001b[0;34m(\u001b[0m\u001b[0;34m\"Finished casadi integrator\"\u001b[0m\u001b[0;34m)\u001b[0m\u001b[0;34m\u001b[0m\u001b[0;34m\u001b[0m\u001b[0m\n",
      "\u001b[0;32m~/PyBaMM/env/lib/python3.10/site-packages/casadi/casadi.py\u001b[0m in \u001b[0;36m?\u001b[0;34m(self, *args, **kwargs)\u001b[0m\n\u001b[1;32m  23370\u001b[0m       \u001b[0;32melse\u001b[0m\u001b[0;34m:\u001b[0m\u001b[0;34m\u001b[0m\u001b[0;34m\u001b[0m\u001b[0m\n\u001b[1;32m  23371\u001b[0m     \u001b[0;31m# Named inputs -> return dictionary\u001b[0m\u001b[0;34m\u001b[0m\u001b[0;34m\u001b[0m\u001b[0m\n\u001b[0;32m> 23372\u001b[0;31m         \u001b[0;32mreturn\u001b[0m \u001b[0mself\u001b[0m\u001b[0;34m.\u001b[0m\u001b[0mcall\u001b[0m\u001b[0;34m(\u001b[0m\u001b[0mkwargs\u001b[0m\u001b[0;34m)\u001b[0m\u001b[0;34m\u001b[0m\u001b[0;34m\u001b[0m\u001b[0m\n\u001b[0m",
      "\u001b[0;32m~/PyBaMM/env/lib/python3.10/site-packages/casadi/casadi.py\u001b[0m in \u001b[0;36m?\u001b[0;34m(self, *args)\u001b[0m\n\u001b[1;32m  20019\u001b[0m \u001b[0;34m\u001b[0m\u001b[0m\n\u001b[1;32m  20020\u001b[0m         \"\"\"\n\u001b[0;32m> 20021\u001b[0;31m         \u001b[0;32mreturn\u001b[0m \u001b[0m_casadi\u001b[0m\u001b[0;34m.\u001b[0m\u001b[0mFunction_call\u001b[0m\u001b[0;34m(\u001b[0m\u001b[0mself\u001b[0m\u001b[0;34m,\u001b[0m \u001b[0;34m*\u001b[0m\u001b[0margs\u001b[0m\u001b[0;34m)\u001b[0m\u001b[0;34m\u001b[0m\u001b[0;34m\u001b[0m\u001b[0m\n\u001b[0m",
      "\u001b[0;31mRuntimeError\u001b[0m: Error in Function::call for 'F' [CvodesInterface] at .../casadi/core/function.cpp:1401:\nError in Function::call for 'F' [CvodesInterface] at .../casadi/core/function.cpp:330:\n.../casadi/interfaces/sundials/cvodes_interface.cpp:392: CVode returned \"CV_FIRST_RHSFUNC_ERR\". Consult CVODES documentation.",
      "\nDuring handling of the above exception, another exception occurred:\n",
      "\u001b[0;31mSolverError\u001b[0m                               Traceback (most recent call last)",
      "File \u001b[0;32m~/PyBaMM/env/lib/python3.10/site-packages/pybamm/solvers/casadi_solver.py:250\u001b[0m, in \u001b[0;36mCasadiSolver._integrate\u001b[0;34m(self, model, t_eval, inputs_dict)\u001b[0m\n\u001b[1;32m    246\u001b[0m pybamm\u001b[39m.\u001b[39mlogger\u001b[39m.\u001b[39mdebug(\n\u001b[1;32m    247\u001b[0m     \u001b[39m\"\u001b[39m\u001b[39mRunning integrator for \u001b[39m\u001b[39m\"\u001b[39m\n\u001b[1;32m    248\u001b[0m     \u001b[39mf\u001b[39m\u001b[39m\"\u001b[39m\u001b[39m{\u001b[39;00mt_window[\u001b[39m0\u001b[39m]\u001b[39m:\u001b[39;00m\u001b[39m.2f\u001b[39m\u001b[39m}\u001b[39;00m\u001b[39m < t < \u001b[39m\u001b[39m{\u001b[39;00mt_window[\u001b[39m-\u001b[39m\u001b[39m1\u001b[39m]\u001b[39m:\u001b[39;00m\u001b[39m.2f\u001b[39m\u001b[39m}\u001b[39;00m\u001b[39m\"\u001b[39m\n\u001b[1;32m    249\u001b[0m )\n\u001b[0;32m--> 250\u001b[0m current_step_sol \u001b[39m=\u001b[39m \u001b[39mself\u001b[39;49m\u001b[39m.\u001b[39;49m_run_integrator(\n\u001b[1;32m    251\u001b[0m     model,\n\u001b[1;32m    252\u001b[0m     y0,\n\u001b[1;32m    253\u001b[0m     inputs_dict,\n\u001b[1;32m    254\u001b[0m     inputs,\n\u001b[1;32m    255\u001b[0m     t_window,\n\u001b[1;32m    256\u001b[0m     use_grid\u001b[39m=\u001b[39;49muse_grid,\n\u001b[1;32m    257\u001b[0m     extract_sensitivities_in_solution\u001b[39m=\u001b[39;49m\u001b[39mFalse\u001b[39;49;00m,\n\u001b[1;32m    258\u001b[0m )\n\u001b[1;32m    259\u001b[0m first_ts_solved \u001b[39m=\u001b[39m \u001b[39mTrue\u001b[39;00m\n",
      "File \u001b[0;32m~/PyBaMM/env/lib/python3.10/site-packages/pybamm/solvers/casadi_solver.py:687\u001b[0m, in \u001b[0;36mCasadiSolver._run_integrator\u001b[0;34m(self, model, y0, inputs_dict, inputs, t_eval, use_grid, extract_sensitivities_in_solution)\u001b[0m\n\u001b[1;32m    686\u001b[0m     pybamm\u001b[39m.\u001b[39mlogger\u001b[39m.\u001b[39mdebug(\u001b[39mf\u001b[39m\u001b[39m\"\u001b[39m\u001b[39mCasadi integrator failed with error \u001b[39m\u001b[39m{\u001b[39;00merror\u001b[39m}\u001b[39;00m\u001b[39m\"\u001b[39m)\n\u001b[0;32m--> 687\u001b[0m     \u001b[39mraise\u001b[39;00m pybamm\u001b[39m.\u001b[39mSolverError(error\u001b[39m.\u001b[39margs[\u001b[39m0\u001b[39m])\n\u001b[1;32m    688\u001b[0m pybamm\u001b[39m.\u001b[39mlogger\u001b[39m.\u001b[39mdebug(\u001b[39m\"\u001b[39m\u001b[39mFinished casadi integrator\u001b[39m\u001b[39m\"\u001b[39m)\n",
      "\u001b[0;31mSolverError\u001b[0m: Error in Function::call for 'F' [CvodesInterface] at .../casadi/core/function.cpp:1401:\nError in Function::call for 'F' [CvodesInterface] at .../casadi/core/function.cpp:330:\n.../casadi/interfaces/sundials/cvodes_interface.cpp:392: CVode returned \"CV_FIRST_RHSFUNC_ERR\". Consult CVODES documentation.",
      "\nDuring handling of the above exception, another exception occurred:\n",
      "\u001b[0;31mSolverError\u001b[0m                               Traceback (most recent call last)",
      "\u001b[1;32m/home/kawamanmi/PyBaMM/formation/test_SEI.ipynb Cell 2\u001b[0m line \u001b[0;36m2\n\u001b[1;32m     <a href='vscode-notebook-cell://wsl%2Bubuntu-22.04/home/kawamanmi/PyBaMM/formation/test_SEI.ipynb#W0sdnNjb2RlLXJlbW90ZQ%3D%3D?line=22'>23</a>\u001b[0m SPM_model \u001b[39m=\u001b[39m pybamm\u001b[39m.\u001b[39mlithium_ion\u001b[39m.\u001b[39mSPM(options\u001b[39m=\u001b[39m{\n\u001b[1;32m     <a href='vscode-notebook-cell://wsl%2Bubuntu-22.04/home/kawamanmi/PyBaMM/formation/test_SEI.ipynb#W0sdnNjb2RlLXJlbW90ZQ%3D%3D?line=23'>24</a>\u001b[0m     \u001b[39m\"\u001b[39m\u001b[39mSEI\u001b[39m\u001b[39m\"\u001b[39m: SEI_Mech[index],\n\u001b[1;32m     <a href='vscode-notebook-cell://wsl%2Bubuntu-22.04/home/kawamanmi/PyBaMM/formation/test_SEI.ipynb#W0sdnNjb2RlLXJlbW90ZQ%3D%3D?line=24'>25</a>\u001b[0m     \u001b[39m\"\u001b[39m\u001b[39mSEI porosity change\u001b[39m\u001b[39m\"\u001b[39m: \u001b[39m\"\u001b[39m\u001b[39mtrue\u001b[39m\u001b[39m\"\u001b[39m, })\n\u001b[1;32m     <a href='vscode-notebook-cell://wsl%2Bubuntu-22.04/home/kawamanmi/PyBaMM/formation/test_SEI.ipynb#W0sdnNjb2RlLXJlbW90ZQ%3D%3D?line=26'>27</a>\u001b[0m sims_SPM \u001b[39m=\u001b[39m pybamm\u001b[39m.\u001b[39mSimulation(SPM_model, parameter_values\u001b[39m=\u001b[39mparam,\n\u001b[1;32m     <a href='vscode-notebook-cell://wsl%2Bubuntu-22.04/home/kawamanmi/PyBaMM/formation/test_SEI.ipynb#W0sdnNjb2RlLXJlbW90ZQ%3D%3D?line=27'>28</a>\u001b[0m                              experiment\u001b[39m=\u001b[39mexp_CCCV)\n\u001b[0;32m---> <a href='vscode-notebook-cell://wsl%2Bubuntu-22.04/home/kawamanmi/PyBaMM/formation/test_SEI.ipynb#W0sdnNjb2RlLXJlbW90ZQ%3D%3D?line=28'>29</a>\u001b[0m sol \u001b[39m=\u001b[39m sims_SPM\u001b[39m.\u001b[39;49msolve(initial_soc\u001b[39m=\u001b[39;49m\u001b[39m0\u001b[39;49m)\n\u001b[1;32m     <a href='vscode-notebook-cell://wsl%2Bubuntu-22.04/home/kawamanmi/PyBaMM/formation/test_SEI.ipynb#W0sdnNjb2RlLXJlbW90ZQ%3D%3D?line=30'>31</a>\u001b[0m plt\u001b[39m.\u001b[39mplot(sol[\u001b[39m\"\u001b[39m\u001b[39mTime [h]\u001b[39m\u001b[39m\"\u001b[39m]\u001b[39m.\u001b[39mentries,\n\u001b[1;32m     <a href='vscode-notebook-cell://wsl%2Bubuntu-22.04/home/kawamanmi/PyBaMM/formation/test_SEI.ipynb#W0sdnNjb2RlLXJlbW90ZQ%3D%3D?line=31'>32</a>\u001b[0m          sol[\u001b[39m'\u001b[39m\u001b[39mX-averaged total SEI thickness [m]\u001b[39m\u001b[39m'\u001b[39m]\u001b[39m.\u001b[39mentries)\n",
      "File \u001b[0;32m~/PyBaMM/env/lib/python3.10/site-packages/pybamm/simulation.py:747\u001b[0m, in \u001b[0;36mSimulation.solve\u001b[0;34m(self, t_eval, solver, check_model, save_at_cycles, calc_esoh, starting_solution, initial_soc, callbacks, showprogress, **kwargs)\u001b[0m\n\u001b[1;32m    745\u001b[0m \u001b[39m# If none of the cycles worked, raise an error\u001b[39;00m\n\u001b[1;32m    746\u001b[0m \u001b[39mif\u001b[39;00m cycle_num \u001b[39m==\u001b[39m \u001b[39m1\u001b[39m \u001b[39mand\u001b[39;00m step_num \u001b[39m==\u001b[39m \u001b[39m1\u001b[39m:\n\u001b[0;32m--> 747\u001b[0m     \u001b[39mraise\u001b[39;00m error\n\u001b[1;32m    748\u001b[0m \u001b[39m# Otherwise, just stop this cycle\u001b[39;00m\n\u001b[1;32m    749\u001b[0m \u001b[39mbreak\u001b[39;00m\n",
      "File \u001b[0;32m~/PyBaMM/env/lib/python3.10/site-packages/pybamm/simulation.py:725\u001b[0m, in \u001b[0;36mSimulation.solve\u001b[0;34m(self, t_eval, solver, check_model, save_at_cycles, calc_esoh, starting_solution, initial_soc, callbacks, showprogress, **kwargs)\u001b[0m\n\u001b[1;32m    723\u001b[0m npts \u001b[39m=\u001b[39m \u001b[39mmax\u001b[39m(\u001b[39mint\u001b[39m(\u001b[39mround\u001b[39m(dt \u001b[39m/\u001b[39m op_conds\u001b[39m.\u001b[39mperiod)) \u001b[39m+\u001b[39m \u001b[39m1\u001b[39m, \u001b[39m2\u001b[39m)\n\u001b[1;32m    724\u001b[0m \u001b[39mtry\u001b[39;00m:\n\u001b[0;32m--> 725\u001b[0m     step_solution \u001b[39m=\u001b[39m solver\u001b[39m.\u001b[39;49mstep(\n\u001b[1;32m    726\u001b[0m         current_solution,\n\u001b[1;32m    727\u001b[0m         model,\n\u001b[1;32m    728\u001b[0m         dt,\n\u001b[1;32m    729\u001b[0m         npts\u001b[39m=\u001b[39;49mnpts,\n\u001b[1;32m    730\u001b[0m         save\u001b[39m=\u001b[39;49m\u001b[39mFalse\u001b[39;49;00m,\n\u001b[1;32m    731\u001b[0m         \u001b[39m*\u001b[39;49m\u001b[39m*\u001b[39;49mkwargs,\n\u001b[1;32m    732\u001b[0m     )\n\u001b[1;32m    733\u001b[0m \u001b[39mexcept\u001b[39;00m pybamm\u001b[39m.\u001b[39mSolverError \u001b[39mas\u001b[39;00m error:\n\u001b[1;32m    734\u001b[0m     \u001b[39mif\u001b[39;00m (\n\u001b[1;32m    735\u001b[0m         \u001b[39m\"\u001b[39m\u001b[39mnon-positive at initial conditions\u001b[39m\u001b[39m\"\u001b[39m \u001b[39min\u001b[39;00m error\u001b[39m.\u001b[39mmessage\n\u001b[1;32m    736\u001b[0m         \u001b[39mand\u001b[39;00m \u001b[39m\"\u001b[39m\u001b[39m[experiment]\u001b[39m\u001b[39m\"\u001b[39m \u001b[39min\u001b[39;00m error\u001b[39m.\u001b[39mmessage\n\u001b[1;32m    737\u001b[0m     ):\n",
      "File \u001b[0;32m~/PyBaMM/env/lib/python3.10/site-packages/pybamm/solvers/base_solver.py:1187\u001b[0m, in \u001b[0;36mBaseSolver.step\u001b[0;34m(self, old_solution, model, dt, npts, inputs, save)\u001b[0m\n\u001b[1;32m   1183\u001b[0m pybamm\u001b[39m.\u001b[39mlogger\u001b[39m.\u001b[39mverbose(\n\u001b[1;32m   1184\u001b[0m     \u001b[39m\"\u001b[39m\u001b[39mStepping for \u001b[39m\u001b[39m{:.0f}\u001b[39;00m\u001b[39m < t < \u001b[39m\u001b[39m{:.0f}\u001b[39;00m\u001b[39m\"\u001b[39m\u001b[39m.\u001b[39mformat(t_start_shifted, t_end)\n\u001b[1;32m   1185\u001b[0m )\n\u001b[1;32m   1186\u001b[0m timer\u001b[39m.\u001b[39mreset()\n\u001b[0;32m-> 1187\u001b[0m solution \u001b[39m=\u001b[39m \u001b[39mself\u001b[39;49m\u001b[39m.\u001b[39;49m_integrate(model, t_eval, model_inputs)\n\u001b[1;32m   1188\u001b[0m solution\u001b[39m.\u001b[39msolve_time \u001b[39m=\u001b[39m timer\u001b[39m.\u001b[39mtime()\n\u001b[1;32m   1190\u001b[0m \u001b[39m# Check if extrapolation occurred\u001b[39;00m\n",
      "File \u001b[0;32m~/PyBaMM/env/lib/python3.10/site-packages/pybamm/solvers/casadi_solver.py:285\u001b[0m, in \u001b[0;36mCasadiSolver._integrate\u001b[0;34m(self, model, t_eval, inputs_dict)\u001b[0m\n\u001b[1;32m    283\u001b[0m                 \u001b[39mbreak\u001b[39;00m\n\u001b[1;32m    284\u001b[0m             \u001b[39melse\u001b[39;00m:\n\u001b[0;32m--> 285\u001b[0m                 \u001b[39mraise\u001b[39;00m pybamm\u001b[39m.\u001b[39mSolverError(\n\u001b[1;32m    286\u001b[0m                     message\n\u001b[1;32m    287\u001b[0m                     \u001b[39m+\u001b[39m \u001b[39m\"\u001b[39m\u001b[39m Set `return_solution_if_failed_early=True` to \u001b[39m\u001b[39m\"\u001b[39m\n\u001b[1;32m    288\u001b[0m                     \u001b[39m\"\u001b[39m\u001b[39mreturn the solution object up to the point where \u001b[39m\u001b[39m\"\u001b[39m\n\u001b[1;32m    289\u001b[0m                     \u001b[39m\"\u001b[39m\u001b[39mfailure occured.\u001b[39m\u001b[39m\"\u001b[39m\n\u001b[1;32m    290\u001b[0m                 )\n\u001b[1;32m    291\u001b[0m \u001b[39mif\u001b[39;00m termination_due_to_small_dt:\n\u001b[1;32m    292\u001b[0m     \u001b[39mbreak\u001b[39;00m\n",
      "\u001b[0;31mSolverError\u001b[0m: Maximum number of decreased steps occurred at t=0.0 (final SolverError: 'Error in Function::call for 'F' [CvodesInterface] at .../casadi/core/function.cpp:1401:\nError in Function::call for 'F' [CvodesInterface] at .../casadi/core/function.cpp:330:\n.../casadi/interfaces/sundials/cvodes_interface.cpp:392: CVode returned \"CV_FIRST_RHSFUNC_ERR\". Consult CVODES documentation.'). For a full solution try reducing dt_max (currently, dt_max=600) and/or reducing the size of the time steps or period of the experiment. Set `return_solution_if_failed_early=True` to return the solution object up to the point where failure occured."
     ]
    }
   ],
   "source": [
    "import pybamm\n",
    "import numpy as np\n",
    "import matplotlib.pyplot as plt\n",
    "param = pybamm.ParameterValues(\"OKane2022\")\n",
    "\n",
    "\n",
    "# param['Initial inner SEI thickness [m]'] = 2.0e-12\n",
    "# param['Initial outer SEI thickness [m]'] = 2.0e-12\n",
    "\n",
    "\n",
    "cycle_no = 2\n",
    "exp_CCCV = pybamm.Experiment(\n",
    "    [(\"Charge at C/10 until 4.2 V\",\n",
    "        \"Rest for 10 hours\",\n",
    "      \"Discharge at C/10 until 2.5 V\",\n",
    "      )] * cycle_no\n",
    ")\n",
    "\n",
    "# Options of SEI Mechanism:\n",
    "SEI_Mech = [\"reaction limited\", \"solvent-diffusion limited\",\n",
    "            \"interstitial-diffusion limited\", \"ec reaction limited\", \"electron-migration limited\"]\n",
    "index = 4\n",
    "SPM_model = pybamm.lithium_ion.SPM(options={\n",
    "    \"SEI\": SEI_Mech[index],\n",
    "    \"SEI porosity change\": \"true\", })\n",
    "\n",
    "sims_SPM = pybamm.Simulation(SPM_model, parameter_values=param,\n",
    "                             experiment=exp_CCCV)\n",
    "sol = sims_SPM.solve(initial_soc=0)\n",
    "\n",
    "plt.plot(sol[\"Time [h]\"].entries,\n",
    "         sol['X-averaged total SEI thickness [m]'].entries)"
   ]
  },
  {
   "cell_type": "code",
   "execution_count": null,
   "metadata": {},
   "outputs": [],
   "source": []
  }
 ],
 "metadata": {
  "kernelspec": {
   "display_name": "env",
   "language": "python",
   "name": "python3"
  },
  "language_info": {
   "codemirror_mode": {
    "name": "ipython",
    "version": 3
   },
   "file_extension": ".py",
   "mimetype": "text/x-python",
   "name": "python",
   "nbconvert_exporter": "python",
   "pygments_lexer": "ipython3",
   "version": "3.10.12"
  }
 },
 "nbformat": 4,
 "nbformat_minor": 2
}
