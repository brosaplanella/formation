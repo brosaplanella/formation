{
 "cells": [
  {
   "cell_type": "markdown",
   "metadata": {},
   "source": [
    "This is for testing SEI growth. We have noticed that:\n",
    "\n",
    "In the case of \"electron-migration limited\" mechanism:\n",
    " 1. The SEI fluctuates (decreases) for default parameters (i.e. without using any parameter sets) and the \"Chen2020\", \"Ai2020\", \"Marquis2019\", and \"Mohtat2020\" parameter sets.\n",
    " 2. Get error when using \"OKane2022\" parameter set.\n",
    "\n",
    "In the case of \"ec reaction limited\" mechanism:\n",
    "The initial inner and outer SEI thicknesses must be greater than 3e-12.\n"
   ]
  },
  {
   "cell_type": "code",
   "execution_count": 17,
   "metadata": {},
   "outputs": [
    {
     "data": {
      "text/plain": [
       "{'Ambient temperature [K]': 298.15,\n",
       " 'Boltzmann constant [J.K-1]': 1.380649e-23,\n",
       " 'Bulk solvent concentration [mol.m-3]': 2636.0,\n",
       " 'Cation transference number': 0.2594,\n",
       " 'Cell cooling surface area [m2]': 0.00531,\n",
       " 'Cell thermal expansion coefficient [m.K-1]': 1.1e-06,\n",
       " 'Cell volume [m3]': 2.42e-05,\n",
       " 'Contact resistance [Ohm]': 0,\n",
       " 'Current function [A]': 5.0,\n",
       " 'Dead lithium decay constant [s-1]': 1e-06,\n",
       " 'Dead lithium decay rate [s-1]': <function SEI_limited_dead_lithium_OKane2022 at 0x7fb89ae0dab0>,\n",
       " 'EC diffusivity [m2.s-1]': 2e-18,\n",
       " 'EC initial concentration in electrolyte [mol.m-3]': 4541.0,\n",
       " 'Electrode height [m]': 0.065,\n",
       " 'Electrode width [m]': 1.58,\n",
       " 'Electrolyte conductivity [S.m-1]': <function electrolyte_conductivity_Nyman2008_arrhenius at 0x7fb89ae0e0e0>,\n",
       " 'Electrolyte diffusivity [m2.s-1]': <function electrolyte_diffusivity_Nyman2008_arrhenius at 0x7fb89ae0e050>,\n",
       " 'Electron charge [C]': 1.602176634e-19,\n",
       " 'Exchange-current density for plating [A.m-2]': <function plating_exchange_current_density_OKane2020 at 0x7fb9004dc1f0>,\n",
       " 'Exchange-current density for stripping [A.m-2]': <function stripping_exchange_current_density_OKane2020 at 0x7fb89ae0d900>,\n",
       " 'Faraday constant [C.mol-1]': 96485.33212,\n",
       " 'Ideal gas constant [J.K-1.mol-1]': 8.314462618,\n",
       " 'Initial concentration in electrolyte [mol.m-3]': 1000.0,\n",
       " 'Initial concentration in negative electrode [mol.m-3]': 29866.0,\n",
       " 'Initial concentration in positive electrode [mol.m-3]': 17038.0,\n",
       " 'Initial inner SEI thickness [m]': 0.0,\n",
       " 'Initial outer SEI thickness [m]': 5e-09,\n",
       " 'Initial plated lithium concentration [mol.m-3]': 0.0,\n",
       " 'Initial temperature [K]': 298.15,\n",
       " 'Inner SEI electron conductivity [S.m-1]': 8.95e-14,\n",
       " 'Inner SEI lithium interstitial diffusivity [m2.s-1]': 1e-20,\n",
       " 'Inner SEI open-circuit potential [V]': 0.1,\n",
       " 'Inner SEI partial molar volume [m3.mol-1]': 9.585e-05,\n",
       " 'Inner SEI reaction proportion': 0.0,\n",
       " 'Lithium interstitial reference concentration [mol.m-3]': 15.0,\n",
       " 'Lithium metal partial molar volume [m3.mol-1]': 1.3e-05,\n",
       " 'Lithium plating kinetic rate constant [m.s-1]': 1e-09,\n",
       " 'Lithium plating transfer coefficient': 0.65,\n",
       " 'Lower voltage cut-off [V]': 2.5,\n",
       " 'Maximum concentration in negative electrode [mol.m-3]': 33133.0,\n",
       " 'Maximum concentration in positive electrode [mol.m-3]': 63104.0,\n",
       " 'Negative current collector conductivity [S.m-1]': 58411000.0,\n",
       " 'Negative current collector density [kg.m-3]': 8960.0,\n",
       " 'Negative current collector specific heat capacity [J.kg-1.K-1]': 385.0,\n",
       " 'Negative current collector thermal conductivity [W.m-1.K-1]': 401.0,\n",
       " 'Negative current collector thickness [m]': 1.2e-05,\n",
       " 'Negative electrode Bruggeman coefficient (electrode)': 1.5,\n",
       " 'Negative electrode Bruggeman coefficient (electrolyte)': 1.5,\n",
       " 'Negative electrode LAM constant exponential term': 2.0,\n",
       " 'Negative electrode LAM constant proportional term [s-1]': 2.7778e-07,\n",
       " 'Negative electrode OCP [V]': <function graphite_LGM50_ocp_Chen2020 at 0x7fb89ae0e290>,\n",
       " 'Negative electrode OCP entropic change [V.K-1]': 0.0,\n",
       " \"Negative electrode Paris' law constant b\": 1.12,\n",
       " \"Negative electrode Paris' law constant m\": 2.2,\n",
       " \"Negative electrode Poisson's ratio\": 0.3,\n",
       " \"Negative electrode Young's modulus [Pa]\": 15000000000.0,\n",
       " 'Negative electrode active material volume fraction': 0.75,\n",
       " 'Negative electrode charge transfer coefficient': 0.5,\n",
       " 'Negative electrode conductivity [S.m-1]': 215.0,\n",
       " 'Negative electrode cracking rate': <function graphite_cracking_rate_Ai2020 at 0x7fb89ae0dcf0>,\n",
       " 'Negative electrode critical stress [Pa]': 60000000.0,\n",
       " 'Negative electrode density [kg.m-3]': 1657.0,\n",
       " 'Negative electrode diffusivity [m2.s-1]': <function graphite_LGM50_diffusivity_Chen2020 at 0x7fb89ae0db40>,\n",
       " 'Negative electrode double-layer capacity [F.m-2]': 0.2,\n",
       " 'Negative electrode exchange-current density [A.m-2]': <function graphite_LGM50_electrolyte_exchange_current_density_Chen2020 at 0x7fb89ae0dbd0>,\n",
       " 'Negative electrode initial crack length [m]': 2e-08,\n",
       " 'Negative electrode initial crack width [m]': 1.5e-08,\n",
       " 'Negative electrode number of cracks per unit area [m-2]': 3180000000000000.0,\n",
       " 'Negative electrode partial molar volume [m3.mol-1]': 3.1e-06,\n",
       " 'Negative electrode porosity': 0.25,\n",
       " 'Negative electrode reaction-driven LAM factor [m3.mol-1]': 0.0,\n",
       " 'Negative electrode reference concentration for free of deformation [mol.m-3]': 0.0,\n",
       " 'Negative electrode specific heat capacity [J.kg-1.K-1]': 700.0,\n",
       " 'Negative electrode thermal conductivity [W.m-1.K-1]': 1.7,\n",
       " 'Negative electrode thickness [m]': 8.52e-05,\n",
       " 'Negative electrode volume change': <function graphite_volume_change_Ai2020 at 0x7fb89ae0dc60>,\n",
       " 'Negative particle radius [m]': 5.86e-06,\n",
       " 'Nominal cell capacity [A.h]': 5.0,\n",
       " 'Number of cells connected in series to make a battery': 1.0,\n",
       " 'Number of electrodes connected in parallel to make a cell': 1.0,\n",
       " 'Outer SEI open-circuit potential [V]': 0.8,\n",
       " 'Outer SEI partial molar volume [m3.mol-1]': 9.585e-05,\n",
       " 'Outer SEI solvent diffusivity [m2.s-1]': 2.5000000000000002e-22,\n",
       " 'Positive current collector conductivity [S.m-1]': 36914000.0,\n",
       " 'Positive current collector density [kg.m-3]': 2700.0,\n",
       " 'Positive current collector specific heat capacity [J.kg-1.K-1]': 897.0,\n",
       " 'Positive current collector thermal conductivity [W.m-1.K-1]': 237.0,\n",
       " 'Positive current collector thickness [m]': 1.6e-05,\n",
       " 'Positive electrode Bruggeman coefficient (electrode)': 1.5,\n",
       " 'Positive electrode Bruggeman coefficient (electrolyte)': 1.5,\n",
       " 'Positive electrode LAM constant exponential term': 2.0,\n",
       " 'Positive electrode LAM constant proportional term [s-1]': 2.7778e-07,\n",
       " 'Positive electrode OCP [V]': <function nmc_LGM50_ocp_Chen2020 at 0x7fb89ae0de10>,\n",
       " 'Positive electrode OCP entropic change [V.K-1]': 0.0,\n",
       " \"Positive electrode Paris' law constant b\": 1.12,\n",
       " \"Positive electrode Paris' law constant m\": 2.2,\n",
       " \"Positive electrode Poisson's ratio\": 0.2,\n",
       " \"Positive electrode Young's modulus [Pa]\": 375000000000.0,\n",
       " 'Positive electrode active material volume fraction': 0.665,\n",
       " 'Positive electrode charge transfer coefficient': 0.5,\n",
       " 'Positive electrode conductivity [S.m-1]': 0.18,\n",
       " 'Positive electrode cracking rate': <function cracking_rate_Ai2020 at 0x7fb89ae0dfc0>,\n",
       " 'Positive electrode critical stress [Pa]': 375000000.0,\n",
       " 'Positive electrode density [kg.m-3]': 3262.0,\n",
       " 'Positive electrode diffusivity [m2.s-1]': <function nmc_LGM50_diffusivity_Chen2020 at 0x7fb89ae0dd80>,\n",
       " 'Positive electrode double-layer capacity [F.m-2]': 0.2,\n",
       " 'Positive electrode exchange-current density [A.m-2]': <function nmc_LGM50_electrolyte_exchange_current_density_Chen2020 at 0x7fb89ae0dea0>,\n",
       " 'Positive electrode initial crack length [m]': 2e-08,\n",
       " 'Positive electrode initial crack width [m]': 1.5e-08,\n",
       " 'Positive electrode number of cracks per unit area [m-2]': 3180000000000000.0,\n",
       " 'Positive electrode partial molar volume [m3.mol-1]': 1.25e-05,\n",
       " 'Positive electrode porosity': 0.335,\n",
       " 'Positive electrode reaction-driven LAM factor [m3.mol-1]': 0.0,\n",
       " 'Positive electrode reference concentration for free of deformation [mol.m-3]': 0.0,\n",
       " 'Positive electrode specific heat capacity [J.kg-1.K-1]': 700.0,\n",
       " 'Positive electrode thermal conductivity [W.m-1.K-1]': 2.1,\n",
       " 'Positive electrode thickness [m]': 7.56e-05,\n",
       " 'Positive electrode volume change': <function volume_change_Ai2020 at 0x7fb89ae0df30>,\n",
       " 'Positive particle radius [m]': 5.22e-06,\n",
       " 'Ratio of lithium moles to SEI moles': 1.0,\n",
       " 'Reference temperature [K]': 298.15,\n",
       " 'SEI growth activation energy [J.mol-1]': 38000.0,\n",
       " 'SEI kinetic rate constant [m.s-1]': 1e-12,\n",
       " 'SEI open-circuit potential [V]': 0.4,\n",
       " 'SEI reaction exchange current density [A.m-2]': 1.5e-07,\n",
       " 'SEI resistivity [Ohm.m]': 200000.0,\n",
       " 'Separator Bruggeman coefficient (electrolyte)': 1.5,\n",
       " 'Separator density [kg.m-3]': 397.0,\n",
       " 'Separator porosity': 0.47,\n",
       " 'Separator specific heat capacity [J.kg-1.K-1]': 700.0,\n",
       " 'Separator thermal conductivity [W.m-1.K-1]': 0.16,\n",
       " 'Separator thickness [m]': 1.2e-05,\n",
       " 'Thermodynamic factor': 1.0,\n",
       " 'Total heat transfer coefficient [W.m-2.K-1]': 10.0,\n",
       " 'Typical plated lithium concentration [mol.m-3]': 1000.0,\n",
       " 'Upper voltage cut-off [V]': 4.2,\n",
       " 'citations': ['OKane2022',\n",
       "               'OKane2020',\n",
       "               'Chen2020']}"
      ]
     },
     "execution_count": 17,
     "metadata": {},
     "output_type": "execute_result"
    }
   ],
   "source": [
    "import pybamm\n",
    "param = pybamm.ParameterValues(\"OKane2022\")\n",
    "param[\"Nominal cell capacity [A.h]\"]\n",
    "param"
   ]
  },
  {
   "cell_type": "code",
   "execution_count": 20,
   "metadata": {},
   "outputs": [
    {
     "data": {
      "text/plain": [
       "[<matplotlib.lines.Line2D at 0x7fb883c1d930>]"
      ]
     },
     "execution_count": 20,
     "metadata": {},
     "output_type": "execute_result"
    },
    {
     "data": {
      "image/png": "[encoded data removed]",
      "text/plain": [
       "<Figure size 640x480 with 1 Axes>"
      ]
     },
     "metadata": {},
     "output_type": "display_data"
    }
   ],
   "source": [
    "import pybamm\n",
    "import numpy as np\n",
    "import matplotlib.pyplot as plt\n",
    "param = pybamm.ParameterValues(\"OKane2022\")\n",
    "\n",
    "\n",
    "# param['Initial inner SEI thickness [m]'] = 2.0e-12\n",
    "# param['Initial outer SEI thickness [m]'] = 2.0e-12\n",
    "\n",
    "\n",
    "cycle_no = 1\n",
    "exp_CCCV = pybamm.Experiment(\n",
    "    [(\"Charge at C/10 until 4.2 V\",\n",
    "        \"Rest for 10 hours\",\n",
    "      \"Discharge at C/10 until 2.5 V\",\n",
    "      )] * cycle_no\n",
    ")\n",
    "\n",
    "# Options of SEI Mechanism:\n",
    "SEI_Mech = [\"reaction limited\", \"solvent-diffusion limited\",\n",
    "            \"interstitial-diffusion limited\", \"ec reaction limited\", \"electron-migration limited\"]\n",
    "\n",
    "# SEI Mechanism\n",
    "index = 1\n",
    "SPM_model = pybamm.lithium_ion.SPM(options={\n",
    "    \"SEI\": SEI_Mech[index],\n",
    "    \"SEI porosity change\": \"true\", })\n",
    "\n",
    "sims_SPM = pybamm.Simulation(SPM_model, parameter_values=param,\n",
    "                             experiment=exp_CCCV)\n",
    "sol = sims_SPM.solve(initial_soc=0)\n",
    "\n",
    "plt.plot(sol[\"Time [h]\"].entries,\n",
    "         sol['Exchange current density [A.m-2]'].entries[0])"
   ]
  },
  {
   "cell_type": "code",
   "execution_count": 12,
   "metadata": {},
   "outputs": [],
   "source": [
    "plot = pybamm.QuickPlot(sims_SPM, time_unit='hours')"
   ]
  },
  {
   "cell_type": "code",
   "execution_count": 13,
   "metadata": {},
   "outputs": [
    {
     "data": {
      "application/vnd.jupyter.widget-view+json": {
       "model_id": "651157ae533646aeae2adb1ad4770a62",
       "version_major": 2,
       "version_minor": 0
      },
      "text/plain": [
       "interactive(children=(FloatSlider(value=0.0, description='t', max=29.97558585433252, step=0.2997558585433252),…"
      ]
     },
     "metadata": {},
     "output_type": "display_data"
    }
   ],
   "source": [
    "plot.dynamic_plot()"
   ]
  },
  {
   "cell_type": "code",
   "execution_count": 16,
   "metadata": {},
   "outputs": [
    {
     "data": {
      "text/plain": [
       "[<matplotlib.lines.Line2D at 0x7fb8895a95d0>]"
      ]
     },
     "execution_count": 16,
     "metadata": {},
     "output_type": "execute_result"
    },
    {
     "data": {
      "image/png": "[encoded data removed]",
      "text/plain": [
       "<Figure size 640x480 with 1 Axes>"
      ]
     },
     "metadata": {},
     "output_type": "display_data"
    }
   ],
   "source": [
    "plt.plot(sol[\"Time [h]\"].entries,\n",
    "         sol[\"X-averaged reaction overpotential [V]\"].entries)"
   ]
  },
  {
   "cell_type": "code",
   "execution_count": null,
   "metadata": {},
   "outputs": [],
   "source": []
  }
 ],
 "metadata": {
  "kernelspec": {
   "display_name": "env",
   "language": "python",
   "name": "python3"
  },
  "language_info": {
   "codemirror_mode": {
    "name": "ipython",
    "version": 3
   },
   "file_extension": ".py",
   "mimetype": "text/x-python",
   "name": "python",
   "nbconvert_exporter": "python",
   "pygments_lexer": "ipython3",
   "version": "3.10.12"
  }
 },
 "nbformat": 4,
 "nbformat_minor": 2
}
