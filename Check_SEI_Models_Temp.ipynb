{
 "cells": [
  {
   "cell_type": "code",
   "execution_count": 41,
   "metadata": {},
   "outputs": [],
   "source": [
    "import pybamm\n",
    "import numpy as np\n",
    "import matplotlib.pyplot as plt\n",
    "param = pybamm.ParameterValues(\"Chen2020\")\n",
    "# param = pybamm.ParameterValues(\"ORegan2022\")\n",
    "# param"
   ]
  },
  {
   "cell_type": "code",
   "execution_count": 42,
   "metadata": {},
   "outputs": [],
   "source": [
    "# param['Initial inner SEI thickness [m]'] = 0.5e-12\n",
    "# param['Initial outer SEI thickness [m]'] = 0.5e-12\n",
    "# param['Inner SEI open-circuit potential [V]'] = 0.3"
   ]
  },
  {
   "cell_type": "code",
   "execution_count": 43,
   "metadata": {},
   "outputs": [],
   "source": [
    "\n",
    "cycle_no = 1\n",
    "exp_CCCV = pybamm.Experiment(\n",
    "    [(\"Charge at C/10 until 4.2 V\",\n",
    "      \"Rest for 10 hours\",\n",
    "      \"Discharge at C/2 until 2.5 V\",\n",
    "      )] * cycle_no\n",
    ")"
   ]
  },
  {
   "cell_type": "code",
   "execution_count": 44,
   "metadata": {},
   "outputs": [],
   "source": [
    "from os import name\n",
    "\n",
    "\n",
    "sei_models = [\"interstitial-diffusion limited\"]\n",
    "\n",
    "# sei_models = [\"reaction limited\", \"solvent-diffusion limited\", \"interstitial-diffusion limited\"]\n",
    "# sei_models = [\"ec reaction limited\", \"reaction limited\"]\n",
    "# Diffferent SEI models can be used, by setting the index of sei_models\n",
    "\n",
    "\n",
    "name_models = [\"SPM\"]\n",
    "models_SPM = [pybamm.lithium_ion.SPM(options={\n",
    "    \"SEI\": sei_models[index],\n",
    "    \"SEI porosity change\": \"true\",\n",
    "},\n",
    "    name=\"SPM \" + sei_models[index]) for index in range(len(sei_models))\n",
    "]"
   ]
  },
  {
   "cell_type": "code",
   "execution_count": 45,
   "metadata": {},
   "outputs": [],
   "source": [
    "# models_SPM[0].variable_names()"
   ]
  },
  {
   "cell_type": "code",
   "execution_count": 46,
   "metadata": {},
   "outputs": [],
   "source": [
    "# please note that the size of sims will be equal to the number of models times the number of experiments\n",
    "solver = pybamm.CasadiSolver(mode=\"safe\")\n",
    "sims_SPM = [pybamm.Simulation(model, parameter_values=param,\n",
    "                              experiment=exp_CCCV, solver=solver) for model in models_SPM]"
   ]
  },
  {
   "cell_type": "markdown",
   "metadata": {},
   "source": [
    "Combine all solutions for the different SEI modesl in DFN and SPM and models in the list 'sols' Odd =DFN and Evens = SPM (unifrm diffusion in the particle)"
   ]
  },
  {
   "cell_type": "code",
   "execution_count": 47,
   "metadata": {},
   "outputs": [],
   "source": [
    "sols_SPM = [sim.solve(initial_soc=0) for sim in sims_SPM]"
   ]
  },
  {
   "cell_type": "code",
   "execution_count": 48,
   "metadata": {},
   "outputs": [],
   "source": [
    "# Vaiables to be postprocessed, you can add as many as output variables to the following list\n",
    "# you can find the list variables to be be output by typing model name dot varaible_name() e.g. here, models[0].variable_names()\n",
    "out_vars = [  # 'X-averaged negative particle surface concentration [mol.m-3]',\n",
    "    # \"Voltage [V]\",\n",
    "    'X-averaged SEI thickness [m]',\n",
    "    # 'Total capacity lost to side reactions [A.h]',\n",
    "    # 'Loss of lithium to SEI [mol]',\n",
    "    # 'X-averaged inner SEI thickness [m]',\n",
    "    # 'X-averaged outer SEI thickness [m]',\n",
    "    # 'X-averaged negative electrode porosity',\n",
    "]\n",
    "\n",
    "# Label for the output variables y-axis in the plots\n",
    "yaxis_labels = [\"SEI_thickness\",\n",
    "                'Total capacity lost to side reactions [A.h]', 'Total lithium in particles', 'X-averaged inner SEI thickness [m]',\n",
    "                'X-averaged outer SEI thickness [m]',]"
   ]
  },
  {
   "cell_type": "code",
   "execution_count": 49,
   "metadata": {},
   "outputs": [],
   "source": [
    "\n",
    "# from matplotlib import lines\n",
    "\n",
    "# for sol in sols_SPM:  # loop through the solutions of the DFN models\n",
    "#     LS_cycles = [sol.cycles[k].steps[2]['X-averaged SEI thickness [m]'].entries[-1]\n",
    "#                  for k in range(cycle_no)]\n",
    "#     plt.scatter(np.arange(1, cycle_no+1), LS_cycles,\n",
    "#                 label=models_SPM[sols_SPM.index(sol)].name)\n",
    "# plt.xlabel(\"Cycle number\")\n",
    "# plt.ylabel(\"SEI thickness [m]\")\n",
    "# plt.legend()\n",
    "# plt.show()"
   ]
  },
  {
   "cell_type": "code",
   "execution_count": 50,
   "metadata": {},
   "outputs": [
    {
     "data": {
      "image/png": "[encoded data removed]",
      "text/plain": [
       "<Figure size 640x480 with 1 Axes>"
      ]
     },
     "metadata": {},
     "output_type": "display_data"
    }
   ],
   "source": [
    "from matplotlib import lines\n",
    "\n",
    "\n",
    "for out_var in out_vars:  # Loop through the output variables\n",
    "    for sol in sols_SPM:  # loop through the solutions of the SPM models\n",
    "        plt.plot(sol['Time [h]'].entries, sol[out_var].entries,\n",
    "                 linestyle='--',\n",
    "                 label=models_SPM[sols_SPM.index(sol)].name)\n",
    "\n",
    "    plt.xlabel(\"Time [h]\")\n",
    "    plt.ylabel(yaxis_labels[out_vars.index(out_var)])\n",
    "    plt.legend()\n",
    "    plt.show()"
   ]
  },
  {
   "cell_type": "code",
   "execution_count": null,
   "metadata": {},
   "outputs": [],
   "source": []
  }
 ],
 "metadata": {
  "kernelspec": {
   "display_name": "env",
   "language": "python",
   "name": "python3"
  },
  "language_info": {
   "codemirror_mode": {
    "name": "ipython",
    "version": 3
   },
   "file_extension": ".py",
   "mimetype": "text/x-python",
   "name": "python",
   "nbconvert_exporter": "python",
   "pygments_lexer": "ipython3",
   "version": "3.10.12"
  }
 },
 "nbformat": 4,
 "nbformat_minor": 2
}
