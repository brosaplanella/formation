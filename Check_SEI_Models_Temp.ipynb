{
 "cells": [
  {
   "cell_type": "code",
   "execution_count": 1,
   "metadata": {},
   "outputs": [],
   "source": [
    "import pybamm\n",
    "import numpy as np\n",
    "import matplotlib.pyplot as plt\n",
    "param = pybamm.ParameterValues(\"Chen2020\")\n",
    "# param = pybamm.ParameterValues(\"ORegan2022\")\n",
    "# param"
   ]
  },
  {
   "cell_type": "code",
   "execution_count": 2,
   "metadata": {},
   "outputs": [],
   "source": [
    "# param['Initial inner SEI thickness [m]'] = 0.5e-12\n",
    "# param['Initial outer SEI thickness [m]'] = 0.5e-12\n",
    "# param['Inner SEI open-circuit potential [V]'] = 0.3"
   ]
  },
  {
   "cell_type": "code",
   "execution_count": 3,
   "metadata": {},
   "outputs": [],
   "source": [
    "\n",
    "cycle_no = 1\n",
    "exp_CCCV = pybamm.Experiment(\n",
    "    [(\"Charge at C/10 until 4.2 V\",\n",
    "      \"Rest for 10 hours\",\n",
    "      \"Discharge at C/2 until 2.5 V\",\n",
    "      )] * cycle_no\n",
    ")"
   ]
  },
  {
   "cell_type": "code",
   "execution_count": 4,
   "metadata": {},
   "outputs": [],
   "source": [
    "from os import name\n",
    "\n",
    "\n",
    "sei_models = [\"interstitial-diffusion limited\"]\n",
    "\n",
    "# sei_models = [\"reaction limited\", \"solvent-diffusion limited\", \"interstitial-diffusion limited\"]\n",
    "# sei_models = [\"ec reaction limited\", \"reaction limited\"]\n",
    "# Diffferent SEI models can be used, by setting the index of sei_models\n",
    "\n",
    "\n",
    "name_models = [\"SPM\"]\n",
    "models_SPM = [pybamm.lithium_ion.SPM(options={\n",
    "    \"SEI\": sei_models[index],\n",
    "    \"SEI porosity change\": \"true\",\n",
    "},\n",
    "    name=\"SPM \" + sei_models[index]) for index in range(len(sei_models))\n",
    "]"
   ]
  },
  {
   "cell_type": "code",
   "execution_count": 5,
   "metadata": {},
   "outputs": [],
   "source": [
    "# models_SPM[0].variable_names()"
   ]
  },
  {
   "cell_type": "code",
   "execution_count": 6,
   "metadata": {},
   "outputs": [],
   "source": [
    "# please note that the size of sims will be equal to the number of models times the number of experiments\n",
    "solver = pybamm.CasadiSolver(mode=\"safe\")\n",
    "sims_SPM = [pybamm.Simulation(model, parameter_values=param,\n",
    "                              experiment=exp_CCCV, solver=solver) for model in models_SPM]"
   ]
  },
  {
   "cell_type": "markdown",
   "metadata": {},
   "source": [
    "Combine all solutions for the different SEI modesl in DFN and SPM and models in the list 'sols' Odd =DFN and Evens = SPM (unifrm diffusion in the particle)"
   ]
  },
  {
   "cell_type": "code",
   "execution_count": 7,
   "metadata": {},
   "outputs": [],
   "source": [
    "sols_SPM = [sim.solve(initial_soc=0) for sim in sims_SPM]"
   ]
  },
  {
   "cell_type": "code",
   "execution_count": 8,
   "metadata": {},
   "outputs": [],
   "source": [
    "# Vaiables to be postprocessed, you can add as many as output variables to the following list\n",
    "# you can find the list variables to be be output by typing model name dot varaible_name() e.g. here, models[0].variable_names()\n",
    "out_vars = [  # 'X-averaged negative particle surface concentration [mol.m-3]',\n",
    "    # \"Voltage [V]\",\n",
    "    'X-averaged SEI thickness [m]',\n",
    "    # 'Total capacity lost to side reactions [A.h]',\n",
    "    # 'Loss of lithium to SEI [mol]',\n",
    "    # 'X-averaged inner SEI thickness [m]',\n",
    "    # 'X-averaged outer SEI thickness [m]',\n",
    "    # 'X-averaged negative electrode porosity',\n",
    "]\n",
    "\n",
    "# Label for the output variables y-axis in the plots\n",
    "yaxis_labels = [\"SEI_thickness\",\n",
    "                'Total capacity lost to side reactions [A.h]', 'Total lithium in particles', 'X-averaged negative SEI thickness [m]',\n",
    "                'X-averaged outer SEI thickness [m]',]"
   ]
  },
  {
   "cell_type": "code",
   "execution_count": 9,
   "metadata": {},
   "outputs": [],
   "source": [
    "\n",
    "# from matplotlib import lines\n",
    "\n",
    "# for sol in sols_SPM:  # loop through the solutions of the DFN models\n",
    "#     LS_cycles = [sol.cycles[k].steps[2]['X-averaged SEI thickness [m]'].entries[-1]\n",
    "#                  for k in range(cycle_no)]\n",
    "#     plt.scatter(np.arange(1, cycle_no+1), LS_cycles,\n",
    "#                 label=models_SPM[sols_SPM.index(sol)].name)\n",
    "# plt.xlabel(\"Cycle number\")\n",
    "# plt.ylabel(\"SEI thickness [m]\")\n",
    "# plt.legend()\n",
    "# plt.show()"
   ]
  },
  {
   "cell_type": "code",
   "execution_count": null,
   "metadata": {},
   "outputs": [],
   "source": []
  },
  {
   "cell_type": "code",
   "execution_count": 10,
   "metadata": {},
   "outputs": [
    {
     "ename": "KeyError",
     "evalue": "\"'X-averaged SEI thickness [m]' not found. Best matches are ['X-averaged positive SEI thickness [m]', 'X-averaged negative SEI thickness [m]', 'X-averaged positive total SEI thickness [m]']\"",
     "output_type": "error",
     "traceback": [
      "\u001b[0;31m---------------------------------------------------------------------------\u001b[0m",
      "\u001b[0;31mKeyError\u001b[0m                                  Traceback (most recent call last)",
      "File \u001b[0;32m~/Projects/my_pybamm_env/lib/python3.10/site-packages/pybamm/util.py:59\u001b[0m, in \u001b[0;36mFuzzyDict.__getitem__\u001b[0;34m(self, key)\u001b[0m\n\u001b[1;32m     58\u001b[0m \u001b[38;5;28;01mtry\u001b[39;00m:\n\u001b[0;32m---> 59\u001b[0m     \u001b[38;5;28;01mreturn\u001b[39;00m \u001b[38;5;28;43msuper\u001b[39;49m\u001b[43m(\u001b[49m\u001b[43m)\u001b[49m\u001b[38;5;241;43m.\u001b[39;49m\u001b[38;5;21;43m__getitem__\u001b[39;49m\u001b[43m(\u001b[49m\u001b[43mkey\u001b[49m\u001b[43m)\u001b[49m\n\u001b[1;32m     60\u001b[0m \u001b[38;5;28;01mexcept\u001b[39;00m \u001b[38;5;167;01mKeyError\u001b[39;00m:\n",
      "\u001b[0;31mKeyError\u001b[0m: 'X-averaged SEI thickness [m]'",
      "\nDuring handling of the above exception, another exception occurred:\n",
      "\u001b[0;31mKeyError\u001b[0m                                  Traceback (most recent call last)",
      "Cell \u001b[0;32mIn[10], line 6\u001b[0m\n\u001b[1;32m      4\u001b[0m \u001b[38;5;28;01mfor\u001b[39;00m out_var \u001b[38;5;129;01min\u001b[39;00m out_vars:  \u001b[38;5;66;03m# Loop through the output variables\u001b[39;00m\n\u001b[1;32m      5\u001b[0m     \u001b[38;5;28;01mfor\u001b[39;00m sol \u001b[38;5;129;01min\u001b[39;00m sols_SPM:  \u001b[38;5;66;03m# loop through the solutions of the SPM models\u001b[39;00m\n\u001b[0;32m----> 6\u001b[0m         plt\u001b[38;5;241m.\u001b[39mplot(sol[\u001b[38;5;124m'\u001b[39m\u001b[38;5;124mTime [h]\u001b[39m\u001b[38;5;124m'\u001b[39m]\u001b[38;5;241m.\u001b[39mentries, \u001b[43msol\u001b[49m\u001b[43m[\u001b[49m\u001b[43mout_var\u001b[49m\u001b[43m]\u001b[49m\u001b[38;5;241m.\u001b[39mentries,\n\u001b[1;32m      7\u001b[0m                  linestyle\u001b[38;5;241m=\u001b[39m\u001b[38;5;124m'\u001b[39m\u001b[38;5;124m--\u001b[39m\u001b[38;5;124m'\u001b[39m,\n\u001b[1;32m      8\u001b[0m                  label\u001b[38;5;241m=\u001b[39mmodels_SPM[sols_SPM\u001b[38;5;241m.\u001b[39mindex(sol)]\u001b[38;5;241m.\u001b[39mname)\n\u001b[1;32m     10\u001b[0m     plt\u001b[38;5;241m.\u001b[39mxlabel(\u001b[38;5;124m\"\u001b[39m\u001b[38;5;124mTime [h]\u001b[39m\u001b[38;5;124m\"\u001b[39m)\n\u001b[1;32m     11\u001b[0m     plt\u001b[38;5;241m.\u001b[39mylabel(yaxis_labels[out_vars\u001b[38;5;241m.\u001b[39mindex(out_var)])\n",
      "File \u001b[0;32m~/Projects/my_pybamm_env/lib/python3.10/site-packages/pybamm/solvers/solution.py:543\u001b[0m, in \u001b[0;36mSolution.__getitem__\u001b[0;34m(self, key)\u001b[0m\n\u001b[1;32m    540\u001b[0m     \u001b[38;5;28;01mreturn\u001b[39;00m \u001b[38;5;28mself\u001b[39m\u001b[38;5;241m.\u001b[39m_variables[key]\n\u001b[1;32m    541\u001b[0m \u001b[38;5;28;01melse\u001b[39;00m:\n\u001b[1;32m    542\u001b[0m     \u001b[38;5;66;03m# otherwise create it, save it and then return it\u001b[39;00m\n\u001b[0;32m--> 543\u001b[0m     \u001b[38;5;28;43mself\u001b[39;49m\u001b[38;5;241;43m.\u001b[39;49m\u001b[43mupdate\u001b[49m\u001b[43m(\u001b[49m\u001b[43mkey\u001b[49m\u001b[43m)\u001b[49m\n\u001b[1;32m    544\u001b[0m     \u001b[38;5;28;01mreturn\u001b[39;00m \u001b[38;5;28mself\u001b[39m\u001b[38;5;241m.\u001b[39m_variables[key]\n",
      "File \u001b[0;32m~/Projects/my_pybamm_env/lib/python3.10/site-packages/pybamm/solvers/solution.py:474\u001b[0m, in \u001b[0;36mSolution.update\u001b[0;34m(self, variables)\u001b[0m\n\u001b[1;32m    472\u001b[0m cumtrapz_ic \u001b[38;5;241m=\u001b[39m \u001b[38;5;28;01mNone\u001b[39;00m\n\u001b[1;32m    473\u001b[0m pybamm\u001b[38;5;241m.\u001b[39mlogger\u001b[38;5;241m.\u001b[39mdebug(\u001b[38;5;124m\"\u001b[39m\u001b[38;5;124mPost-processing \u001b[39m\u001b[38;5;132;01m{}\u001b[39;00m\u001b[38;5;124m\"\u001b[39m\u001b[38;5;241m.\u001b[39mformat(key))\n\u001b[0;32m--> 474\u001b[0m vars_pybamm \u001b[38;5;241m=\u001b[39m [model\u001b[38;5;241m.\u001b[39mvariables_and_events[key] \u001b[38;5;28;01mfor\u001b[39;00m model \u001b[38;5;129;01min\u001b[39;00m \u001b[38;5;28mself\u001b[39m\u001b[38;5;241m.\u001b[39mall_models]\n\u001b[1;32m    476\u001b[0m \u001b[38;5;66;03m# Iterate through all models, some may be in the list several times and\u001b[39;00m\n\u001b[1;32m    477\u001b[0m \u001b[38;5;66;03m# therefore only get set up once\u001b[39;00m\n\u001b[1;32m    478\u001b[0m vars_casadi \u001b[38;5;241m=\u001b[39m []\n",
      "File \u001b[0;32m~/Projects/my_pybamm_env/lib/python3.10/site-packages/pybamm/solvers/solution.py:474\u001b[0m, in \u001b[0;36m<listcomp>\u001b[0;34m(.0)\u001b[0m\n\u001b[1;32m    472\u001b[0m cumtrapz_ic \u001b[38;5;241m=\u001b[39m \u001b[38;5;28;01mNone\u001b[39;00m\n\u001b[1;32m    473\u001b[0m pybamm\u001b[38;5;241m.\u001b[39mlogger\u001b[38;5;241m.\u001b[39mdebug(\u001b[38;5;124m\"\u001b[39m\u001b[38;5;124mPost-processing \u001b[39m\u001b[38;5;132;01m{}\u001b[39;00m\u001b[38;5;124m\"\u001b[39m\u001b[38;5;241m.\u001b[39mformat(key))\n\u001b[0;32m--> 474\u001b[0m vars_pybamm \u001b[38;5;241m=\u001b[39m [\u001b[43mmodel\u001b[49m\u001b[38;5;241;43m.\u001b[39;49m\u001b[43mvariables_and_events\u001b[49m\u001b[43m[\u001b[49m\u001b[43mkey\u001b[49m\u001b[43m]\u001b[49m \u001b[38;5;28;01mfor\u001b[39;00m model \u001b[38;5;129;01min\u001b[39;00m \u001b[38;5;28mself\u001b[39m\u001b[38;5;241m.\u001b[39mall_models]\n\u001b[1;32m    476\u001b[0m \u001b[38;5;66;03m# Iterate through all models, some may be in the list several times and\u001b[39;00m\n\u001b[1;32m    477\u001b[0m \u001b[38;5;66;03m# therefore only get set up once\u001b[39;00m\n\u001b[1;32m    478\u001b[0m vars_casadi \u001b[38;5;241m=\u001b[39m []\n",
      "File \u001b[0;32m~/Projects/my_pybamm_env/lib/python3.10/site-packages/pybamm/util.py:95\u001b[0m, in \u001b[0;36mFuzzyDict.__getitem__\u001b[0;34m(self, key)\u001b[0m\n\u001b[1;32m     91\u001b[0m     \u001b[38;5;28;01mif\u001b[39;00m key \u001b[38;5;129;01min\u001b[39;00m k \u001b[38;5;129;01mand\u001b[39;00m k\u001b[38;5;241m.\u001b[39mendswith(\u001b[38;5;124m\"\u001b[39m\u001b[38;5;124m]\u001b[39m\u001b[38;5;124m\"\u001b[39m):\n\u001b[1;32m     92\u001b[0m         \u001b[38;5;28;01mraise\u001b[39;00m \u001b[38;5;167;01mKeyError\u001b[39;00m(\n\u001b[1;32m     93\u001b[0m             \u001b[38;5;124mf\u001b[39m\u001b[38;5;124m\"\u001b[39m\u001b[38;5;124m'\u001b[39m\u001b[38;5;132;01m{\u001b[39;00mkey\u001b[38;5;132;01m}\u001b[39;00m\u001b[38;5;124m'\u001b[39m\u001b[38;5;124m not found. Use the dimensional version \u001b[39m\u001b[38;5;124m'\u001b[39m\u001b[38;5;132;01m{\u001b[39;00mk\u001b[38;5;132;01m}\u001b[39;00m\u001b[38;5;124m'\u001b[39m\u001b[38;5;124m instead.\u001b[39m\u001b[38;5;124m\"\u001b[39m\n\u001b[1;32m     94\u001b[0m         )\n\u001b[0;32m---> 95\u001b[0m \u001b[38;5;28;01mraise\u001b[39;00m \u001b[38;5;167;01mKeyError\u001b[39;00m(\u001b[38;5;124mf\u001b[39m\u001b[38;5;124m\"\u001b[39m\u001b[38;5;124m'\u001b[39m\u001b[38;5;132;01m{\u001b[39;00mkey\u001b[38;5;132;01m}\u001b[39;00m\u001b[38;5;124m'\u001b[39m\u001b[38;5;124m not found. Best matches are \u001b[39m\u001b[38;5;132;01m{\u001b[39;00mbest_matches\u001b[38;5;132;01m}\u001b[39;00m\u001b[38;5;124m\"\u001b[39m)\n",
      "\u001b[0;31mKeyError\u001b[0m: \"'X-averaged SEI thickness [m]' not found. Best matches are ['X-averaged positive SEI thickness [m]', 'X-averaged negative SEI thickness [m]', 'X-averaged positive total SEI thickness [m]']\""
     ]
    }
   ],
   "source": [
    "from matplotlib import lines\n",
    "\n",
    "\n",
    "for out_var in out_vars:  # Loop through the output variables\n",
    "    for sol in sols_SPM:  # loop through the solutions of the SPM models\n",
    "        plt.plot(sol['Time [h]'].entries, sol[out_var].entries,\n",
    "                 linestyle='--',\n",
    "                 label=models_SPM[sols_SPM.index(sol)].name)\n",
    "\n",
    "    plt.xlabel(\"Time [h]\")\n",
    "    plt.ylabel(yaxis_labels[out_vars.index(out_var)])\n",
    "    plt.legend()\n",
    "    plt.show()"
   ]
  },
  {
   "cell_type": "code",
   "execution_count": null,
   "metadata": {},
   "outputs": [],
   "source": []
  }
 ],
 "metadata": {
  "kernelspec": {
   "display_name": "env",
   "language": "python",
   "name": "python3"
  },
  "language_info": {
   "codemirror_mode": {
    "name": "ipython",
    "version": 3
   },
   "file_extension": ".py",
   "mimetype": "text/x-python",
   "name": "python",
   "nbconvert_exporter": "python",
   "pygments_lexer": "ipython3",
   "version": "3.10.12"
  }
 },
 "nbformat": 4,
 "nbformat_minor": 2
}
